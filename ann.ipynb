{
 "cells": [
  {
   "cell_type": "code",
   "execution_count": 7,
   "id": "b4f2cbe0-704f-4fa5-b6b2-7a2e04d43d6b",
   "metadata": {},
   "outputs": [],
   "source": [
    "import numpy as np\n",
    "from sklearn.datasets import load_digits\n",
    "from sklearn.preprocessing import StandardScaler\n",
    "from sklearn.model_selection import train_test_split\n",
    "from sklearn.preprocessing import OneHotEncoder\n",
    "\n",
    "data, labels = load_digits(return_X_y=True)\n",
    "(n_samples, n_features), n_digits = data.shape, np.unique(labels).size\n",
    "\n",
    "enc = OneHotEncoder(handle_unknown='ignore',sparse=False)\n",
    "labels = enc.fit_transform(labels.reshape(labels.shape[0],1) )\n",
    "# X = scaler.transform(data)"
   ]
  },
  {
   "cell_type": "code",
   "execution_count": 8,
   "id": "0fbe6f95-262c-4100-b434-63e2f3693dea",
   "metadata": {},
   "outputs": [],
   "source": [
    "X_train, X_test, y_train, y_test = train_test_split(data, labels, test_size=0.2, random_state=0, stratify=labels)"
   ]
  },
  {
   "cell_type": "code",
   "execution_count": 9,
   "id": "4cfa251b-3807-4956-b12d-752d7803b1ba",
   "metadata": {},
   "outputs": [
    {
     "name": "stdout",
     "output_type": "stream",
     "text": [
      "(1437, 64) (360, 64) (1437, 10) (360, 10)\n"
     ]
    }
   ],
   "source": [
    "print(X_train.shape, X_test.shape, y_train.shape, y_test.shape)"
   ]
  },
  {
   "cell_type": "code",
   "execution_count": 11,
   "id": "67aabbc4-216d-40df-a883-c5ccc7fe6294",
   "metadata": {},
   "outputs": [],
   "source": [
    "scaler = StandardScaler()\n",
    "X_train = scaler.fit_transform(X_train)\n",
    "X_test = scaler.transform(X_test)"
   ]
  },
  {
   "cell_type": "code",
   "execution_count": 12,
   "id": "9b9249ea-99a0-4762-a3cc-4c7ceb8392b5",
   "metadata": {
    "collapsed": true,
    "jupyter": {
     "outputs_hidden": true
    },
    "tags": []
   },
   "outputs": [
    {
     "name": "stderr",
     "output_type": "stream",
     "text": [
      "2023-04-10 09:53:58.212500: I tensorflow/core/platform/cpu_feature_guard.cc:193] This TensorFlow binary is optimized with oneAPI Deep Neural Network Library (oneDNN) to use the following CPU instructions in performance-critical operations:  AVX2 FMA\n",
      "To enable them in other operations, rebuild TensorFlow with the appropriate compiler flags.\n",
      "2023-04-10 09:53:59.248802: W tensorflow/compiler/xla/stream_executor/platform/default/dso_loader.cc:64] Could not load dynamic library 'libnvinfer.so.7'; dlerror: libnvinfer.so.7: cannot open shared object file: No such file or directory; LD_LIBRARY_PATH: /usr/local/cuda/lib64:/usr/local/nccl2/lib:/usr/local/cuda/extras/CUPTI/lib64\n",
      "2023-04-10 09:53:59.248897: W tensorflow/compiler/xla/stream_executor/platform/default/dso_loader.cc:64] Could not load dynamic library 'libnvinfer_plugin.so.7'; dlerror: libnvinfer_plugin.so.7: cannot open shared object file: No such file or directory; LD_LIBRARY_PATH: /usr/local/cuda/lib64:/usr/local/nccl2/lib:/usr/local/cuda/extras/CUPTI/lib64\n",
      "2023-04-10 09:53:59.248910: W tensorflow/compiler/tf2tensorrt/utils/py_utils.cc:38] TF-TRT Warning: Cannot dlopen some TensorRT libraries. If you would like to use Nvidia GPU with TensorRT, please make sure the missing libraries mentioned above are installed properly.\n"
     ]
    }
   ],
   "source": [
    "import tensorflow as tf\n",
    "from tensorflow.keras import Sequential\n",
    "from tensorflow.keras.layers import Dense, Input, concatenate\n",
    "from tensorflow.keras.models import Model"
   ]
  },
  {
   "cell_type": "code",
   "execution_count": 26,
   "id": "38cb1691-9676-4f87-a01a-2b4f182e9bed",
   "metadata": {},
   "outputs": [],
   "source": [
    "model = Sequential([\n",
    "    Dense(units=25, activation='relu'),\n",
    "    Dense(units=15, activation='relu'),\n",
    "    Dense(units=10, activation='softmax')\n",
    "])"
   ]
  },
  {
   "cell_type": "code",
   "execution_count": 18,
   "id": "d5fab731-dbd2-437c-be40-f26d798911e6",
   "metadata": {},
   "outputs": [],
   "source": [
    "from tensorflow.keras.losses import CategoricalCrossentropy"
   ]
  },
  {
   "cell_type": "code",
   "execution_count": 27,
   "id": "cc5ee885-c55b-439b-a4da-06c70f424da8",
   "metadata": {},
   "outputs": [
    {
     "name": "stdout",
     "output_type": "stream",
     "text": [
      "Epoch 1/10\n",
      "72/72 [==============================] - 1s 2ms/step - loss: 1.9796\n",
      "Epoch 2/10\n",
      "72/72 [==============================] - 0s 2ms/step - loss: 1.3017\n",
      "Epoch 3/10\n",
      "72/72 [==============================] - 0s 2ms/step - loss: 0.8575\n",
      "Epoch 4/10\n",
      "72/72 [==============================] - 0s 2ms/step - loss: 0.5811\n",
      "Epoch 5/10\n",
      "72/72 [==============================] - 0s 2ms/step - loss: 0.4091\n",
      "Epoch 6/10\n",
      "72/72 [==============================] - 0s 2ms/step - loss: 0.3028\n",
      "Epoch 7/10\n",
      "72/72 [==============================] - 0s 2ms/step - loss: 0.2331\n",
      "Epoch 8/10\n",
      "72/72 [==============================] - 0s 2ms/step - loss: 0.1857\n",
      "Epoch 9/10\n",
      "72/72 [==============================] - 0s 2ms/step - loss: 0.1526\n",
      "Epoch 10/10\n",
      "72/72 [==============================] - 0s 2ms/step - loss: 0.1254\n"
     ]
    },
    {
     "data": {
      "text/plain": [
       "<keras.callbacks.History at 0x7f4c6c7f0dd0>"
      ]
     },
     "execution_count": 27,
     "metadata": {},
     "output_type": "execute_result"
    }
   ],
   "source": [
    "model.compile(loss=CategoricalCrossentropy())\n",
    "model.fit(X_train, y_train, batch_size=20, epochs=10)"
   ]
  },
  {
   "cell_type": "code",
   "execution_count": 28,
   "id": "718c949e-62e7-450e-82b4-f83e25d14252",
   "metadata": {},
   "outputs": [
    {
     "name": "stdout",
     "output_type": "stream",
     "text": [
      "12/12 [==============================] - 0s 1ms/step\n"
     ]
    },
    {
     "data": {
      "text/plain": [
       "array([[0.4716542 , 0.5456451 , 0.38670966, ..., 0.6715771 , 0.49506453,\n",
       "        0.03549017],\n",
       "       [0.37434798, 0.5435892 , 0.35588995, ..., 0.22471304, 0.824395  ,\n",
       "        0.99692243],\n",
       "       [0.30191714, 0.58843106, 0.26564276, ..., 0.2392191 , 0.17644875,\n",
       "        0.6468081 ],\n",
       "       ...,\n",
       "       [0.34760296, 0.85963005, 0.99870396, ..., 0.34278375, 0.3909495 ,\n",
       "        0.1982011 ],\n",
       "       [0.24925312, 0.89489186, 0.99904996, ..., 0.20015739, 0.44249323,\n",
       "        0.21522677],\n",
       "       [0.04138259, 0.9155792 , 0.16950019, ..., 0.27055612, 0.9921638 ,\n",
       "        0.8869316 ]], dtype=float32)"
      ]
     },
     "execution_count": 28,
     "metadata": {},
     "output_type": "execute_result"
    }
   ],
   "source": [
    "model.predict(X_test,)"
   ]
  },
  {
   "cell_type": "code",
   "execution_count": 29,
   "id": "7eca00da-d056-4202-84f3-615b7ea394e6",
   "metadata": {},
   "outputs": [
    {
     "name": "stdout",
     "output_type": "stream",
     "text": [
      "12/12 [==============================] - 0s 1ms/step\n"
     ]
    }
   ],
   "source": [
    "y_pred = np.argmax(model.predict(X_test,), axis=1)"
   ]
  },
  {
   "cell_type": "code",
   "execution_count": 30,
   "id": "34f5fb4e-3ce5-401f-b482-3e1a668cd1a0",
   "metadata": {},
   "outputs": [
    {
     "data": {
      "text/plain": [
       "array([6, 9, 3, 2, 4, 7, 6, 4, 1, 0, 8, 8, 1, 9, 6, 6, 1, 7, 0, 0, 1, 6,\n",
       "       1, 0, 6, 8, 2, 0, 7, 4, 5, 4, 7, 2, 8, 7, 4, 9, 3, 2, 6, 9, 7, 1,\n",
       "       0, 1, 3, 5, 7, 9, 5, 2, 0, 9, 4, 3, 8, 6, 3, 2, 0, 5, 0, 6, 6, 7,\n",
       "       9, 6, 3, 2, 6, 0, 2, 2, 4, 0, 5, 1, 9, 7, 1, 0, 7, 1, 1, 1, 7, 0,\n",
       "       4, 5, 4, 1, 5, 8, 5, 4, 9, 1, 2, 4, 4, 9, 8, 7, 6, 3, 2, 5, 1, 0,\n",
       "       7, 3, 4, 5, 7, 8, 0, 3, 8, 0, 8, 8, 1, 6, 2, 3, 0, 3, 4, 9, 9, 2,\n",
       "       8, 3, 5, 0, 1, 4, 0, 1, 6, 9, 0, 6, 5, 8, 3, 9, 3, 9, 7, 2, 5, 6,\n",
       "       6, 4, 9, 4, 3, 1, 9, 6, 0, 7, 8, 7, 4, 4, 7, 9, 3, 4, 8, 9, 0, 6,\n",
       "       8, 6, 3, 1, 1, 5, 7, 6, 3, 2, 5, 4, 5, 3, 1, 3, 8, 5, 4, 8, 1, 1,\n",
       "       5, 0, 6, 2, 2, 5, 8, 3, 5, 8, 6, 3, 2, 9, 0, 4, 2, 1, 1, 2, 2, 3,\n",
       "       4, 4, 3, 5, 3, 8, 0, 4, 8, 5, 8, 3, 7, 9, 4, 1, 2, 1, 9, 3, 2, 9,\n",
       "       7, 0, 7, 8, 9, 8, 4, 2, 2, 7, 2, 1, 1, 7, 7, 3, 9, 5, 5, 8, 5, 0,\n",
       "       0, 5, 2, 9, 6, 4, 6, 3, 7, 2, 0, 7, 7, 0, 6, 5, 1, 2, 3, 1, 6, 7,\n",
       "       5, 5, 2, 9, 3, 2, 3, 7, 0, 7, 2, 1, 8, 5, 4, 3, 5, 8, 9, 4, 8, 7,\n",
       "       9, 1, 6, 8, 0, 0, 7, 3, 2, 1, 9, 6, 4, 6, 0, 0, 1, 7, 2, 5, 4, 5,\n",
       "       1, 4, 6, 5, 9, 8, 4, 9, 6, 8, 7, 9, 9, 1, 4, 1, 9, 9, 4, 6, 9, 5,\n",
       "       9, 5, 8, 0, 7, 2, 2, 8])"
      ]
     },
     "execution_count": 30,
     "metadata": {},
     "output_type": "execute_result"
    }
   ],
   "source": [
    "y_pred"
   ]
  },
  {
   "cell_type": "code",
   "execution_count": 31,
   "id": "8f93b236-d3aa-40f3-b716-2681478a931d",
   "metadata": {},
   "outputs": [],
   "source": [
    "from sklearn.metrics import accuracy_score"
   ]
  },
  {
   "cell_type": "code",
   "execution_count": 32,
   "id": "f0bafb08-a9d8-4a0e-8610-ac25009a8416",
   "metadata": {},
   "outputs": [
    {
     "data": {
      "text/plain": [
       "0.9555555555555556"
      ]
     },
     "execution_count": 32,
     "metadata": {},
     "output_type": "execute_result"
    }
   ],
   "source": [
    "accuracy_score(y_pred, enc.inverse_transform(y_test))"
   ]
  },
  {
   "cell_type": "code",
   "execution_count": 40,
   "id": "46c87a6a-71d1-4a94-89d9-c2d8c9295273",
   "metadata": {},
   "outputs": [],
   "source": [
    "inp = Input(shape=X_train.shape[1], name='Input_Layer')\n",
    "layer1 = Dense(units=25, activation='relu', name='First_Layer')(inp)\n",
    "layer21 = Dense(units=15, activation='relu', name='21_Layer')(layer1)\n",
    "layer22 = Dense(units=15, activation='relu', name='22_Layer')(layer1)\n",
    "layer2 = concatenate([layer21, layer22])\n",
    "output_layer = Dense(units=10, activation='softmax', name='Output_Layer')(layer2)"
   ]
  },
  {
   "cell_type": "code",
   "execution_count": 41,
   "id": "6daf69e8-4be0-4299-97a8-d696e606d922",
   "metadata": {},
   "outputs": [],
   "source": [
    "model = Model(inputs=[inp], outputs=[output_layer])\n",
    "model.compile(\n",
    "    loss=CategoricalCrossentropy()\n",
    ")"
   ]
  },
  {
   "cell_type": "code",
   "execution_count": 42,
   "id": "cceb5c97-d7e5-4381-959f-d42d3f46c812",
   "metadata": {},
   "outputs": [
    {
     "name": "stdout",
     "output_type": "stream",
     "text": [
      "Epoch 1/10\n",
      "72/72 [==============================] - 1s 3ms/step - loss: 1.9550\n",
      "Epoch 2/10\n",
      "72/72 [==============================] - 0s 2ms/step - loss: 1.1666\n",
      "Epoch 3/10\n",
      "72/72 [==============================] - 0s 3ms/step - loss: 0.6133\n",
      "Epoch 4/10\n",
      "72/72 [==============================] - 0s 3ms/step - loss: 0.3568\n",
      "Epoch 5/10\n",
      "72/72 [==============================] - 0s 2ms/step - loss: 0.2461\n",
      "Epoch 6/10\n",
      "72/72 [==============================] - 0s 3ms/step - loss: 0.1851\n",
      "Epoch 7/10\n",
      "72/72 [==============================] - 0s 2ms/step - loss: 0.1446\n",
      "Epoch 8/10\n",
      "72/72 [==============================] - 0s 2ms/step - loss: 0.1173\n",
      "Epoch 9/10\n",
      "72/72 [==============================] - 0s 2ms/step - loss: 0.0958\n",
      "Epoch 10/10\n",
      "72/72 [==============================] - 0s 2ms/step - loss: 0.0793\n"
     ]
    },
    {
     "data": {
      "text/plain": [
       "<keras.callbacks.History at 0x7f4c6c429810>"
      ]
     },
     "execution_count": 42,
     "metadata": {},
     "output_type": "execute_result"
    }
   ],
   "source": [
    "model.fit(X_train, y_train, batch_size=20, epochs=10)"
   ]
  },
  {
   "cell_type": "code",
   "execution_count": 43,
   "id": "6e5514de-4aa4-488d-ab6d-34880eda46c8",
   "metadata": {},
   "outputs": [
    {
     "name": "stdout",
     "output_type": "stream",
     "text": [
      "12/12 [==============================] - 0s 1ms/step\n"
     ]
    },
    {
     "data": {
      "text/plain": [
       "0.9611111111111111"
      ]
     },
     "execution_count": 43,
     "metadata": {},
     "output_type": "execute_result"
    }
   ],
   "source": [
    "y_pred = np.argmax(model.predict(X_test,), axis=1)\n",
    "accuracy_score(y_pred, enc.inverse_transform(y_test))"
   ]
  },
  {
   "cell_type": "code",
   "execution_count": 33,
   "id": "4219c122-d08c-4654-9a1b-ab92815202b9",
   "metadata": {},
   "outputs": [],
   "source": [
    "from tensorflow.keras.utils import plot_model"
   ]
  },
  {
   "cell_type": "code",
   "execution_count": 44,
   "id": "07a81e31-1cbd-4cb6-8e64-89b838e7d318",
   "metadata": {},
   "outputs": [
    {
     "data": {
      "image/png": "[encoded data removed]",
      "text/plain": [
       "<IPython.core.display.Image object>"
      ]
     },
     "execution_count": 44,
     "metadata": {},
     "output_type": "execute_result"
    }
   ],
   "source": [
    "plot_model(model, to_file=\"test.png\", show_shapes=True)"
   ]
  },
  {
   "cell_type": "code",
   "execution_count": 45,
   "id": "b3b5b3b7-bea2-4032-add0-2f159771ae06",
   "metadata": {},
   "outputs": [
    {
     "name": "stdout",
     "output_type": "stream",
     "text": [
      "Model: \"model_1\"\n",
      "__________________________________________________________________________________________________\n",
      " Layer (type)                   Output Shape         Param #     Connected to                     \n",
      "==================================================================================================\n",
      " Input_Layer (InputLayer)       [(None, 64)]         0           []                               \n",
      "                                                                                                  \n",
      " First_Layer (Dense)            (None, 25)           1625        ['Input_Layer[0][0]']            \n",
      "                                                                                                  \n",
      " 21_Layer (Dense)               (None, 15)           390         ['First_Layer[0][0]']            \n",
      "                                                                                                  \n",
      " 22_Layer (Dense)               (None, 15)           390         ['First_Layer[0][0]']            \n",
      "                                                                                                  \n",
      " concatenate (Concatenate)      (None, 30)           0           ['21_Layer[0][0]',               \n",
      "                                                                  '22_Layer[0][0]']               \n",
      "                                                                                                  \n",
      " Output_Layer (Dense)           (None, 10)           310         ['concatenate[0][0]']            \n",
      "                                                                                                  \n",
      "==================================================================================================\n",
      "Total params: 2,715\n",
      "Trainable params: 2,715\n",
      "Non-trainable params: 0\n",
      "__________________________________________________________________________________________________\n"
     ]
    }
   ],
   "source": [
    "model.summary()"
   ]
  },
  {
   "cell_type": "code",
   "execution_count": null,
   "id": "6f6de883-61c5-4b92-a6b9-17e235bea456",
   "metadata": {},
   "outputs": [],
   "source": []
  }
 ],
 "metadata": {
  "environment": {
   "kernel": "python3",
   "name": "tf2-gpu.2-10.m102",
   "type": "gcloud",
   "uri": "gcr.io/deeplearning-platform-release/tf2-gpu.2-10:m102"
  },
  "kernelspec": {
   "display_name": "Python 3 (ipykernel)",
   "language": "python",
   "name": "python3"
  },
  "language_info": {
   "codemirror_mode": {
    "name": "ipython",
    "version": 3
   },
   "file_extension": ".py",
   "mimetype": "text/x-python",
   "name": "python",
   "nbconvert_exporter": "python",
   "pygments_lexer": "ipython3",
   "version": "3.7.12"
  }
 },
 "nbformat": 4,
 "nbformat_minor": 5
}
