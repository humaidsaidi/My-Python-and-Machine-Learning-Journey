{
 "cells": [
  {
   "cell_type": "code",
   "execution_count": 113,
   "id": "24b2b4c4",
   "metadata": {},
   "outputs": [],
   "source": [
    "import numpy as np\n",
    "import sys"
   ]
  },
  {
   "cell_type": "markdown",
   "id": "b869ece0",
   "metadata": {},
   "source": [
    "# Dasar"
   ]
  },
  {
   "cell_type": "code",
   "execution_count": 12,
   "id": "67264c6d",
   "metadata": {},
   "outputs": [
    {
     "name": "stdout",
     "output_type": "stream",
     "text": [
      "[1 2 3]\n"
     ]
    }
   ],
   "source": [
    "a = np.array([1, 2, 3], dtype='int32') #array 1 dimensi. Kita bisa menentukan tipe data dan ukuran yang akan\n",
    "                                       #digunakan array dengan cara, menambah parameter dtype='ukuran&tipeData'\n",
    "print(a)"
   ]
  },
  {
   "cell_type": "code",
   "execution_count": 4,
   "id": "fe80957d",
   "metadata": {},
   "outputs": [
    {
     "name": "stdout",
     "output_type": "stream",
     "text": [
      "[[9. 8. 7.]\n",
      " [6. 5. 4.]]\n"
     ]
    }
   ],
   "source": [
    "b = np.array([[9.0, 8.0, 7.0], [6.0, 5.0, 4.0]]) #array 2 dimensi\n",
    "print(b)"
   ]
  },
  {
   "cell_type": "markdown",
   "id": "4e4302c4",
   "metadata": {},
   "source": [
    "## Mengecek Dimensi dari Array Numpy"
   ]
  },
  {
   "cell_type": "code",
   "execution_count": 6,
   "id": "146ca38e",
   "metadata": {},
   "outputs": [
    {
     "name": "stdout",
     "output_type": "stream",
     "text": [
      "1\n",
      "2\n"
     ]
    }
   ],
   "source": [
    "#mengecek dimensi dari array numpy\n",
    "print(a.ndim)\n",
    "print(b.ndim)"
   ]
  },
  {
   "cell_type": "markdown",
   "id": "a502bb29",
   "metadata": {},
   "source": [
    "## Mengecek Bentuk Array (berapa kali berapa)"
   ]
  },
  {
   "cell_type": "code",
   "execution_count": 7,
   "id": "c141c72f",
   "metadata": {},
   "outputs": [
    {
     "name": "stdout",
     "output_type": "stream",
     "text": [
      "(3,)\n",
      "(2, 3)\n"
     ]
    }
   ],
   "source": [
    "#mengecek bentuk array (berapa kali berapa)\n",
    "print(a.shape)\n",
    "print(b.shape)"
   ]
  },
  {
   "cell_type": "markdown",
   "id": "fbfd6877",
   "metadata": {},
   "source": [
    "## Mengecek Berapa Banyak Memory yang Digunakan Array Sekaligus Tipe Datanya (dalam bit)"
   ]
  },
  {
   "cell_type": "code",
   "execution_count": 13,
   "id": "d1d4d9d5",
   "metadata": {},
   "outputs": [
    {
     "name": "stdout",
     "output_type": "stream",
     "text": [
      "int32\n",
      "float64\n"
     ]
    }
   ],
   "source": [
    "#mengecek berapa banyak memory yang digunakan array sekaligus tipe datanya(dalam bit, dan 1 byte = 8 bit)\n",
    "print(a.dtype) #outputnya int32 karena saat pembuatan array kita sudah menentukan tipe dan ukurannya\n",
    "print(b.dtype)"
   ]
  },
  {
   "cell_type": "markdown",
   "id": "1519693b",
   "metadata": {},
   "source": [
    "## Mengecek Ukuran Memory yang Digunakan Array (dalam byte)"
   ]
  },
  {
   "cell_type": "code",
   "execution_count": 14,
   "id": "3c4f7f79",
   "metadata": {},
   "outputs": [
    {
     "name": "stdout",
     "output_type": "stream",
     "text": [
      "4\n",
      "8\n"
     ]
    }
   ],
   "source": [
    "#mengecek ukuran memory yang digunakan array (dalam byte)\n",
    "print(a.itemsize)\n",
    "print(b.itemsize)"
   ]
  },
  {
   "cell_type": "markdown",
   "id": "049cc94d",
   "metadata": {},
   "source": [
    "## Mengecek Berapa Banyak Elemen di Dalam Array"
   ]
  },
  {
   "cell_type": "code",
   "execution_count": 15,
   "id": "e70f97e4",
   "metadata": {},
   "outputs": [
    {
     "name": "stdout",
     "output_type": "stream",
     "text": [
      "3\n",
      "6\n"
     ]
    }
   ],
   "source": [
    "#mengecek berapa banyak elemen di dalam array\n",
    "print(a.size)\n",
    "print(b.size)"
   ]
  },
  {
   "cell_type": "markdown",
   "id": "09c6bd0f",
   "metadata": {},
   "source": [
    "## Mengecek Ukuran Total Array"
   ]
  },
  {
   "cell_type": "code",
   "execution_count": 17,
   "id": "441850f8",
   "metadata": {},
   "outputs": [
    {
     "name": "stdout",
     "output_type": "stream",
     "text": [
      "12\n",
      "48\n",
      "12\n",
      "48\n"
     ]
    }
   ],
   "source": [
    "#mengecek ukuran total array\n",
    "print(a.size * a.itemsize)\n",
    "print(b.size * b.itemsize)\n",
    "\n",
    "#cara lain (hasilnya sama)\n",
    "print(a.nbytes)\n",
    "print(b.nbytes)"
   ]
  },
  {
   "cell_type": "markdown",
   "id": "a745f84c",
   "metadata": {},
   "source": [
    "# Mengakses/Merubah Elemen yang Spesifik, Baris, Kolom, Dll"
   ]
  },
  {
   "cell_type": "code",
   "execution_count": 18,
   "id": "15719a3b",
   "metadata": {},
   "outputs": [
    {
     "name": "stdout",
     "output_type": "stream",
     "text": [
      "[[ 1  2  3  4  5  6  7]\n",
      " [ 8  9 10 11 12 13 14]]\n"
     ]
    }
   ],
   "source": [
    "a = np.array([[1,2,3,4,5,6,7], [8,9,10,11,12,13,14]])\n",
    "print(a)"
   ]
  },
  {
   "cell_type": "markdown",
   "id": "81d28ca6",
   "metadata": {},
   "source": [
    "## Mendapatkan Elemen Spesifik di Dalam Array [baris, kolom]"
   ]
  },
  {
   "cell_type": "code",
   "execution_count": 20,
   "id": "2ffb4efa",
   "metadata": {},
   "outputs": [
    {
     "name": "stdout",
     "output_type": "stream",
     "text": [
      "13\n",
      "13\n"
     ]
    }
   ],
   "source": [
    "print(a[1, 5]) #mendapatkan elemen 13 pada baris dengan indeks 1 kolom dengan indeks 5\n",
    "print(a[1, -2])"
   ]
  },
  {
   "cell_type": "markdown",
   "id": "947588d4",
   "metadata": {},
   "source": [
    "## Mendapatkan Baris Spesifik di Dalam Array"
   ]
  },
  {
   "cell_type": "code",
   "execution_count": 21,
   "id": "2e0d8631",
   "metadata": {},
   "outputs": [
    {
     "name": "stdout",
     "output_type": "stream",
     "text": [
      "[1 2 3 4 5 6 7]\n"
     ]
    }
   ],
   "source": [
    "print(a[0,:]) #mendapatkan baris dengan indeks 0"
   ]
  },
  {
   "cell_type": "markdown",
   "id": "869a6a9e",
   "metadata": {},
   "source": [
    "## Mendapatkan Kolom Spesifik di Dalam Array"
   ]
  },
  {
   "cell_type": "code",
   "execution_count": 24,
   "id": "172e23ec",
   "metadata": {},
   "outputs": [
    {
     "name": "stdout",
     "output_type": "stream",
     "text": [
      "[ 3 10]\n"
     ]
    }
   ],
   "source": [
    "print(a[:,2]) #mendapatkan kolom dengan indeks 2"
   ]
  },
  {
   "cell_type": "markdown",
   "id": "5fe8c363",
   "metadata": {},
   "source": [
    "## [startIndex:endIndex:stepSize]"
   ]
  },
  {
   "cell_type": "code",
   "execution_count": 25,
   "id": "c52dc97e",
   "metadata": {},
   "outputs": [
    {
     "name": "stdout",
     "output_type": "stream",
     "text": [
      "[2 4 6]\n"
     ]
    }
   ],
   "source": [
    "print(a[0, 1:-1:2]) #baris dengan indeks 0, dimulai dari indeks 1, berakhir pada indeks -1, lompat setiap 2 indeks"
   ]
  },
  {
   "cell_type": "markdown",
   "id": "d41a2901",
   "metadata": {},
   "source": [
    "## Merubah Elemen di Dalam Array"
   ]
  },
  {
   "cell_type": "code",
   "execution_count": 26,
   "id": "8c467283",
   "metadata": {},
   "outputs": [
    {
     "name": "stdout",
     "output_type": "stream",
     "text": [
      "[[ 1  2  3  4  5  6  7]\n",
      " [ 8  9 10 11 12 20 14]]\n"
     ]
    }
   ],
   "source": [
    "a[1, 5] = 20 #elemen di dalam indeks baris 1 dan indeks kolom 5 dirubah nilainya menjadi 20\n",
    "print(a)"
   ]
  },
  {
   "cell_type": "code",
   "execution_count": 27,
   "id": "d7aeb632",
   "metadata": {},
   "outputs": [
    {
     "name": "stdout",
     "output_type": "stream",
     "text": [
      "[[ 1  2  5  4  5  6  7]\n",
      " [ 8  9  5 11 12 20 14]]\n"
     ]
    }
   ],
   "source": [
    "a[:,2] = 5 #semua elemen di kolom dengan indeks 2 dirubah nilainya menjadi 5\n",
    "print(a)"
   ]
  },
  {
   "cell_type": "code",
   "execution_count": 28,
   "id": "0bad5272",
   "metadata": {},
   "outputs": [
    {
     "name": "stdout",
     "output_type": "stream",
     "text": [
      "[[ 1  2  5  1  5  6  7]\n",
      " [ 8  9  5  2 12 20 14]]\n"
     ]
    }
   ],
   "source": [
    "a[:,3] = [1,2] #elemen di kolom indeks 3 dirubah menjadi 1 dan 2\n",
    "print(a)"
   ]
  },
  {
   "cell_type": "markdown",
   "id": "5387cd48",
   "metadata": {},
   "source": [
    "contoh lain dengan bentuk array 3 dimensi"
   ]
  },
  {
   "cell_type": "code",
   "execution_count": 30,
   "id": "402715da",
   "metadata": {},
   "outputs": [
    {
     "name": "stdout",
     "output_type": "stream",
     "text": [
      "[[[1 2]\n",
      "  [3 4]]\n",
      "\n",
      " [[5 6]\n",
      "  [7 8]]]\n"
     ]
    }
   ],
   "source": [
    "b = np.array([[[1,2],[3,4]],[[5,6],[7,8]]])\n",
    "print(b)"
   ]
  },
  {
   "cell_type": "code",
   "execution_count": 32,
   "id": "2d77955d",
   "metadata": {},
   "outputs": [
    {
     "name": "stdout",
     "output_type": "stream",
     "text": [
      "4\n",
      "[[3 4]\n",
      " [7 8]]\n",
      "[[1 2]\n",
      " [5 6]]\n"
     ]
    }
   ],
   "source": [
    "#mendapatkan elemen spesifik\n",
    "print(b[0,1,1])\n",
    "print(b[:,1,:])\n",
    "print(b[:,0,:])"
   ]
  },
  {
   "cell_type": "code",
   "execution_count": 33,
   "id": "241c2e60",
   "metadata": {},
   "outputs": [
    {
     "name": "stdout",
     "output_type": "stream",
     "text": [
      "[[[1 2]\n",
      "  [9 9]]\n",
      "\n",
      " [[5 6]\n",
      "  [8 8]]]\n"
     ]
    }
   ],
   "source": [
    "#merubah elemen \n",
    "b[:,1,:] = [[9,9],[8,8]]\n",
    "print(b)"
   ]
  },
  {
   "cell_type": "markdown",
   "id": "2344a053",
   "metadata": {},
   "source": [
    "# Menginisialisasi Berbagai Macam Jenis Array"
   ]
  },
  {
   "cell_type": "markdown",
   "id": "93b0e323",
   "metadata": {},
   "source": [
    "## Menginisialisasi Array(Matriks) yang Isinya Semuanya 0"
   ]
  },
  {
   "cell_type": "code",
   "execution_count": 36,
   "id": "98860a91",
   "metadata": {},
   "outputs": [
    {
     "name": "stdout",
     "output_type": "stream",
     "text": [
      "[0. 0. 0. 0. 0.]\n",
      "----------\n",
      "[[0. 0. 0. 0.]\n",
      " [0. 0. 0. 0.]\n",
      " [0. 0. 0. 0.]]\n",
      "----------\n",
      "[[[0. 0. 0.]\n",
      "  [0. 0. 0.]\n",
      "  [0. 0. 0.]]\n",
      "\n",
      " [[0. 0. 0.]\n",
      "  [0. 0. 0.]\n",
      "  [0. 0. 0.]]]\n"
     ]
    }
   ],
   "source": [
    "x = np.zeros(5) #matriks 0 satu dimensi\n",
    "y = np.zeros((3,4)) #matriks 0 dua dimensi\n",
    "z = np.zeros((2,3,3)) #matrik 0 tiga dimensi\n",
    "#jika ingin membuat yang lebih dari 3 dimensi juga bisa\n",
    "\n",
    "print(x)\n",
    "print('----------')\n",
    "print(y)\n",
    "print('----------')\n",
    "print(z)"
   ]
  },
  {
   "cell_type": "markdown",
   "id": "ddb62a4a",
   "metadata": {},
   "source": [
    "## Menginisialisasi Array(Matriks) yang Isinya Semuanya 1"
   ]
  },
  {
   "cell_type": "code",
   "execution_count": 37,
   "id": "c7303bd7",
   "metadata": {},
   "outputs": [
    {
     "name": "stdout",
     "output_type": "stream",
     "text": [
      "[1. 1. 1. 1. 1.]\n",
      "----------\n",
      "[[1. 1. 1. 1.]\n",
      " [1. 1. 1. 1.]\n",
      " [1. 1. 1. 1.]]\n",
      "----------\n",
      "[[[1. 1.]\n",
      "  [1. 1.]]\n",
      "\n",
      " [[1. 1.]\n",
      "  [1. 1.]]\n",
      "\n",
      " [[1. 1.]\n",
      "  [1. 1.]]\n",
      "\n",
      " [[1. 1.]\n",
      "  [1. 1.]]]\n"
     ]
    }
   ],
   "source": [
    "x = np.ones(5) #matriks 1 satu dimensi\n",
    "y = np.ones((3,4)) #matriks 1 dua dimensi\n",
    "z = np.ones((4,2,2)) #matrik 1 tiga dimensi\n",
    "#jika ingin membuat yang lebih dari 3 dimensi juga bisa\n",
    "\n",
    "print(x)\n",
    "print('----------')\n",
    "print(y)\n",
    "print('----------')\n",
    "print(z)"
   ]
  },
  {
   "cell_type": "markdown",
   "id": "ffb70982",
   "metadata": {},
   "source": [
    "## Menginisialisasi Array(Matriks) yang Isinya Sama Semua"
   ]
  },
  {
   "cell_type": "code",
   "execution_count": 38,
   "id": "71bafced",
   "metadata": {},
   "outputs": [
    {
     "name": "stdout",
     "output_type": "stream",
     "text": [
      "[[99 99]\n",
      " [99 99]]\n"
     ]
    }
   ],
   "source": [
    "arr = np.full((2,2), 99) #np.full((dimensi array), nilai yang ingin dimasukkan)\n",
    "print(arr)"
   ]
  },
  {
   "cell_type": "code",
   "execution_count": 40,
   "id": "0bdffd05",
   "metadata": {},
   "outputs": [
    {
     "name": "stdout",
     "output_type": "stream",
     "text": [
      "[[5 5 5 5 5 5 5]\n",
      " [5 5 5 5 5 5 5]]\n",
      "[[4 4 4 4 4 4 4]\n",
      " [4 4 4 4 4 4 4]]\n"
     ]
    }
   ],
   "source": [
    "#merubah array dibawah ini menjadi isinya sama semua (full_like)\n",
    "a = np.array([[1,2,3,4,5,6,7], [8,9,10,11,12,13,14]])\n",
    "fl = np.full_like(a, 5)\n",
    "print(fl)\n",
    "\n",
    "#selain full_like kita juga bisa menggunakan cara berikut untuk hasil yang sama\n",
    "fl2 = np.full(a.shape, 4)\n",
    "print(fl2)"
   ]
  },
  {
   "cell_type": "markdown",
   "id": "0f608e27",
   "metadata": {},
   "source": [
    "## Menginisialisasi Array(Matriks) yang Isinya Random Decimal Number"
   ]
  },
  {
   "cell_type": "code",
   "execution_count": 41,
   "id": "c372e864",
   "metadata": {},
   "outputs": [
    {
     "name": "stdout",
     "output_type": "stream",
     "text": [
      "[[0.76970954 0.00481765]\n",
      " [0.41408273 0.34219942]\n",
      " [0.76345088 0.07124326]\n",
      " [0.52869846 0.57795063]]\n"
     ]
    }
   ],
   "source": [
    "rdc = np.random.rand(4,2) #4 dan 2 adalah dimensi atau shapenya\n",
    "print(rdc)"
   ]
  },
  {
   "cell_type": "markdown",
   "id": "e3a4c759",
   "metadata": {},
   "source": [
    "## Menginisialisasi Array(Matriks) yang Isinya Random Integer Number"
   ]
  },
  {
   "cell_type": "code",
   "execution_count": 43,
   "id": "9f02d5b6",
   "metadata": {},
   "outputs": [
    {
     "name": "stdout",
     "output_type": "stream",
     "text": [
      "[[1 0 4]\n",
      " [5 5 1]\n",
      " [4 2 0]]\n"
     ]
    }
   ],
   "source": [
    "rin = np.random.randint(7, size = (3,3)) #7 adalah nilai maksimal yang akan dirandom. dan size adalah dimensinya\n",
    "print(rin)"
   ]
  },
  {
   "cell_type": "code",
   "execution_count": 44,
   "id": "12f5897a",
   "metadata": {},
   "outputs": [
    {
     "name": "stdout",
     "output_type": "stream",
     "text": [
      "[[6 6 4]\n",
      " [4 4 5]\n",
      " [5 5 4]]\n"
     ]
    }
   ],
   "source": [
    "rin = np.random.randint(4,7, size = (3,3)) #isi randoman hanya boleh dalam range 4-7 dan size adalah dimensinya\n",
    "print(rin)"
   ]
  },
  {
   "cell_type": "markdown",
   "id": "4d3c5d07",
   "metadata": {},
   "source": [
    "## Menginisialisasi Array(Matriks) yang Isinya Random Float Number"
   ]
  },
  {
   "cell_type": "code",
   "execution_count": 127,
   "id": "9a9c1605",
   "metadata": {},
   "outputs": [
    {
     "data": {
      "text/plain": [
       "array([[0.21226194, 0.78853055],\n",
       "       [0.18260382, 0.28270181]])"
      ]
     },
     "execution_count": 127,
     "metadata": {},
     "output_type": "execute_result"
    }
   ],
   "source": [
    "np.random.random((2,2))"
   ]
  },
  {
   "cell_type": "markdown",
   "id": "8efc0986",
   "metadata": {},
   "source": [
    "## Membuat Array yang Isinya Urut dari 0 sampai Batas yang Ditentukan"
   ]
  },
  {
   "cell_type": "code",
   "execution_count": 110,
   "id": "2f58d124",
   "metadata": {},
   "outputs": [
    {
     "data": {
      "text/plain": [
       "array([0, 1, 2, 3, 4])"
      ]
     },
     "execution_count": 110,
     "metadata": {},
     "output_type": "execute_result"
    }
   ],
   "source": [
    "u = np.arange(5) #membuat array yang isinya 0 sampai 4\n",
    "u"
   ]
  },
  {
   "cell_type": "code",
   "execution_count": null,
   "id": "7aef268a",
   "metadata": {},
   "outputs": [],
   "source": []
  },
  {
   "cell_type": "markdown",
   "id": "042c65e7",
   "metadata": {},
   "source": [
    "## Menginisialisasi Matriks Identitas"
   ]
  },
  {
   "cell_type": "code",
   "execution_count": 45,
   "id": "a3a1a776",
   "metadata": {},
   "outputs": [
    {
     "data": {
      "text/plain": [
       "array([[1., 0., 0., 0., 0.],\n",
       "       [0., 1., 0., 0., 0.],\n",
       "       [0., 0., 1., 0., 0.],\n",
       "       [0., 0., 0., 1., 0.],\n",
       "       [0., 0., 0., 0., 1.]])"
      ]
     },
     "execution_count": 45,
     "metadata": {},
     "output_type": "execute_result"
    }
   ],
   "source": [
    "np.identity(5) #shapenya 5 x 5"
   ]
  },
  {
   "cell_type": "markdown",
   "id": "7a28cc3f",
   "metadata": {},
   "source": [
    "## Repeat an Array"
   ]
  },
  {
   "cell_type": "code",
   "execution_count": 46,
   "id": "532ea34e",
   "metadata": {},
   "outputs": [
    {
     "name": "stdout",
     "output_type": "stream",
     "text": [
      "[9 9 9 8 8 8 7 7 7]\n"
     ]
    }
   ],
   "source": [
    "arr = np.array([9,8,7])\n",
    "r1 = np.repeat(arr,3) #akan diulang 3 kali\n",
    "print(r1)"
   ]
  },
  {
   "cell_type": "code",
   "execution_count": 47,
   "id": "6cda02ef",
   "metadata": {},
   "outputs": [
    {
     "name": "stdout",
     "output_type": "stream",
     "text": [
      "[[1 2 3]\n",
      " [1 2 3]\n",
      " [1 2 3]]\n"
     ]
    }
   ],
   "source": [
    "arr = np.array([[1,2,3]]) # 2 dimensi\n",
    "r1 = np.repeat(arr,3, axis=0) #bila axis = 0 maka bentuk arraynya akan ditata secara vertikal  \n",
    "print(r1)"
   ]
  },
  {
   "cell_type": "code",
   "execution_count": 48,
   "id": "1b0764c1",
   "metadata": {},
   "outputs": [
    {
     "name": "stdout",
     "output_type": "stream",
     "text": [
      "[[1 1 1 2 2 2 3 3 3]]\n"
     ]
    }
   ],
   "source": [
    "arr = np.array([[1,2,3]]) # 2 dimensi\n",
    "r1 = np.repeat(arr,3, axis=1) #bila axis = 1 maka bentuk arraynya akan ditata secara horizontal \n",
    "print(r1)"
   ]
  },
  {
   "cell_type": "markdown",
   "id": "fdbbb240",
   "metadata": {},
   "source": [
    "# Membuat Pola dengan Array"
   ]
  },
  {
   "cell_type": "code",
   "execution_count": 50,
   "id": "5c54ad53",
   "metadata": {},
   "outputs": [
    {
     "name": "stdout",
     "output_type": "stream",
     "text": [
      "[[1. 1. 1. 1. 1.]\n",
      " [1. 1. 1. 1. 1.]\n",
      " [1. 1. 1. 1. 1.]\n",
      " [1. 1. 1. 1. 1.]\n",
      " [1. 1. 1. 1. 1.]]\n",
      "----------\n",
      "[[0. 0. 0.]\n",
      " [0. 9. 0.]\n",
      " [0. 0. 0.]]\n",
      "----------\n",
      "[[1. 1. 1. 1. 1.]\n",
      " [1. 0. 0. 0. 1.]\n",
      " [1. 0. 9. 0. 1.]\n",
      " [1. 0. 0. 0. 1.]\n",
      " [1. 1. 1. 1. 1.]]\n"
     ]
    }
   ],
   "source": [
    "output = np.ones((5,5))\n",
    "print(output)\n",
    "print('----------')\n",
    "\n",
    "z = np.zeros((3,3))\n",
    "z[1,1] = 9\n",
    "print(z)\n",
    "print('----------')\n",
    "\n",
    "output[1:4,1:4] = z #output[1:-1,1:-1] seperti ini hasilnya juga akan sama\n",
    "print(output)"
   ]
  },
  {
   "cell_type": "markdown",
   "id": "47acdc38",
   "metadata": {},
   "source": [
    "### Hati-Hati Saat Mengcopy Array!!!!!"
   ]
  },
  {
   "cell_type": "code",
   "execution_count": 51,
   "id": "122ffe4e",
   "metadata": {},
   "outputs": [
    {
     "name": "stdout",
     "output_type": "stream",
     "text": [
      "[100   2   3]\n",
      "[100   2   3]\n"
     ]
    }
   ],
   "source": [
    "a = np.array([1,2,3])\n",
    "b = a\n",
    "b[0] = 100 #merubah elemen pertama pada array b\n",
    "print(b)\n",
    "print(a) #saat kita memprint a, seharusnya hasilnya berbeda dengan b, karena elemen pertama pada b sudah diganti"
   ]
  },
  {
   "cell_type": "code",
   "execution_count": 52,
   "id": "7acf6be3",
   "metadata": {},
   "outputs": [
    {
     "name": "stdout",
     "output_type": "stream",
     "text": [
      "[100   2   3]\n",
      "[1 2 3]\n"
     ]
    }
   ],
   "source": [
    "#untuk mencegah hal di atas, berikut adalah solusinya\n",
    "a = np.array([1,2,3])\n",
    "b = a.copy()\n",
    "b[0] = 100 \n",
    "print(b)\n",
    "print(a) "
   ]
  },
  {
   "cell_type": "markdown",
   "id": "2dad1aae",
   "metadata": {},
   "source": [
    "# Operasi Matematika pada Array"
   ]
  },
  {
   "cell_type": "code",
   "execution_count": 53,
   "id": "3bd89cc6",
   "metadata": {},
   "outputs": [
    {
     "name": "stdout",
     "output_type": "stream",
     "text": [
      "[1 2 3 4 5]\n"
     ]
    }
   ],
   "source": [
    "a = np.array([1,2,3,4,5])\n",
    "print(a)"
   ]
  },
  {
   "cell_type": "code",
   "execution_count": 54,
   "id": "efeafcd8",
   "metadata": {},
   "outputs": [
    {
     "data": {
      "text/plain": [
       "array([3, 4, 5, 6, 7])"
      ]
     },
     "execution_count": 54,
     "metadata": {},
     "output_type": "execute_result"
    }
   ],
   "source": [
    "a + 2 #setiap elemen di dalam array ditambah 2"
   ]
  },
  {
   "cell_type": "code",
   "execution_count": 55,
   "id": "7dbe2fd8",
   "metadata": {},
   "outputs": [
    {
     "data": {
      "text/plain": [
       "array([-1,  0,  1,  2,  3])"
      ]
     },
     "execution_count": 55,
     "metadata": {},
     "output_type": "execute_result"
    }
   ],
   "source": [
    "a - 2 #setiap elemen di dalam array dikurang 2"
   ]
  },
  {
   "cell_type": "code",
   "execution_count": 56,
   "id": "1684d185",
   "metadata": {},
   "outputs": [
    {
     "data": {
      "text/plain": [
       "array([ 2,  4,  6,  8, 10])"
      ]
     },
     "execution_count": 56,
     "metadata": {},
     "output_type": "execute_result"
    }
   ],
   "source": [
    "a * 2 #setiap elemen di dalam array dikali 2"
   ]
  },
  {
   "cell_type": "code",
   "execution_count": 57,
   "id": "c2c86c9b",
   "metadata": {},
   "outputs": [
    {
     "data": {
      "text/plain": [
       "array([0.5, 1. , 1.5, 2. , 2.5])"
      ]
     },
     "execution_count": 57,
     "metadata": {},
     "output_type": "execute_result"
    }
   ],
   "source": [
    "a / 2 #setiap elemen di dalam array dibagi 2"
   ]
  },
  {
   "cell_type": "code",
   "execution_count": 58,
   "id": "5a47cece",
   "metadata": {},
   "outputs": [
    {
     "data": {
      "text/plain": [
       "array([2, 2, 4, 4, 6])"
      ]
     },
     "execution_count": 58,
     "metadata": {},
     "output_type": "execute_result"
    }
   ],
   "source": [
    "b = np.array([1,0,1,0,1])\n",
    "a + b"
   ]
  },
  {
   "cell_type": "code",
   "execution_count": 59,
   "id": "5ea3571a",
   "metadata": {},
   "outputs": [
    {
     "data": {
      "text/plain": [
       "array([ 1,  4,  9, 16, 25])"
      ]
     },
     "execution_count": 59,
     "metadata": {},
     "output_type": "execute_result"
    }
   ],
   "source": [
    "a ** 2 #setiap elemen di dalam array dipangkat 2"
   ]
  },
  {
   "cell_type": "code",
   "execution_count": 60,
   "id": "c920a7d1",
   "metadata": {},
   "outputs": [
    {
     "data": {
      "text/plain": [
       "array([ 0.84147098,  0.90929743,  0.14112001, -0.7568025 , -0.95892427])"
      ]
     },
     "execution_count": 60,
     "metadata": {},
     "output_type": "execute_result"
    }
   ],
   "source": [
    "np.sin(a) #mencari nilai sin dari setiap elemen di dalam array"
   ]
  },
  {
   "cell_type": "code",
   "execution_count": 61,
   "id": "01d6c205",
   "metadata": {},
   "outputs": [
    {
     "data": {
      "text/plain": [
       "array([ 0.54030231, -0.41614684, -0.9899925 , -0.65364362,  0.28366219])"
      ]
     },
     "execution_count": 61,
     "metadata": {},
     "output_type": "execute_result"
    }
   ],
   "source": [
    "np.cos(a) #mencari nilai cos dari setiap elemen di dalam array"
   ]
  },
  {
   "cell_type": "markdown",
   "id": "8bda77ea",
   "metadata": {},
   "source": [
    "# Aljabar Linear "
   ]
  },
  {
   "cell_type": "code",
   "execution_count": 119,
   "id": "660bfa7e",
   "metadata": {},
   "outputs": [
    {
     "name": "stdout",
     "output_type": "stream",
     "text": [
      "[[1 2 3]\n",
      " [4 5 6]]\n",
      "----------\n",
      "[[5 5 5]\n",
      " [5 5 5]]\n",
      "----------\n",
      "[7 8 9]\n"
     ]
    }
   ],
   "source": [
    "A = np.array([[1,2,3],[4,5,6]])\n",
    "B = np.full((2,3),5)\n",
    "v = np.array([7,8,9])\n",
    "print(A)\n",
    "print('----------')\n",
    "print(B)\n",
    "print('----------')\n",
    "print(v)"
   ]
  },
  {
   "cell_type": "code",
   "execution_count": 115,
   "id": "c3b118c6",
   "metadata": {},
   "outputs": [
    {
     "data": {
      "text/plain": [
       "array([[ 6,  7,  8],\n",
       "       [ 9, 10, 11]])"
      ]
     },
     "execution_count": 115,
     "metadata": {},
     "output_type": "execute_result"
    }
   ],
   "source": [
    "#Penjumlahan matriks A + B\n",
    "A + B"
   ]
  },
  {
   "cell_type": "code",
   "execution_count": 116,
   "id": "bc6e4909",
   "metadata": {},
   "outputs": [
    {
     "data": {
      "text/plain": [
       "array([[-4, -3, -2],\n",
       "       [-1,  0,  1]])"
      ]
     },
     "execution_count": 116,
     "metadata": {},
     "output_type": "execute_result"
    }
   ],
   "source": [
    "#Pengurangan matriks A - B\n",
    "A - B"
   ]
  },
  {
   "cell_type": "code",
   "execution_count": 117,
   "id": "e3376651",
   "metadata": {},
   "outputs": [
    {
     "data": {
      "text/plain": [
       "array([[ 5, 10, 15],\n",
       "       [20, 25, 30]])"
      ]
     },
     "execution_count": 117,
     "metadata": {},
     "output_type": "execute_result"
    }
   ],
   "source": [
    "#Perkalian matriks A * B (Perkaliannya per elemen, karena sebenarnya  A & B tidak memenuhi syarat perkalian matriks)\n",
    "A * B"
   ]
  },
  {
   "cell_type": "code",
   "execution_count": 118,
   "id": "8f15fe07",
   "metadata": {},
   "outputs": [
    {
     "data": {
      "text/plain": [
       "array([[0.2, 0.4, 0.6],\n",
       "       [0.8, 1. , 1.2]])"
      ]
     },
     "execution_count": 118,
     "metadata": {},
     "output_type": "execute_result"
    }
   ],
   "source": [
    "#Pembagian matriks A / B\n",
    "A / B"
   ]
  },
  {
   "cell_type": "code",
   "execution_count": 120,
   "id": "9ff7d0f9",
   "metadata": {},
   "outputs": [
    {
     "name": "stdout",
     "output_type": "stream",
     "text": [
      "[ 50 122]\n",
      "[ 50 122]\n"
     ]
    }
   ],
   "source": [
    "#Perkalian matriks (yang memenuhi syarat)\n",
    "print(np.dot(A, v))\n",
    "print(A @ v) #cara lain perkalian matriks yang memenuhi syarat"
   ]
  },
  {
   "cell_type": "code",
   "execution_count": 122,
   "id": "122c3cf0",
   "metadata": {},
   "outputs": [
    {
     "name": "stdout",
     "output_type": "stream",
     "text": [
      "[[1 4]\n",
      " [2 5]\n",
      " [3 6]]\n",
      "----------\n",
      "[[5 5]\n",
      " [5 5]\n",
      " [5 5]]\n"
     ]
    }
   ],
   "source": [
    "#Mencari Transpose (baris menjadi kolom, dan kolom menjadi baris) Matriks\n",
    "print(A.T)\n",
    "print('----------')\n",
    "print(B.T)"
   ]
  },
  {
   "cell_type": "code",
   "execution_count": 62,
   "id": "851d976b",
   "metadata": {},
   "outputs": [
    {
     "name": "stdout",
     "output_type": "stream",
     "text": [
      "[[1. 1. 1.]\n",
      " [1. 1. 1.]]\n",
      "[[2 2]\n",
      " [2 2]\n",
      " [2 2]]\n"
     ]
    },
    {
     "data": {
      "text/plain": [
       "array([[6., 6.],\n",
       "       [6., 6.]])"
      ]
     },
     "execution_count": 62,
     "metadata": {},
     "output_type": "execute_result"
    }
   ],
   "source": [
    "a = np.ones((2,3))\n",
    "print(a)\n",
    "\n",
    "b = np.full((3,2), 2)\n",
    "print(b)\n",
    "\n",
    "#karena 2 matriks di atas tidak memenuhi syarat agar bisa dikali maka tidak bisa dikali. tapi perkalian tetap bisa\n",
    "#dilakukan menggunakan fungsi matmul() matrix multiplication\n",
    "np.matmul(a,b)"
   ]
  },
  {
   "cell_type": "code",
   "execution_count": 123,
   "id": "0e2dc55b",
   "metadata": {},
   "outputs": [
    {
     "name": "stdout",
     "output_type": "stream",
     "text": [
      "1.0\n",
      "-4.999999999999999\n",
      "38.99999999999999\n"
     ]
    }
   ],
   "source": [
    "#Mencari Determinan Matriks\n",
    "c = np.identity(3) #membuat matriks identitas\n",
    "print(np.linalg.det(c)) #mencari determinan dari suatu matriks\n",
    "\n",
    "d = np.array([[3,2],[4,1]])\n",
    "print(np.linalg.det(d))\n",
    "\n",
    "e =np.array([[4,1,0],[1,3,2],[0,2,5]])\n",
    "print(np.linalg.det(e))"
   ]
  },
  {
   "cell_type": "code",
   "execution_count": 126,
   "id": "f1dd791e",
   "metadata": {},
   "outputs": [
    {
     "name": "stdout",
     "output_type": "stream",
     "text": [
      "-2.0000000000000004\n",
      "[[-2.   1. ]\n",
      " [ 1.5 -0.5]]\n",
      "----------\n",
      "[[1.0000000e+00 0.0000000e+00]\n",
      " [8.8817842e-16 1.0000000e+00]]\n",
      "----------\n",
      "[[1. 0.]\n",
      " [0. 1.]]\n"
     ]
    }
   ],
   "source": [
    "#Mencari Invers Matriks (misalnya matriks A, maka inversnya A pangkat -1, atau 1 per determinan A)\n",
    "D = np.array([[1,2],[3,4]])\n",
    "print(np.linalg.det(D)) #melihat determinan \n",
    "print(np.linalg.inv(D)) #mencari invers matriks D\n",
    "print('----------')\n",
    "\n",
    "print(D @ np.linalg.inv(D)) #Mencari D x D pangkat -1 = I\n",
    "print('----------')\n",
    "print(np.round(D @ np.linalg.inv(D))) #membulatkan perhitungan di atas"
   ]
  },
  {
   "cell_type": "markdown",
   "id": "a6d4a5b8",
   "metadata": {},
   "source": [
    "# Statistik dengan Numpy"
   ]
  },
  {
   "cell_type": "code",
   "execution_count": 67,
   "id": "ffecfbc8",
   "metadata": {},
   "outputs": [
    {
     "data": {
      "text/plain": [
       "array([[1, 2, 3],\n",
       "       [4, 5, 6]])"
      ]
     },
     "execution_count": 67,
     "metadata": {},
     "output_type": "execute_result"
    }
   ],
   "source": [
    "stats = np.array([[1,2,3],[4,5,6]])\n",
    "stats"
   ]
  },
  {
   "cell_type": "code",
   "execution_count": 71,
   "id": "7c00f2a2",
   "metadata": {},
   "outputs": [
    {
     "name": "stdout",
     "output_type": "stream",
     "text": [
      "1\n",
      "[1 4]\n",
      "[1 2 3]\n"
     ]
    }
   ],
   "source": [
    "#mencari nilai minimum pada array\n",
    "print(np.min(stats))\n",
    "print(np.min(stats, axis=1)) #kolom yang nilainya paling kecil\n",
    "print(np.min(stats, axis=0)) #baris yang nilainya paling kecil"
   ]
  },
  {
   "cell_type": "code",
   "execution_count": 72,
   "id": "f9f9936f",
   "metadata": {},
   "outputs": [
    {
     "name": "stdout",
     "output_type": "stream",
     "text": [
      "6\n",
      "[3 6]\n",
      "[4 5 6]\n"
     ]
    }
   ],
   "source": [
    "#mencari nilai maksimum pada array\n",
    "print(np.max(stats))\n",
    "print(np.max(stats, axis=1)) #kolom yang nilainya paling besar\n",
    "print(np.max(stats, axis=0)) #baris yang nilainya paling besar"
   ]
  },
  {
   "cell_type": "code",
   "execution_count": 104,
   "id": "4a2aa56e",
   "metadata": {},
   "outputs": [
    {
     "name": "stdout",
     "output_type": "stream",
     "text": [
      "21\n",
      "21\n",
      "[ 6 15]\n",
      "[ 6 15]\n",
      "[5 7 9]\n",
      "[5 7 9]\n"
     ]
    }
   ],
   "source": [
    "#menjumlahkan setiap elemen di dalam array\n",
    "print(np.sum(stats))\n",
    "print(stats.sum()) #hasilnya sama dengan di atas\n",
    "print(np.sum(stats, axis=1))\n",
    "print(stats.sum(axis=1))\n",
    "print(np.sum(stats, axis=0))\n",
    "print(stats.sum(axis=0))"
   ]
  },
  {
   "cell_type": "code",
   "execution_count": 106,
   "id": "a20bd19a",
   "metadata": {},
   "outputs": [
    {
     "name": "stdout",
     "output_type": "stream",
     "text": [
      "3.5\n",
      "[2. 5.]\n",
      "[2.5 3.5 4.5]\n"
     ]
    }
   ],
   "source": [
    "#mencari rata rata\n",
    "print(stats.mean())\n",
    "print(stats.mean(axis=1))\n",
    "print(stats.mean(axis=0))"
   ]
  },
  {
   "cell_type": "code",
   "execution_count": 107,
   "id": "2b6c7c95",
   "metadata": {},
   "outputs": [
    {
     "name": "stdout",
     "output_type": "stream",
     "text": [
      "1.707825127659933\n",
      "[0.81649658 0.81649658]\n",
      "[1.5 1.5 1.5]\n"
     ]
    }
   ],
   "source": [
    "#mencari standar deviasi\n",
    "print(stats.std())\n",
    "print(stats.std(axis=1))\n",
    "print(stats.std(axis=0))"
   ]
  },
  {
   "cell_type": "markdown",
   "id": "1b1027fd",
   "metadata": {},
   "source": [
    "# Reorganisasi Array"
   ]
  },
  {
   "cell_type": "code",
   "execution_count": 76,
   "id": "6d9b4728",
   "metadata": {},
   "outputs": [
    {
     "name": "stdout",
     "output_type": "stream",
     "text": [
      "[[1 2 3 4]\n",
      " [5 6 7 8]]\n",
      "(2, 4)\n",
      "----------\n",
      "[[1]\n",
      " [2]\n",
      " [3]\n",
      " [4]\n",
      " [5]\n",
      " [6]\n",
      " [7]\n",
      " [8]]\n",
      "----------\n",
      "[[1 2]\n",
      " [3 4]\n",
      " [5 6]\n",
      " [7 8]]\n",
      "----------\n",
      "[[[1 2]\n",
      "  [3 4]]\n",
      "\n",
      " [[5 6]\n",
      "  [7 8]]]\n"
     ]
    }
   ],
   "source": [
    "before = np.array([[1,2,3,4],[5,6,7,8]])\n",
    "print(before)\n",
    "print(before.shape)\n",
    "print('----------')\n",
    "\n",
    "after = before.reshape((8,1))\n",
    "after2 = before.reshape((4,2))\n",
    "after3 = before.reshape((2,2,2))\n",
    "print(after)\n",
    "print('----------')\n",
    "print(after2)\n",
    "print('----------')\n",
    "print(after3)"
   ]
  },
  {
   "cell_type": "markdown",
   "id": "901960c3",
   "metadata": {},
   "source": [
    "## Menumpuk Vektor secara Vertikal"
   ]
  },
  {
   "cell_type": "code",
   "execution_count": 78,
   "id": "afeee574",
   "metadata": {},
   "outputs": [
    {
     "data": {
      "text/plain": [
       "array([[1, 2, 3, 4],\n",
       "       [5, 6, 7, 8],\n",
       "       [1, 2, 3, 4],\n",
       "       [5, 6, 7, 8]])"
      ]
     },
     "execution_count": 78,
     "metadata": {},
     "output_type": "execute_result"
    }
   ],
   "source": [
    "v1 = np.array([1,2,3,4])\n",
    "v2 = np.array([5,6,7,8])\n",
    "\n",
    "np.vstack([v1,v2,v1,v2])"
   ]
  },
  {
   "cell_type": "markdown",
   "id": "0945a8ce",
   "metadata": {},
   "source": [
    "## Menumpuk Vektor secara Horizontal"
   ]
  },
  {
   "cell_type": "code",
   "execution_count": 79,
   "id": "872963aa",
   "metadata": {},
   "outputs": [
    {
     "name": "stdout",
     "output_type": "stream",
     "text": [
      "[[1. 1. 1. 1.]\n",
      " [1. 1. 1. 1.]]\n",
      "----------\n",
      "[[0. 0.]\n",
      " [0. 0.]]\n",
      "----------\n",
      "[[1. 1. 1. 1. 0. 0.]\n",
      " [1. 1. 1. 1. 0. 0.]]\n"
     ]
    }
   ],
   "source": [
    "h1 = np.ones((2,4))\n",
    "h2 = np.zeros((2,2))\n",
    "\n",
    "print(h1)\n",
    "print('----------')\n",
    "print(h2)\n",
    "print('----------')\n",
    "\n",
    "print(np.hstack((h1,h2)))"
   ]
  },
  {
   "cell_type": "markdown",
   "id": "07428851",
   "metadata": {},
   "source": [
    "# Lain Lain"
   ]
  },
  {
   "cell_type": "markdown",
   "id": "76e3b11c",
   "metadata": {},
   "source": [
    "## Memuat Data dari File"
   ]
  },
  {
   "cell_type": "code",
   "execution_count": 85,
   "id": "623f3d3e",
   "metadata": {},
   "outputs": [
    {
     "data": {
      "text/plain": [
       "array([[  1.,  13.,  21.,  11., 196.,  75.,   4.,   3.,  34.,   6.,   7.,\n",
       "          8.,   0.,   1.,   2.,   3.,   4.,   5.],\n",
       "       [  3.,  42.,  12.,  33., 766.,  75.,   4.,  55.,   6.,   4.,   3.,\n",
       "          4.,   5.,   6.,   7.,   0.,  11.,  12.],\n",
       "       [  1.,  22.,  33.,  11., 999.,  11.,   2.,   1.,  78.,   0.,   1.,\n",
       "          2.,   9.,   8.,   7.,   1.,  76.,  88.]])"
      ]
     },
     "execution_count": 85,
     "metadata": {},
     "output_type": "execute_result"
    }
   ],
   "source": [
    "filedata = np.genfromtxt('numpydata.txt', delimiter=',') #delimiter adalah pemisah\n",
    "filedata"
   ]
  },
  {
   "cell_type": "code",
   "execution_count": 84,
   "id": "eb050e14",
   "metadata": {},
   "outputs": [
    {
     "name": "stdout",
     "output_type": "stream",
     "text": [
      "[[  1.  13.  21.  11. 196.  75.   4.   3.  34.   6.   7.   8.   0.   1.\n",
      "    2.   3.   4.   5.]\n",
      " [  3.  42.  12.  33. 766.  75.   4.  55.   6.   4.   3.   4.   5.   6.\n",
      "    7.   0.  11.  12.]\n",
      " [  1.  22.  33.  11. 999.  11.   2.   1.  78.   0.   1.   2.   9.   8.\n",
      "    7.   1.  76.  88.]]\n",
      "-----------\n",
      "[[  1.  13.  21.  11. 196.  75.   4.   3.  34.   6.   7.   8.   0.   1.\n",
      "    2.   3.   4.   5.]\n",
      " [  3.  42.  12.  33. 766.  75.   4.  55.   6.   4.   3.   4.   5.   6.\n",
      "    7.   0.  11.  12.]\n",
      " [  1.  22.  33.  11. 999.  11.   2.   1.  78.   0.   1.   2.   9.   8.\n",
      "    7.   1.  76.  88.]]\n"
     ]
    }
   ],
   "source": [
    "filedata = np.genfromtxt('numpydata.txt', delimiter=',') #delimiter adalah pemisah\n",
    "print(filedata)\n",
    "print('-----------')\n",
    "filedata.astype('int32') #merubah tipe data dari array ke tipe int\n",
    "print(filedata)"
   ]
  },
  {
   "cell_type": "code",
   "execution_count": 88,
   "id": "66dccfb7",
   "metadata": {},
   "outputs": [
    {
     "data": {
      "text/plain": [
       "array([[  1,  13,  21,  11, 196,  75,   4,   3,  34,   6,   7,   8,   0,\n",
       "          1,   2,   3,   4,   5],\n",
       "       [  3,  42,  12,  33, 766,  75,   4,  55,   6,   4,   3,   4,   5,\n",
       "          6,   7,   0,  11,  12],\n",
       "       [  1,  22,  33,  11, 999,  11,   2,   1,  78,   0,   1,   2,   9,\n",
       "          8,   7,   1,  76,  88]], dtype=int32)"
      ]
     },
     "execution_count": 88,
     "metadata": {},
     "output_type": "execute_result"
    }
   ],
   "source": [
    "filedata = np.genfromtxt('numpydata.txt', delimiter=',') #delimiter adalah pemisah\n",
    "filedata.astype('int32') \n",
    "filedata = filedata.astype('int32')\n",
    "filedata"
   ]
  },
  {
   "cell_type": "markdown",
   "id": "be4eb8f9",
   "metadata": {},
   "source": [
    "## Boolean Masking "
   ]
  },
  {
   "cell_type": "code",
   "execution_count": 89,
   "id": "35627b65",
   "metadata": {},
   "outputs": [
    {
     "data": {
      "text/plain": [
       "array([[False, False, False, False,  True,  True, False, False, False,\n",
       "        False, False, False, False, False, False, False, False, False],\n",
       "       [False, False, False, False,  True,  True, False,  True, False,\n",
       "        False, False, False, False, False, False, False, False, False],\n",
       "       [False, False, False, False,  True, False, False, False,  True,\n",
       "        False, False, False, False, False, False, False,  True,  True]])"
      ]
     },
     "execution_count": 89,
     "metadata": {},
     "output_type": "execute_result"
    }
   ],
   "source": [
    "#Boolean Masking\n",
    "filedata > 50"
   ]
  },
  {
   "cell_type": "code",
   "execution_count": 93,
   "id": "f1943a06",
   "metadata": {},
   "outputs": [
    {
     "data": {
      "text/plain": [
       "array([False, False, False, False,  True,  True, False,  True,  True,\n",
       "       False, False, False, False, False, False, False,  True,  True])"
      ]
     },
     "execution_count": 93,
     "metadata": {},
     "output_type": "execute_result"
    }
   ],
   "source": [
    "np.any(filedata > 50, axis=0)"
   ]
  },
  {
   "cell_type": "code",
   "execution_count": 94,
   "id": "239532f3",
   "metadata": {},
   "outputs": [
    {
     "data": {
      "text/plain": [
       "array([ True,  True,  True])"
      ]
     },
     "execution_count": 94,
     "metadata": {},
     "output_type": "execute_result"
    }
   ],
   "source": [
    "np.any(filedata > 50, axis=1)"
   ]
  },
  {
   "cell_type": "code",
   "execution_count": 90,
   "id": "23e1e782",
   "metadata": {},
   "outputs": [
    {
     "data": {
      "text/plain": [
       "array([196,  75, 766,  75,  55, 999,  78,  76,  88], dtype=int32)"
      ]
     },
     "execution_count": 90,
     "metadata": {},
     "output_type": "execute_result"
    }
   ],
   "source": [
    "filedata[filedata > 50]"
   ]
  },
  {
   "cell_type": "code",
   "execution_count": 92,
   "id": "8e600279",
   "metadata": {},
   "outputs": [
    {
     "data": {
      "text/plain": [
       "array([2, 3, 9])"
      ]
     },
     "execution_count": 92,
     "metadata": {},
     "output_type": "execute_result"
    }
   ],
   "source": [
    "#Mengindeks dengan menggunakan list\n",
    "a = np.array([1,2,3,4,5,6,7,8,9])\n",
    "a[[1,2,8]]"
   ]
  },
  {
   "cell_type": "code",
   "execution_count": 95,
   "id": "19d94f71",
   "metadata": {},
   "outputs": [
    {
     "data": {
      "text/plain": [
       "array([[False, False, False, False, False,  True, False, False, False,\n",
       "        False, False, False, False, False, False, False, False, False],\n",
       "       [False, False, False, False, False,  True, False,  True, False,\n",
       "        False, False, False, False, False, False, False, False, False],\n",
       "       [False, False, False, False, False, False, False, False,  True,\n",
       "        False, False, False, False, False, False, False,  True,  True]])"
      ]
     },
     "execution_count": 95,
     "metadata": {},
     "output_type": "execute_result"
    }
   ],
   "source": [
    "((filedata > 50) & (filedata < 100))"
   ]
  },
  {
   "cell_type": "code",
   "execution_count": 98,
   "id": "0eb53a3b",
   "metadata": {},
   "outputs": [
    {
     "data": {
      "text/plain": [
       "array([[ True,  True,  True,  True,  True, False,  True,  True,  True,\n",
       "         True,  True,  True,  True,  True,  True,  True,  True,  True],\n",
       "       [ True,  True,  True,  True,  True, False,  True, False,  True,\n",
       "         True,  True,  True,  True,  True,  True,  True,  True,  True],\n",
       "       [ True,  True,  True,  True,  True,  True,  True,  True, False,\n",
       "         True,  True,  True,  True,  True,  True,  True, False, False]])"
      ]
     },
     "execution_count": 98,
     "metadata": {},
     "output_type": "execute_result"
    }
   ],
   "source": [
    "(~((filedata > 50) & (filedata < 100))) #bentuk not dari array diatas"
   ]
  },
  {
   "cell_type": "code",
   "execution_count": 112,
   "id": "7c3d5e07",
   "metadata": {},
   "outputs": [
    {
     "name": "stdout",
     "output_type": "stream",
     "text": [
      "[1 2 3 4]\n",
      "[0 3]\n"
     ]
    }
   ],
   "source": [
    "#memilih elemen di dalam array menggunakan boolean\n",
    "ar = np.array([1,2,3,4])\n",
    "print(ar)\n",
    "print(a[[True,False,False,True]])"
   ]
  },
  {
   "cell_type": "markdown",
   "id": "a5d2c879",
   "metadata": {},
   "source": [
    "## Advanced Indexing"
   ]
  },
  {
   "cell_type": "code",
   "execution_count": 101,
   "id": "a6917906",
   "metadata": {},
   "outputs": [
    {
     "data": {
      "text/plain": [
       "array([[11, 12],\n",
       "       [16, 17]])"
      ]
     },
     "execution_count": 101,
     "metadata": {},
     "output_type": "execute_result"
    }
   ],
   "source": [
    "mt = np.array([[1,2,3,4,5],\n",
    "              [6,7,8,9,10],\n",
    "              [11,12,13,14,15],\n",
    "              [16,17,18,19,20],\n",
    "              [21,22,23,24,25],\n",
    "              [26,27,28,29,30]])\n",
    "\n",
    "#mengambil mengakses matriks [11,12]\n",
    "#                            [13,14]\n",
    "mt[2:4 , 0:2]"
   ]
  },
  {
   "cell_type": "code",
   "execution_count": 102,
   "id": "065554e3",
   "metadata": {},
   "outputs": [
    {
     "data": {
      "text/plain": [
       "array([ 2,  8, 14, 20])"
      ]
     },
     "execution_count": 102,
     "metadata": {},
     "output_type": "execute_result"
    }
   ],
   "source": [
    "#mengambil diagonal miring kanan 2,8,14,20\n",
    "mt[[0,1,2,3],[1,2,3,4]]"
   ]
  },
  {
   "cell_type": "code",
   "execution_count": 103,
   "id": "a0acac18",
   "metadata": {},
   "outputs": [
    {
     "data": {
      "text/plain": [
       "array([[ 4,  5],\n",
       "       [24, 25],\n",
       "       [29, 30]])"
      ]
     },
     "execution_count": 103,
     "metadata": {},
     "output_type": "execute_result"
    }
   ],
   "source": [
    "#mengambil 4,5 24,25 29,30\n",
    "mt[[0,4,5], 3:]"
   ]
  }
 ],
 "metadata": {
  "kernelspec": {
   "display_name": "Python 3",
   "language": "python",
   "name": "python3"
  },
  "language_info": {
   "codemirror_mode": {
    "name": "ipython",
    "version": 3
   },
   "file_extension": ".py",
   "mimetype": "text/x-python",
   "name": "python",
   "nbconvert_exporter": "python",
   "pygments_lexer": "ipython3",
   "version": "3.11.0 (main, Oct 24 2022, 18:26:48) [MSC v.1933 64 bit (AMD64)]"
  },
  "vscode": {
   "interpreter": {
    "hash": "5238573367df39f7286bb46f9ff5f08f63a01a80960060ce41e3c79b190280fa"
   }
  }
 },
 "nbformat": 4,
 "nbformat_minor": 5
}
