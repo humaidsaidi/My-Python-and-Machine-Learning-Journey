{
 "cells": [
  {
   "cell_type": "markdown",
   "id": "edba3118",
   "metadata": {},
   "source": [
    "# 1. Operator Aritmatika"
   ]
  },
  {
   "cell_type": "markdown",
   "id": "a7e72df3",
   "metadata": {},
   "source": [
    "## Melakukan Penjumlahan"
   ]
  },
  {
   "cell_type": "code",
   "execution_count": 12,
   "id": "c419666b",
   "metadata": {},
   "outputs": [
    {
     "name": "stdout",
     "output_type": "stream",
     "text": [
      "55\n",
      "-10\n"
     ]
    }
   ],
   "source": [
    "print(10 + 45)\n",
    "print(-30 + 20)"
   ]
  },
  {
   "cell_type": "markdown",
   "id": "921f7eca",
   "metadata": {},
   "source": [
    "## Melakukan Pengurangan"
   ]
  },
  {
   "cell_type": "code",
   "execution_count": 13,
   "id": "225ac74b",
   "metadata": {},
   "outputs": [
    {
     "name": "stdout",
     "output_type": "stream",
     "text": [
      "15\n",
      "-15\n"
     ]
    }
   ],
   "source": [
    "print(45 - 30)\n",
    "print(-10 - 5)"
   ]
  },
  {
   "cell_type": "markdown",
   "id": "d8a98dca",
   "metadata": {},
   "source": [
    "## Melakukan Pembagian"
   ]
  },
  {
   "cell_type": "code",
   "execution_count": 14,
   "id": "f509fd89",
   "metadata": {},
   "outputs": [
    {
     "name": "stdout",
     "output_type": "stream",
     "text": [
      "16.666666666666668\n",
      "16\n",
      "4.0\n",
      "5.0\n",
      "3.0\n"
     ]
    }
   ],
   "source": [
    "print( 50 / 3) #dengan kode ini hasilnya bilangan float atau desimal\n",
    "print(50 // 3) #dengan kode ini hasilnya bilangan integer atau bulat\n",
    "print(12.0 / 3)\n",
    "print(50.0 / 10)\n",
    "print(45 / 15)"
   ]
  },
  {
   "cell_type": "markdown",
   "id": "4341bbe8",
   "metadata": {},
   "source": [
    "## Melakukan Perkalian"
   ]
  },
  {
   "cell_type": "code",
   "execution_count": 15,
   "id": "08fb7b9c",
   "metadata": {},
   "outputs": [
    {
     "name": "stdout",
     "output_type": "stream",
     "text": [
      "30\n"
     ]
    }
   ],
   "source": [
    "print(10 * 3)"
   ]
  },
  {
   "cell_type": "markdown",
   "id": "366456a1",
   "metadata": {},
   "source": [
    "## Melakukan Modulo (Mencari sisa pembagian)"
   ]
  },
  {
   "cell_type": "code",
   "execution_count": 16,
   "id": "460ff87a",
   "metadata": {},
   "outputs": [
    {
     "name": "stdout",
     "output_type": "stream",
     "text": [
      "1\n",
      "0\n"
     ]
    }
   ],
   "source": [
    "print(7 % 2)\n",
    "print(10 % 5)"
   ]
  },
  {
   "cell_type": "markdown",
   "id": "ca50a557",
   "metadata": {},
   "source": [
    "## Melakukan Pemangkatan (Eksponensial)"
   ]
  },
  {
   "cell_type": "code",
   "execution_count": 17,
   "id": "bcea3a0f",
   "metadata": {},
   "outputs": [
    {
     "name": "stdout",
     "output_type": "stream",
     "text": [
      "25\n",
      "27\n"
     ]
    }
   ],
   "source": [
    "print(5 ** 2) # 5 pangkat 2\n",
    "print(3 ** 3)"
   ]
  },
  {
   "cell_type": "markdown",
   "id": "f552d1f2",
   "metadata": {},
   "source": [
    "Prioritas operator aritmatika secara berterurut adalah sebagai berikut\n",
    "- Kurung\n",
    "- Eksponen\n",
    "- Perkalian, Pembagian, Pembagian(yang dibulatkan), dan Modulo\n",
    "- Penjumlahan dan Pengurangan"
   ]
  },
  {
   "cell_type": "code",
   "execution_count": 19,
   "id": "f9836957",
   "metadata": {},
   "outputs": [
    {
     "name": "stdout",
     "output_type": "stream",
     "text": [
      "12.5\n",
      "-4.0\n"
     ]
    }
   ],
   "source": [
    "print(5 + 3 * 5 / 2)\n",
    "print((9 + 3)- 4 * (8 / 2))"
   ]
  },
  {
   "cell_type": "markdown",
   "id": "aa61b57e",
   "metadata": {},
   "source": [
    "# 2. Variabel dan Tipe Data"
   ]
  },
  {
   "cell_type": "markdown",
   "id": "f0bd0e55",
   "metadata": {},
   "source": [
    "Variabel adalah semacam wadah yang diberi nama yang di dalamnya berisi suatu nilai atau data\n",
    "a = 24\n",
    "wadah yang diberi nama a berisi atau bernilai 24\n",
    "\n",
    "Pada Python ada 3 jenis bentuk nilai yang bisa disimpan di dalam variabel atau yang biasa disebut dengan tipe data :\n",
    "    - Bilangan Bulat (integer)\n",
    "    - Bilangan Desimal (float)\n",
    "    - String (berisi kalimat dan karakter)\n",
    "    \n",
    "Dalam Python kita tidak perlu mendeklarasikan tipe data seperti pada C++, Java, dll."
   ]
  },
  {
   "cell_type": "code",
   "execution_count": 34,
   "id": "4352cb96",
   "metadata": {},
   "outputs": [
    {
     "name": "stdout",
     "output_type": "stream",
     "text": [
      "24\n",
      "2.5\n",
      "Humaid\n"
     ]
    }
   ],
   "source": [
    "_Integer = 24\n",
    "print(_Integer)\n",
    "_Float = 2.5\n",
    "print(_Float)\n",
    "_String = \"Humaid\"\n",
    "print(_String)"
   ]
  },
  {
   "cell_type": "markdown",
   "id": "0d16eac9",
   "metadata": {},
   "source": [
    "Aturan membuat variabel :\n",
    "- Nama variabel harus didahului dengan huruf atau underscore\n",
    "- Terdiri dari huruf, angka, dan underscore\n",
    "- Nama variabel bersifat case sensitive (salah penulisan berakibat variabel tidak bisa diakses\n",
    "- Jangan menggunakan kata yang dibalik\n",
    "- Tidak boleh menggunakan kata kunci dalam program seperti if, while, for, and, or, return, dll."
   ]
  },
  {
   "cell_type": "code",
   "execution_count": 21,
   "id": "2848d9a8",
   "metadata": {},
   "outputs": [
    {
     "ename": "NameError",
     "evalue": "name 'MyNumber' is not defined",
     "output_type": "error",
     "traceback": [
      "\u001b[0;31m---------------------------------------------------------------------------\u001b[0m",
      "\u001b[0;31mNameError\u001b[0m                                 Traceback (most recent call last)",
      "Input \u001b[0;32mIn [21]\u001b[0m, in \u001b[0;36m<module>\u001b[0;34m\u001b[0m\n\u001b[1;32m      1\u001b[0m myNumber \u001b[38;5;241m=\u001b[39m \u001b[38;5;241m24\u001b[39m\n\u001b[0;32m----> 2\u001b[0m \u001b[38;5;28mprint\u001b[39m(\u001b[43mMyNumber\u001b[49m)\n",
      "\u001b[0;31mNameError\u001b[0m: name 'MyNumber' is not defined"
     ]
    }
   ],
   "source": [
    "myNumber = 24\n",
    "print(MyNumber) # variabel akan menjadi tidak bisa diakses karena penulisan nama variabelnya salah"
   ]
  },
  {
   "cell_type": "code",
   "execution_count": 22,
   "id": "24877a88",
   "metadata": {},
   "outputs": [
    {
     "ename": "SyntaxError",
     "evalue": "invalid syntax (680495135.py, line 1)",
     "output_type": "error",
     "traceback": [
      "\u001b[0;36m  Input \u001b[0;32mIn [22]\u001b[0;36m\u001b[0m\n\u001b[0;31m    int myInt = 8 # akan error karena tidak perlu mendeklarasikan variabel dalam python\u001b[0m\n\u001b[0m        ^\u001b[0m\n\u001b[0;31mSyntaxError\u001b[0m\u001b[0;31m:\u001b[0m invalid syntax\n"
     ]
    }
   ],
   "source": [
    "int myInt = 8 # akan error karena tidak perlu mendeklarasikan variabel dalam python\n",
    "print(myInt) "
   ]
  },
  {
   "cell_type": "code",
   "execution_count": 27,
   "id": "ed14f385",
   "metadata": {},
   "outputs": [
    {
     "ename": "SyntaxError",
     "evalue": "invalid syntax (1120785642.py, line 1)",
     "output_type": "error",
     "traceback": [
      "\u001b[0;36m  Input \u001b[0;32mIn [27]\u001b[0;36m\u001b[0m\n\u001b[0;31m    21tahun = 21 # akan error karena variabel tidak boleh didahului dengan angka\u001b[0m\n\u001b[0m      ^\u001b[0m\n\u001b[0;31mSyntaxError\u001b[0m\u001b[0;31m:\u001b[0m invalid syntax\n"
     ]
    }
   ],
   "source": [
    "21tahun = 21 # akan error karena variabel tidak boleh didahului dengan angka\n",
    "print(21tahun)"
   ]
  },
  {
   "cell_type": "code",
   "execution_count": 30,
   "id": "8c646658",
   "metadata": {},
   "outputs": [
    {
     "ename": "NameError",
     "evalue": "name 'tempat' is not defined",
     "output_type": "error",
     "traceback": [
      "\u001b[0;31m---------------------------------------------------------------------------\u001b[0m",
      "\u001b[0;31mNameError\u001b[0m                                 Traceback (most recent call last)",
      "Input \u001b[0;32mIn [30]\u001b[0m, in \u001b[0;36m<module>\u001b[0;34m\u001b[0m\n\u001b[0;32m----> 1\u001b[0m \u001b[43mtempat\u001b[49m\u001b[38;5;241m.\u001b[39mmakan \u001b[38;5;241m=\u001b[39m \u001b[38;5;124m\"\u001b[39m\u001b[38;5;124mwarung\u001b[39m\u001b[38;5;124m\"\u001b[39m \u001b[38;5;66;03m#akan error karena nama variabel tidak boleh ada simbol selain underscore, bahkan spasi juga tidak boleh\u001b[39;00m\n\u001b[1;32m      2\u001b[0m \u001b[38;5;28mprint\u001b[39m(tempat\u001b[38;5;241m.\u001b[39mmakan)\n",
      "\u001b[0;31mNameError\u001b[0m: name 'tempat' is not defined"
     ]
    }
   ],
   "source": [
    "tempat.makan = \"warung\" #akan error karena nama variabel tidak boleh ada simbol selain underscore, bahkan spasi juga tidak boleh\n",
    "print(tempat.makan)"
   ]
  },
  {
   "cell_type": "code",
   "execution_count": 24,
   "id": "8e02f5ab",
   "metadata": {},
   "outputs": [
    {
     "name": "stdout",
     "output_type": "stream",
     "text": [
      "Usia saya 21 tahun\n"
     ]
    }
   ],
   "source": [
    "usia = 21\n",
    "print(\"Usia saya\", usia, \"tahun\")"
   ]
  },
  {
   "cell_type": "code",
   "execution_count": 26,
   "id": "cd844b3b",
   "metadata": {},
   "outputs": [
    {
     "name": "stdout",
     "output_type": "stream",
     "text": [
      "restoran\n"
     ]
    }
   ],
   "source": [
    "t4makan = \"restoran\" \n",
    "print(t4makan)"
   ]
  },
  {
   "cell_type": "code",
   "execution_count": 31,
   "id": "98ac9882",
   "metadata": {},
   "outputs": [
    {
     "name": "stdout",
     "output_type": "stream",
     "text": [
      "Humaid\n"
     ]
    }
   ],
   "source": [
    "_nama = \"Humaid\"\n",
    "print(_nama)"
   ]
  },
  {
   "cell_type": "markdown",
   "id": "d0f5dca3",
   "metadata": {},
   "source": [
    "selain tipe data di atas, kita bisa memasukkan nilai ke dalam variabel dalam bentuk bilangan kompleks, dan hasil\n",
    "hasil perpangkatan"
   ]
  },
  {
   "cell_type": "code",
   "execution_count": 33,
   "id": "9030b1c4",
   "metadata": {},
   "outputs": [
    {
     "name": "stdout",
     "output_type": "stream",
     "text": [
      "2.1\n",
      "2j\n",
      "200.0\n"
     ]
    }
   ],
   "source": [
    "myFloat = 2.1\n",
    "myComplex = 2j #bilangan kompleks\n",
    "myNum = 2e2 #hasil perpangkatan 2 pangkat 2\n",
    "print(myFloat)\n",
    "print(myComplex)\n",
    "print(myNum)"
   ]
  },
  {
   "cell_type": "markdown",
   "id": "3de41115",
   "metadata": {},
   "source": [
    "kita diperbolehkan mengganti nilai yang ada di dalam variabel, dan juga memasukkan isi dari suatu variabel ke dalam\n",
    "variabel lain"
   ]
  },
  {
   "cell_type": "code",
   "execution_count": 35,
   "id": "52a23ade",
   "metadata": {},
   "outputs": [
    {
     "name": "stdout",
     "output_type": "stream",
     "text": [
      "12\n",
      "12\n"
     ]
    }
   ],
   "source": [
    "_int = 10\n",
    "_int = 12 #mengganti nilai dalam variabel\n",
    "_float = 3.4\n",
    "_float = _int\n",
    "print(_int)\n",
    "print(_float)\n"
   ]
  },
  {
   "cell_type": "markdown",
   "id": "aac312ed",
   "metadata": {},
   "source": [
    "bila kita perhatikan contoh di atas, saat kita memasukkan nilai _int ke _float, _float malah menyimpan bilangan \n",
    "integer padahal kita ingin menyimpan bilangan desimal di dalam _float, kita bisa melakukan type casting atau \n",
    "mengkonversi tipe data, dalam kasus ini konversi dilakukan dari integer ke float.\n",
    "Berikut adalah contohnya :"
   ]
  },
  {
   "cell_type": "code",
   "execution_count": 38,
   "id": "abaa68b3",
   "metadata": {},
   "outputs": [
    {
     "name": "stdout",
     "output_type": "stream",
     "text": [
      "12\n",
      "12.0\n",
      "\n",
      "\n",
      "14\n"
     ]
    }
   ],
   "source": [
    "_int = 10\n",
    "_int = 12 #mengganti nilai dalam variabel\n",
    "_float = 3.4\n",
    "_float = float(_int) #contoh type casting\n",
    "print(_int)\n",
    "print(_float)\n",
    "\n",
    "print(\"\\n\")\n",
    "\n",
    "bilreal = 14.5\n",
    "bilint = 56\n",
    "bilint = int(bilreal)\n",
    "print(bilint)\n"
   ]
  },
  {
   "cell_type": "markdown",
   "id": "ed5c4aee",
   "metadata": {},
   "source": [
    "kita bisa mengecek jenis tipe data dari suatu variabel dengan perintah berikut :"
   ]
  },
  {
   "cell_type": "code",
   "execution_count": 42,
   "id": "13b928dc",
   "metadata": {},
   "outputs": [
    {
     "name": "stdout",
     "output_type": "stream",
     "text": [
      "14\n",
      "Humaid\n",
      "<class 'float'>\n",
      "<class 'int'>\n",
      "<class 'str'>\n"
     ]
    }
   ],
   "source": [
    "bilreal = 14.5\n",
    "bilint = 56\n",
    "bilint = int(bilreal)\n",
    "nama = 'Humaid'\n",
    "print(bilint)\n",
    "print(nama)\n",
    "print(type(bilreal)) #mengecek tipe data\n",
    "print(type(bilint))\n",
    "print(type(nama))"
   ]
  },
  {
   "cell_type": "markdown",
   "id": "923cd7ef",
   "metadata": {},
   "source": [
    "# 3. Fungsi Built In (Fungsi bawaan dalam Python) Yang Paling Sering Digunakan"
   ]
  },
  {
   "cell_type": "markdown",
   "id": "aa6dc6bd",
   "metadata": {},
   "source": [
    "## Fungsi print"
   ]
  },
  {
   "cell_type": "code",
   "execution_count": 49,
   "id": "458599ba",
   "metadata": {},
   "outputs": [
    {
     "name": "stdout",
     "output_type": "stream",
     "text": [
      "Hello World\n",
      "nama adikku Ukas\n",
      "9\n",
      "5 x 3 =  15\n"
     ]
    }
   ],
   "source": [
    "print(\"Hello World\")#fungsi print berguna untuk memprint suatu argumen di konsol\n",
    "nama = 'Ukas'\n",
    "print('nama adikku', nama)\n",
    "print(4 + 5)\n",
    "print('5 x 3 = ', 5*3)"
   ]
  },
  {
   "cell_type": "code",
   "execution_count": 50,
   "id": "c243e6b9",
   "metadata": {},
   "outputs": [
    {
     "name": "stdout",
     "output_type": "stream",
     "text": [
      "10 x 7 = 70\n",
      "Mantap-------Sekali\n"
     ]
    }
   ],
   "source": [
    "#dalam fungsi print terdapat beberapa method khusus untuk string. akan saya berikan contohnya\n",
    "x = 10\n",
    "y = 7\n",
    "print(\"{0} x {1} = {2}\".format(x,y,x*y)) #0, 1, dan 2 di dalam kurung kurawal adalah indeks dari variabel di dalam .format()\n",
    "print('Mantap', 'Sekali', sep=\"-------\") #membuat pemisah"
   ]
  },
  {
   "cell_type": "code",
   "execution_count": 54,
   "id": "b0bc3950",
   "metadata": {},
   "outputs": [
    {
     "name": "stdout",
     "output_type": "stream",
     "text": [
      "Halo Adi\n",
      "Beratku 65.500000 kg\n",
      "tinggi badan Adi adalah 167, dan berat badannya adalah 65.500000\n",
      "num = 34.123400\n",
      "num = 34.12\n"
     ]
    }
   ],
   "source": [
    "#menggunkan fungsi print untuk string formatting dengan gaya bahasa C\n",
    "nama ='Adi'\n",
    "print('Halo %s' %nama) #%s untuk yang bertipe data string\n",
    "beratBadan = 65.5\n",
    "print('Beratku %f kg' %beratBadan) #%f untuk yang bertipe data float\n",
    "tinggiBadan = 167\n",
    "print(\"tinggi badan %s adalah %d, dan berat badannya adalah %f\" %(nama,tinggiBadan,beratBadan)) #%d untuk yang bertipe data integer\n",
    "\n",
    "#kita juga bisa membatasi berapa digit dibelakang koma dari bilangan desimal yang akan kita print\n",
    "num = 34.1234\n",
    "print('num = %f'%num)\n",
    "print('num = %.2f'%num) #membatasi digit dibelakang koma"
   ]
  },
  {
   "cell_type": "markdown",
   "id": "8ad5a2be",
   "metadata": {},
   "source": [
    "## Fungsi input (Untuk Menginput Nilai dari User ke Dalam Program)"
   ]
  },
  {
   "cell_type": "code",
   "execution_count": 61,
   "id": "820702c8",
   "metadata": {},
   "outputs": [
    {
     "name": "stdout",
     "output_type": "stream",
     "text": [
      "Masukkan namamu : Aji\n",
      "Masukkan usiamu : 20\n",
      "Masukkan berat badanmu : 70.5\n",
      "Halo Aji , usiamu adalah 20 tahun dan berat badanmu adalah 70.5 kg\n"
     ]
    }
   ],
   "source": [
    "nama = input(\"Masukkan namamu : \")\n",
    "usia = int(input(\"Masukkan usiamu : \")) #harus dicasting terlebih dahulu tipe datanya, karena secara default input bertipe string\n",
    "bb = float(input(\"Masukkan berat badanmu : \"))\n",
    "print(\"Halo\",nama, \", usiamu adalah\", usia, \"tahun dan berat badanmu adalah\", bb, \"kg\")"
   ]
  },
  {
   "cell_type": "markdown",
   "id": "1ee4a215",
   "metadata": {},
   "source": [
    "## Fungsi dir (Untuk mengecek method atau fungsi apa saja yang terdapat pada python atau pada suatu modul (library))"
   ]
  },
  {
   "cell_type": "code",
   "execution_count": 62,
   "id": "9883d1a1",
   "metadata": {},
   "outputs": [
    {
     "data": {
      "text/plain": [
       "['ArithmeticError',\n",
       " 'AssertionError',\n",
       " 'AttributeError',\n",
       " 'BaseException',\n",
       " 'BlockingIOError',\n",
       " 'BrokenPipeError',\n",
       " 'BufferError',\n",
       " 'BytesWarning',\n",
       " 'ChildProcessError',\n",
       " 'ConnectionAbortedError',\n",
       " 'ConnectionError',\n",
       " 'ConnectionRefusedError',\n",
       " 'ConnectionResetError',\n",
       " 'DeprecationWarning',\n",
       " 'EOFError',\n",
       " 'Ellipsis',\n",
       " 'EnvironmentError',\n",
       " 'Exception',\n",
       " 'False',\n",
       " 'FileExistsError',\n",
       " 'FileNotFoundError',\n",
       " 'FloatingPointError',\n",
       " 'FutureWarning',\n",
       " 'GeneratorExit',\n",
       " 'IOError',\n",
       " 'ImportError',\n",
       " 'ImportWarning',\n",
       " 'IndentationError',\n",
       " 'IndexError',\n",
       " 'InterruptedError',\n",
       " 'IsADirectoryError',\n",
       " 'KeyError',\n",
       " 'KeyboardInterrupt',\n",
       " 'LookupError',\n",
       " 'MemoryError',\n",
       " 'ModuleNotFoundError',\n",
       " 'NameError',\n",
       " 'None',\n",
       " 'NotADirectoryError',\n",
       " 'NotImplemented',\n",
       " 'NotImplementedError',\n",
       " 'OSError',\n",
       " 'OverflowError',\n",
       " 'PendingDeprecationWarning',\n",
       " 'PermissionError',\n",
       " 'ProcessLookupError',\n",
       " 'RecursionError',\n",
       " 'ReferenceError',\n",
       " 'ResourceWarning',\n",
       " 'RuntimeError',\n",
       " 'RuntimeWarning',\n",
       " 'StopAsyncIteration',\n",
       " 'StopIteration',\n",
       " 'SyntaxError',\n",
       " 'SyntaxWarning',\n",
       " 'SystemError',\n",
       " 'SystemExit',\n",
       " 'TabError',\n",
       " 'TimeoutError',\n",
       " 'True',\n",
       " 'TypeError',\n",
       " 'UnboundLocalError',\n",
       " 'UnicodeDecodeError',\n",
       " 'UnicodeEncodeError',\n",
       " 'UnicodeError',\n",
       " 'UnicodeTranslateError',\n",
       " 'UnicodeWarning',\n",
       " 'UserWarning',\n",
       " 'ValueError',\n",
       " 'Warning',\n",
       " 'ZeroDivisionError',\n",
       " '__IPYTHON__',\n",
       " '__build_class__',\n",
       " '__debug__',\n",
       " '__doc__',\n",
       " '__import__',\n",
       " '__loader__',\n",
       " '__name__',\n",
       " '__package__',\n",
       " '__spec__',\n",
       " 'abs',\n",
       " 'all',\n",
       " 'any',\n",
       " 'ascii',\n",
       " 'bin',\n",
       " 'bool',\n",
       " 'breakpoint',\n",
       " 'bytearray',\n",
       " 'bytes',\n",
       " 'callable',\n",
       " 'chr',\n",
       " 'classmethod',\n",
       " 'compile',\n",
       " 'complex',\n",
       " 'copyright',\n",
       " 'credits',\n",
       " 'delattr',\n",
       " 'dict',\n",
       " 'dir',\n",
       " 'display',\n",
       " 'divmod',\n",
       " 'enumerate',\n",
       " 'eval',\n",
       " 'exec',\n",
       " 'execfile',\n",
       " 'filter',\n",
       " 'float',\n",
       " 'format',\n",
       " 'frozenset',\n",
       " 'get_ipython',\n",
       " 'getattr',\n",
       " 'globals',\n",
       " 'hasattr',\n",
       " 'hash',\n",
       " 'help',\n",
       " 'hex',\n",
       " 'id',\n",
       " 'input',\n",
       " 'int',\n",
       " 'isinstance',\n",
       " 'issubclass',\n",
       " 'iter',\n",
       " 'len',\n",
       " 'license',\n",
       " 'list',\n",
       " 'locals',\n",
       " 'map',\n",
       " 'max',\n",
       " 'memoryview',\n",
       " 'min',\n",
       " 'next',\n",
       " 'object',\n",
       " 'oct',\n",
       " 'open',\n",
       " 'ord',\n",
       " 'pow',\n",
       " 'print',\n",
       " 'property',\n",
       " 'range',\n",
       " 'repr',\n",
       " 'reversed',\n",
       " 'round',\n",
       " 'runfile',\n",
       " 'set',\n",
       " 'setattr',\n",
       " 'slice',\n",
       " 'sorted',\n",
       " 'staticmethod',\n",
       " 'str',\n",
       " 'sum',\n",
       " 'super',\n",
       " 'tuple',\n",
       " 'type',\n",
       " 'vars',\n",
       " 'zip']"
      ]
     },
     "execution_count": 62,
     "metadata": {},
     "output_type": "execute_result"
    }
   ],
   "source": [
    "dir(__builtins__) #misalkan kita mau mengecek method yang ada pada modul numpy, openCV, dll juga menggunakan fungsi ini"
   ]
  },
  {
   "cell_type": "markdown",
   "id": "490cf2c5",
   "metadata": {},
   "source": [
    "## Fungsi pow (untuk melakukan pemangkatan pada bilangan)"
   ]
  },
  {
   "cell_type": "code",
   "execution_count": 63,
   "id": "e8163b65",
   "metadata": {},
   "outputs": [
    {
     "data": {
      "text/plain": [
       "8"
      ]
     },
     "execution_count": 63,
     "metadata": {},
     "output_type": "execute_result"
    }
   ],
   "source": [
    "pow(2,3) # 2 pangkat 3"
   ]
  },
  {
   "cell_type": "markdown",
   "id": "5dceac1c",
   "metadata": {},
   "source": [
    "## Fungsi len (Untuk mengetahui panjang dari suatu string)"
   ]
  },
  {
   "cell_type": "code",
   "execution_count": 65,
   "id": "6b61d1fa",
   "metadata": {},
   "outputs": [
    {
     "data": {
      "text/plain": [
       "6"
      ]
     },
     "execution_count": 65,
     "metadata": {},
     "output_type": "execute_result"
    }
   ],
   "source": [
    "len('Humaid') #panjang string Humaid adalah 6"
   ]
  },
  {
   "cell_type": "markdown",
   "id": "6e2af97f",
   "metadata": {},
   "source": [
    "## Fungsi help (Untuk mengetahui kegunaan dari suatu fungsi atau method)"
   ]
  },
  {
   "cell_type": "code",
   "execution_count": 66,
   "id": "c66086ee",
   "metadata": {},
   "outputs": [
    {
     "name": "stdout",
     "output_type": "stream",
     "text": [
      "Help on built-in function pow in module builtins:\n",
      "\n",
      "pow(base, exp, mod=None)\n",
      "    Equivalent to base**exp with 2 arguments or base**exp % mod with 3 arguments\n",
      "    \n",
      "    Some types, such as ints, are able to use a more efficient algorithm when\n",
      "    invoked using the three argument form.\n",
      "\n"
     ]
    }
   ],
   "source": [
    "help(pow)"
   ]
  },
  {
   "cell_type": "markdown",
   "id": "51b3072b",
   "metadata": {},
   "source": [
    "## Fungsi max (Untuk mencari nilai terbesar dari suatu list)"
   ]
  },
  {
   "cell_type": "code",
   "execution_count": 67,
   "id": "7af3f893",
   "metadata": {},
   "outputs": [
    {
     "data": {
      "text/plain": [
       "10"
      ]
     },
     "execution_count": 67,
     "metadata": {},
     "output_type": "execute_result"
    }
   ],
   "source": [
    "max(4,7,10,1)"
   ]
  },
  {
   "cell_type": "markdown",
   "id": "eedcdc73",
   "metadata": {},
   "source": [
    "# 4. Modul (library) Built In "
   ]
  },
  {
   "cell_type": "markdown",
   "id": "d3d2a7ed",
   "metadata": {},
   "source": [
    "## Modul math (Untuk melakukan perhitungan matematis)\n"
   ]
  },
  {
   "cell_type": "code",
   "execution_count": 77,
   "id": "adc27dca",
   "metadata": {},
   "outputs": [
    {
     "name": "stdout",
     "output_type": "stream",
     "text": [
      "10.0\n",
      "32\n",
      "33\n",
      "-0.4480736161291701\n"
     ]
    }
   ],
   "source": [
    "import math #pada saat ingin menggunakan suatu modul kita harus menggunakan kata kunci import\n",
    "print(math.sqrt(100)) #untuk mencari akar kuadrat dari suatu bilangan\n",
    "print(math.floor(32.345)) #untuk membulatkan (ke bawah) bilangan desimal\n",
    "print(round(32.56)) #untuk membulatkan (ke atas apabila diatas 0,5) bilangan desimal\n",
    "print(math.cos(90))\n",
    "\n",
    "#dan masih banyak lagi, untuk lebih detailnya gunakan fungsi dir"
   ]
  },
  {
   "cell_type": "markdown",
   "id": "a8c8ddb0",
   "metadata": {},
   "source": [
    "# 5. Program Pertama (menghitung luas lingkaran)"
   ]
  },
  {
   "cell_type": "code",
   "execution_count": 72,
   "id": "891c1a57",
   "metadata": {},
   "outputs": [
    {
     "name": "stdout",
     "output_type": "stream",
     "text": [
      "Masukkan jari jari lingkaran : 54.6\n",
      "Luas lingkaran adalah 9360.84\n"
     ]
    }
   ],
   "source": [
    "r = float(input('Masukkan jari jari lingkaran : '))\n",
    "phi = 3.14\n",
    "luas = (r ** 2)*phi\n",
    "print('Luas lingkaran adalah %.2f'%luas)"
   ]
  },
  {
   "cell_type": "markdown",
   "id": "d44946d4",
   "metadata": {},
   "source": [
    "# 6.Python String dan Method Khusus String"
   ]
  },
  {
   "cell_type": "code",
   "execution_count": 74,
   "id": "bbc329e5",
   "metadata": {},
   "outputs": [
    {
     "name": "stdout",
     "output_type": "stream",
     "text": [
      "Hello world\n",
      "HELLO WORLD\n",
      "humaid's book\n",
      "h\n",
      "hello\n",
      "Humaid's book\n",
      "Humaid\"s book\n",
      "False\n",
      "True\n",
      "    AssAlAmuAlAikum    \n",
      "Assalamualaikum\n",
      "['Hai', ' Adi ']\n",
      "Hai, Adi Hai, Adi Hai, Adi Hai, Adi Hai, Adi Hai, Adi \n"
     ]
    }
   ],
   "source": [
    "a = \"hello World\"\n",
    "b = 'hello world'\n",
    "c = \"HUMAID'S BOOK\" #jika di dalam string ada kutip 1, maka pembuatan string menggunakan kutip 2\n",
    "d = 'Humaid\\'s book' #jika di dalam string ada kutip 1, dan pembuatan string menggunakan kutip 1 maka harus \n",
    "                     # menggunakan karakter escape(\\) sebelum kutip yg di dalam string\"\"\"\n",
    "e = \"Humaid\\\"s book\" #begitu juga bila ada kutip 1 di dalam string\n",
    "f = \"Buku favorit\"\n",
    "g = \"electrical engineering\"\n",
    "h = \"    Assalamualaikum    \"\n",
    "i = \"Hai, Adi \"\n",
    "\n",
    "#method khusus string\n",
    "print(a.capitalize()) #merubah huruf pertama dalam string agar menjadi kapital\n",
    "print(b.upper()) #merubah semua huruf dalam string menjadi huruf kapital\n",
    "print(c.lower()) #merubah semua huruf dalam string menjadi huruf kecil\n",
    "print(a[0]) #memprint karakter pertama dari string a (indeks dalam python dimulai dari 0 bukan 1)\n",
    "print(b[0:5]) #memprint karakter pertama sampai keempat dari string a\n",
    "print(d)\n",
    "print(e)\n",
    "print(f.isupper()) #mengecek apakah huruf dalam string besar semua\n",
    "print(g.islower()) #mengecek apakah huruf dalam string kecil semua\n",
    "print(h.replace(\"a\", \"A\")) #memodifikasi dan merubah suatu karakter di dalam string (setiap \"a\" akan dirubah \"A\")\n",
    "print(h.strip()) #menghilangkan spasi di depan dan belakang string\n",
    "print(i.split(',')) #memisah string\n",
    "print(i * 6) #memprint string i 6 kali"
   ]
  },
  {
   "cell_type": "markdown",
   "id": "2a491eca",
   "metadata": {},
   "source": [
    "# 7. Boolean, Operator Pembanding, dan Operator Logika"
   ]
  },
  {
   "cell_type": "markdown",
   "id": "b4089745",
   "metadata": {},
   "source": [
    "Nilai boolean adalah objek yang memiliki 2 kemungkinan pernyataan yaitu benar(True) dan salah(False)\n",
    "kita menggunakan boolean untuk mengetahui hasil dari suatu kondisi. Misalnya kita punya 2 angka lalu kita ingin membandingkan mana yang lebih besar kita bisa menggunakan operator pembanding dan kemudian output dari operasi pembandingan adalah boolean.\n",
    "  \n",
    "Operator Pembanding :\n",
    "  -==  sama dengan\n",
    "  -!=  tidak sama dengan\n",
    "  ->   lebih besar dari\n",
    "  -<   lebih kecil dari\n",
    "  ->=  sama dengan atau lebih besar\n",
    "  -<=  sama dengan atau lebih kecil\n",
    "  \n",
    "Operator Logika :\n",
    " -and   (x and y) hasilnya akan True apabila x dan y bernilai True\n",
    " -or    (x or  y) hasilnya akan True selama x dan y dua duanya tidak bernilai False\n",
    " -not   (x not y) misalnya y nilainya True maka x nya menjadi False begitu juga sebaliknya"
   ]
  },
  {
   "cell_type": "code",
   "execution_count": 75,
   "id": "6ed19422",
   "metadata": {},
   "outputs": [
    {
     "name": "stdout",
     "output_type": "stream",
     "text": [
      "True\n",
      "False\n",
      "True\n",
      "False\n",
      "False\n",
      "True\n",
      "True\n",
      "True\n",
      "False\n",
      "True\n",
      "True\n",
      "False\n",
      "True\n",
      "False\n"
     ]
    }
   ],
   "source": [
    "print(19 != 20) #True\n",
    "print(1000 == 100) #False\n",
    "\n",
    "x = 10\n",
    "y = 8\n",
    "print(x > y) #True\n",
    "\n",
    "print(9 < 4) #False\n",
    "print(56 >= 60) #False\n",
    "print(46 <= 50) #True\n",
    "\n",
    "a = \"ali\"\n",
    "print(a == \"ali\") #True\n",
    "print(a.islower()) #True\n",
    "print(a.isupper()) #False\n",
    "print(a.isalpha()) #True karena semuanya adalah alphabet\n",
    "print(a.isalnum()) #True karena string terdiri dari alphanumeric\n",
    "\n",
    "#Operator logika\n",
    "b = (5 > 4) #variabel b bernilai True\n",
    "c = (9 < 7) #variabel c bernilai False\n",
    "\n",
    "print(b and c) #False\n",
    "print(b or c) #True\n",
    "print(not b) #False\n"
   ]
  },
  {
   "cell_type": "markdown",
   "id": "a57caf7f",
   "metadata": {},
   "source": [
    "# 8. Percabangan If Else"
   ]
  },
  {
   "cell_type": "markdown",
   "id": "c922461b",
   "metadata": {},
   "source": [
    "- if statement\n",
    "  Apabila blok program di dalam if kondisinya terpenuhi (benar(True)) maka blok tersebut akan dieksekusi, bila tidak   terpenuhi(salah(False)) maka blok tersebut tidak akan dieksekusi.\n",
    "- if else statement\n",
    "  Apabila blok program di dalam if kondisinya terpenuhi (benar(True)) maka blok tersebut akan dieksekusi, bila tidak   terpenuhi(salah(False)) maka blok tersebut tidak akan dieksekusi, dan akan langsung mengeksekusi program di dalam   blok else\n",
    "- if elif else statement\n",
    "  Apabila blok program di dalam if kondisinya terpenuhi (benar(True)) maka blok tersebut akan dieksekusi, bila tidak   terpenuhi(salah(False)) maka blok tersebut tidak akan dieksekusi dan akan langsung mengecek kondisi pada blok elif   pertama, bila kondisi terpenuhi maka program dalam elif pertama akan dieksekusi, bila tidak terpenuhi blok elif     selanjutnya dicek apakah kondisinya terpenuhi, bila terpenuhi dieksekusi blok program di dalamnya dan bila tidak     maka elif selanjutnya dicek kondisinya. Begitupun seterusnya, apabila kondisi pada elif tidak satupun terpenuhi     maka blok program di dalam else yang akan dieksekusi"
   ]
  },
  {
   "cell_type": "code",
   "execution_count": 2,
   "id": "9cd13a65",
   "metadata": {},
   "outputs": [
    {
     "name": "stdout",
     "output_type": "stream",
     "text": [
      "a lebih besar dari 50\n",
      "Masukkan suatu bilangan : -45\n",
      "b adalah bilangan negatif\n",
      "Masukkan nilai anda : 90\n",
      "nilai anda sangat bagus\n"
     ]
    }
   ],
   "source": [
    "#if statement\n",
    "a = 60\n",
    "\n",
    "if a > 50:\n",
    "    print('a lebih besar dari 50') #blok ini akan dieksekusi karena kondisi if nya terpenuhi\n",
    "    \n",
    "if a == 50:\n",
    "    print('a sama dengan 50') #blok ini tidak akan dieksekusi karena kondisi if nya tidak terpenuhi\n",
    "    \n",
    "#if else statement\n",
    "b = int(input(\"Masukkan suatu bilangan : \"))\n",
    "\n",
    "if b > 0:\n",
    "    print(\"b adalah bilangan positif\")\n",
    "else:\n",
    "    print(\"b adalah bilangan negatif\")\n",
    "\n",
    "#if elif else statement\n",
    "nilai = float(input('Masukkan nilai anda : '))\n",
    "\n",
    "if nilai >= 90:\n",
    "    print('nilai anda sangat bagus')\n",
    "elif nilai >= 75 and nilai < 90:\n",
    "    print('nilai anda bagus')\n",
    "elif nilai >= 60 and nilai < 75:\n",
    "    print('nilai anda paspasan')\n",
    "else:\n",
    "    print('anda tidak lulus')"
   ]
  },
  {
   "cell_type": "markdown",
   "id": "8bb9c0c3",
   "metadata": {},
   "source": [
    "## if Bersarang (Nested if)"
   ]
  },
  {
   "cell_type": "code",
   "execution_count": 6,
   "id": "3159e040",
   "metadata": {},
   "outputs": [
    {
     "name": "stdout",
     "output_type": "stream",
     "text": [
      "Masukkan suatu bilangan :98\n",
      "98.0 adalah bilangan genap positif\n"
     ]
    }
   ],
   "source": [
    "#if bersarang\n",
    "x = float(input(\"Masukkan suatu bilangan :\"))\n",
    "if x < 0:\n",
    "    print(x, \"adalah bilangan negatif\")\n",
    "else:\n",
    "    if (x%2) == 0:\n",
    "        print(x, \"adalah bilangan genap positif\")\n",
    "    else:\n",
    "        print(x, \"adalah bilangan ganjil positif\")"
   ]
  },
  {
   "cell_type": "markdown",
   "id": "3712dd70",
   "metadata": {},
   "source": [
    "# 9. List dalam Python"
   ]
  },
  {
   "cell_type": "markdown",
   "id": "42640023",
   "metadata": {},
   "source": [
    "List adalah sekumpulan data, dengan list kita bisa memasukkan banyak nilai atau data dalam 1 variabel, list sangat\n",
    "mirip dengan array pada bahasa pemrograman lain seperti C, C++, Java, dll."
   ]
  },
  {
   "cell_type": "code",
   "execution_count": 10,
   "id": "8e12326a",
   "metadata": {},
   "outputs": [
    {
     "name": "stdout",
     "output_type": "stream",
     "text": [
      "[2, 4, 6, 8, 10]\n",
      "6\n",
      "[2, 4, 6]\n",
      "['adi', 167, 65.7, [6, 4]]\n",
      "[6, 4]\n",
      "['adi', 'ali', 167, 65.7, [6, 4]]\n",
      "['ali', 167, 65.7, [6, 4]]\n",
      "['ali', 167, 65.7]\n",
      "['ali', 'aji', 'adi', 'edi', 'eko']\n",
      "[]\n",
      "[2, 3, 4, 7, 8, 8, 8, 9]\n",
      "[9, 8, 8, 8, 7, 4, 3, 2]\n",
      "3\n",
      "[2, 4, 6, 8, 10]\n"
     ]
    },
    {
     "ename": "NameError",
     "evalue": "name 'd' is not defined",
     "output_type": "error",
     "traceback": [
      "\u001b[0;31m---------------------------------------------------------------------------\u001b[0m",
      "\u001b[0;31mNameError\u001b[0m                                 Traceback (most recent call last)",
      "Input \u001b[0;32mIn [10]\u001b[0m, in \u001b[0;36m<module>\u001b[0;34m\u001b[0m\n\u001b[1;32m     34\u001b[0m d \u001b[38;5;241m=\u001b[39m [\u001b[38;5;241m1\u001b[39m,\u001b[38;5;241m2\u001b[39m,\u001b[38;5;241m3\u001b[39m,\u001b[38;5;241m4\u001b[39m,\u001b[38;5;241m5\u001b[39m,\u001b[38;5;241m6\u001b[39m]\n\u001b[1;32m     35\u001b[0m \u001b[38;5;28;01mdel\u001b[39;00m d \u001b[38;5;66;03m#ini berfungsi untuk menghapus list d\u001b[39;00m\n\u001b[0;32m---> 36\u001b[0m \u001b[38;5;28mprint\u001b[39m(\u001b[43md\u001b[49m)\n",
      "\u001b[0;31mNameError\u001b[0m: name 'd' is not defined"
     ]
    }
   ],
   "source": [
    "num = [2, 4, 6, 8, 10] #ini adalah contoh list, list harus diletakkan di dalam kurung kotak, isi dari list disebut\n",
    "                       #elemen jadi 2 adalah elemen dengan indeks 0 begitu juga dengan yang lainnya\n",
    "print(num)\n",
    "print(num[2]) #memprint elemen ketiga dari list num\n",
    "print(num[0:3]) #memprint elemen pertama sampai ketiga\n",
    "\n",
    "_list = [\"adi\", 167, 65.7, [6,4]] #list bisa diisi dengan data yang tipenya berbeda beda\n",
    "print(_list)\n",
    "print(_list[3])\n",
    "_list.insert(1, \"ali\") #memasukkan string ali ke dalam list dan meletakkannya pada indeks 1\n",
    "print(_list)\n",
    "_list.remove(\"adi\") #membuang atau menghapus string adi di dalam _list. jika ada elemen yang sama yang akan terhapus\n",
    "                    #adalah elemen yang lebih awal\n",
    "print(_list)\n",
    "_list.pop() #ini akan membuang elemen paling belakan pada list\n",
    "print(_list)\n",
    "\n",
    "nama = [\"ali\", \"aji\", \"adi\", \"edi\", \"eko\"]\n",
    "print(nama)\n",
    "nama.clear() #ini berfungsi untuk menghapus semua elemen di dalam nama\n",
    "print(nama)\n",
    "\n",
    "b = [7, 8, 4, 8, 2, 9, 3]\n",
    "b.append(8) #memasukkan 8 ke dalam list b dan meletakkannya di paling belakang\n",
    "b.sort() #mengurutkan elemen di dalam list b\n",
    "print(b)\n",
    "b.reverse() #mengurutkan elemen di dalam list b dari bawah ke atas\n",
    "print(b)\n",
    "print(b.count(8)) #menghitung ada berapa elemen yang bernilai 8\n",
    "\n",
    "c = num.copy() #mengcopy element dalam list nama dan memasukkannya ke dalam list c\n",
    "print(c)\n",
    "\n",
    "d = [1,2,3,4,5,6]\n",
    "del d #ini berfungsi untuk menghapus list d\n",
    "print(d) #jika kita akses d maka akan error karena d sudah dihapus"
   ]
  },
  {
   "cell_type": "markdown",
   "id": "30bd7c53",
   "metadata": {},
   "source": [
    "# 10. Tuple dalam Python"
   ]
  },
  {
   "cell_type": "markdown",
   "id": "fda40b15",
   "metadata": {},
   "source": [
    "Tuple sangat mirip dengan list, tuple juga bisa menyimpan sekumpulan data, akan tetapi bedanya tuple bersifat immutable yaitu tidak bisa dirubah rubah isinya, sehingga semenjak tuple dibuat ia tidak akan bisa dirubah"
   ]
  },
  {
   "cell_type": "code",
   "execution_count": 11,
   "id": "2eb0e52c",
   "metadata": {},
   "outputs": [
    {
     "name": "stdout",
     "output_type": "stream",
     "text": [
      "7\n",
      "1\n",
      "5\n",
      "7\n",
      "1\n",
      "('aan', 65.7, 170)\n",
      "(1, 4, 6, 7, 3, 'aan', 65.7, 170)\n",
      "('he', 'he', 'he', 'he', 'he', 'he')\n"
     ]
    }
   ],
   "source": [
    "x = (1, 4, 6, 7, 3) #pembuatan tuple dengan cara memasukkan elemen elemen ke dalam kurung, jika pada list \n",
    "                    #menggunakan kurung kotak maka pada tuple menggunakan kurung biasa\n",
    "print(x[3])\n",
    "print(x.count(4))\n",
    "print(len(x))\n",
    "print(max(x)) #mencari nilai terbesar di dalam tuple x\n",
    "print(min(x)) #mencari nilai terkecil di dalam tuple x\n",
    "\n",
    "y = ('aan', 65.7, 170) #tuple juga bisa menyimpan elemen yang tipe datanya berbeda beda\n",
    "print(y)\n",
    "\n",
    "z = x + y #memasukkan elemen tuple x dan y ke dalam tuple z\n",
    "print(z)\n",
    "\n",
    "a = (\"he\",) * 6 #dengan begini kita memasukkan elemen \"he\" ke dalam tuple a sebanyak 6 kali\n",
    "print(a)\n",
    "\n",
    "del x #menghapus tuple x"
   ]
  },
  {
   "cell_type": "markdown",
   "id": "4b78418e",
   "metadata": {},
   "source": [
    "# 11. Set dalam Python"
   ]
  },
  {
   "cell_type": "markdown",
   "id": "d2e810de",
   "metadata": {},
   "source": [
    "Set mirip dengan list dan tuple, set juga bisa menyimpan sekumpulan data, yang membedakan set dengan list dan tuple\n",
    "adalah elemen di dalam set tidak boleh ada yang sama apa bila ada yang sama hanya 1 saja yang akan dianggap sisanya\n",
    "dibuang, dan pada set tidak ada sistem pengindeks an"
   ]
  },
  {
   "cell_type": "code",
   "execution_count": 14,
   "id": "3c25d09e",
   "metadata": {},
   "outputs": [
    {
     "name": "stdout",
     "output_type": "stream",
     "text": [
      "{1, 2, 3, 4, 6, 7, 8}\n",
      "7\n",
      "{1, 2, 3, 4, 6, 7, 8, 10, 11, 13, 15, 16}\n",
      "{2, 4, 6, 7, 8, 10, 11, 13, 15, 16}\n",
      "{'kamu', 'dia', 'aku'}\n",
      "set()\n",
      "{1, 2, 3, 4, 5}\n",
      "{1, 2, 3, 4, 5, 6, 7, 8, 9}\n",
      "{1, 2, 3, 4, 5, 6, 7, 8, 9}\n",
      "{9, 6, 7}\n",
      "{9, 6, 7}\n",
      "{8, 1, 5}\n",
      "{8, 1, 5}\n",
      "{2, 3, 4}\n",
      "{2, 3, 4}\n",
      "{1, 2, 3, 4, 5, 8}\n",
      "{1, 2, 3, 4, 5, 8}\n",
      "{1, 2, 3, 4, 5, 8}\n"
     ]
    },
    {
     "ename": "TypeError",
     "evalue": "'set' object is not subscriptable",
     "output_type": "error",
     "traceback": [
      "\u001b[0;31m---------------------------------------------------------------------------\u001b[0m",
      "\u001b[0;31mTypeError\u001b[0m                                 Traceback (most recent call last)",
      "Input \u001b[0;32mIn [14]\u001b[0m, in \u001b[0;36m<module>\u001b[0;34m\u001b[0m\n\u001b[1;32m     46\u001b[0m \u001b[38;5;28mprint\u001b[39m(F \u001b[38;5;241m^\u001b[39m E) \u001b[38;5;66;03m#dibolak balik hasilnya sama\u001b[39;00m\n\u001b[1;32m     47\u001b[0m \u001b[38;5;28mprint\u001b[39m(E\u001b[38;5;241m.\u001b[39msymmetric_difference(F))\n\u001b[0;32m---> 49\u001b[0m \u001b[38;5;28mprint\u001b[39m(\u001b[43mE\u001b[49m\u001b[43m[\u001b[49m\u001b[38;5;241;43m2\u001b[39;49m\u001b[43m]\u001b[49m)\n",
      "\u001b[0;31mTypeError\u001b[0m: 'set' object is not subscriptable"
     ]
    }
   ],
   "source": [
    "A = {1, 3, 4, 6, 7, 2, 8, 8} #pembuatan set dengan memasukkan elemen elemennya ke dalam kurung kurawal\n",
    "print(A) #8 hanya ada satu karena 8 yang lainnya dibuang atau tidak dianggap\n",
    "print(len(A))\n",
    "A.add(10) #memasukkan elemen baru ke dalam set apabila elemen yang akan dimasukkan ada yang sama dengan elemen yang\n",
    "          #sudah ada dalam set maka elemen tersebut tidak bisa dimasukkan\n",
    "A.update([11, 13, 15, 16]) # memasukkan banyak elemen baru ke dalam set A secara bersamaan atau sekaligus\n",
    "print(A)\n",
    "A.remove(1) #menghapus suatu elemen di dalam set\n",
    "A.discard(3) #menghapus suatu elemen di dalam set. Perbedaan antara remove dan discard adalah pada remove apabila\n",
    "             #nilai yang akan kita hapus tidak ada di dalam set maka program akan error sedangkan pada discard tidak\n",
    "             #akan terjadi error\n",
    "print(A)\n",
    "\n",
    "B = set(('aku', 'kamu', 'dia')) #cara lain pembuatan set\n",
    "print(B)\n",
    "B.clear()\n",
    "print(B)\n",
    "\n",
    "C = [5, 4, 3, 2, 1]\n",
    "D = set((C.copy())) #merubah list menjadi set\n",
    "print(D)\n",
    "\n",
    "#Operasi Matematis pada set\n",
    "\n",
    "E = {1, 5, 6, 8, 9, 7}\n",
    "F = {9, 7, 6, 4, 3, 2}\n",
    "\n",
    "#or atau union\n",
    "print(E | F) #mencari or (penggabungan 2 set (apabila selama penggabungan ada elemen yang sama maka hanya 1 yang dianggap))\n",
    "print(E.union(F)) #hasilnya akan sama dengan or\n",
    "\n",
    "#and atau intersection\n",
    "print(E & F) #mencari and (mencari apakah elemen di dalam E ada yang sama dengan elemen di dalam F)\n",
    "print(E.intersection(F)) #hasilnya akan sama dengan and\n",
    "\n",
    "#mencari perbedaan elemen antara 2 set\n",
    "print(E - F) #mencari elemen yang ada di dalam E dan tidak ada di dalam F\n",
    "print(E.difference(F)) #hasilnya akan sama dengan E - F\n",
    "print(F - E) #mencari elemen yang ada di dalam F dan tidak ada di dalam E\n",
    "print(F.difference(E)) #hasilnya akan sama dengan F - E\n",
    "\n",
    "#mencari perbedaan simetris antara kedua set\n",
    "#perbedaan simetris terdiri dari semua elemen yang ada pada set E dan tidak pada set F atau dia ada pada set F dan\n",
    "#tidak pada set E\n",
    "print(E ^ F)\n",
    "print(F ^ E) #dibolak balik hasilnya sama\n",
    "print(E.symmetric_difference(F))\n",
    "\n",
    "print(E[2]) #ini akan error karena set tidak support pengindeksan"
   ]
  },
  {
   "cell_type": "markdown",
   "id": "cb0f22a0",
   "metadata": {},
   "source": [
    "# 12. Dictionary pada Python"
   ]
  },
  {
   "cell_type": "markdown",
   "id": "b4c2b288",
   "metadata": {},
   "source": [
    "Dictionary Python berbeda dengan List ataupun Tuple. Karena setiap urutanya berisi key dan value. Setiap key dipisahkan dari value-nya oleh titik dua (:), item dipisahkan oleh koma, dan semuanya tertutup dalam kurung kurawal. Dictionary kosong tanpa barang ditulis hanya dengan dua kurung kurawal, seperti ini: {}.\n",
    "Nilai kamus bisa berupa tipe apa pun, namun key harus berupa tipe data yang tidak berubah seperti string, angka, atau tupel."
   ]
  },
  {
   "cell_type": "code",
   "execution_count": 17,
   "id": "d4225f72",
   "metadata": {},
   "outputs": [
    {
     "name": "stdout",
     "output_type": "stream",
     "text": [
      "{'nama': 'Humaid', 'usia': 21, 'tahun': 2000}\n",
      "Humaid\n",
      "21\n",
      "5\n",
      "True\n",
      "5\n",
      "Humaid\n",
      "{'nama': 'Ali', 10: 10, 25.5: 25.5, True: True, (2, 3): 5, 'panggilan': 'Humed'}\n",
      "{'nama': 'Ali', 10: 10, 25.5: 25.5, True: True, (2, 3): 5}\n",
      "{'nama': 'Eki', 10: 10, 25.5: 25.5, True: True, (2, 3): 5}\n",
      "{'nama': 'Eki', 10: 10, 25.5: 25.5, True: True, (2, 3): 6}\n",
      "dict_keys(['nama', 'usia', 'tahun'])\n",
      "dict_values(['Humaid', 21, 2000])\n",
      "dict_items([('nama', 'Humaid'), ('usia', 21), ('tahun', 2000)])\n"
     ]
    }
   ],
   "source": [
    "d = {\"nama\" : \"Humaid\", \"usia\" : 21, \"tahun\" : 2000} #nama, usia, & tahun adalah key sedangkan Humaid, 21, & 2000 \n",
    "                                                     #adalah key\n",
    "print(d)\n",
    "print(d[\"nama\"]) #mengakses nilai yang ada di dalam key nama (yaitu Humaid)\n",
    "print(d[\"usia\"])\n",
    "\n",
    "#dictionary bisa menyimpan data apa saja\n",
    "e = {\"nama\":\"Ali\", 10:10, 25.5:25.5, True:True, (2,3):5} #keynya berbentuk string, int, float, boolean, dan tuple\n",
    "print(e[(2,3)])\n",
    "print(e[True])\n",
    "\n",
    "print(len(e))\n",
    "print(d.get(\"nama\")) #hasilnya sama dengan print(d[nama])\n",
    "\n",
    "#manambah key dan value ke dalam dictionary\n",
    "e[\"panggilan\"] = \"Humed\"\n",
    "print(e)\n",
    "e.pop(\"panggilan\") #menghapus key panggilan. bisa juga menggunakan e.popitem()\n",
    "print(e)\n",
    "\n",
    "#mengganti value dari suatu key\n",
    "e[\"nama\"] = \"Eki\"\n",
    "print(e)\n",
    "\n",
    "#mengupdate elemen dalam dictionary\n",
    "e.update({(2,3):6})\n",
    "print(e)\n",
    "\n",
    "#mengecek key apa saja yang ada di dalam dictionary\n",
    "print(d.keys())\n",
    "#mengecek value apa saja yang ada di dalam dictionary\n",
    "print(d.values())\n",
    "#mengecek item apa saja yang ada di dalam dictionary\n",
    "print(d.items())\n",
    "\n",
    "e.clear()\n",
    "del e"
   ]
  },
  {
   "cell_type": "markdown",
   "id": "7f96817b",
   "metadata": {},
   "source": [
    "# 13. Slice Function dan Negative Index"
   ]
  },
  {
   "cell_type": "markdown",
   "id": "8a0fe065",
   "metadata": {},
   "source": [
    "## Slice Function"
   ]
  },
  {
   "cell_type": "code",
   "execution_count": 19,
   "id": "051ec76b",
   "metadata": {},
   "outputs": [
    {
     "name": "stdout",
     "output_type": "stream",
     "text": [
      "[0, 1, 2, 3, 4]\n",
      "[0, 1, 2, 3, 4]\n",
      "[4, 5, 6, 7, 8, 9]\n",
      "[0, 1, 2, 3, 4, 5]\n",
      "0123456789\n",
      "(0, 2, 4, 6, 8)\n",
      "(0, 3, 6)\n",
      "(0, 3, 6, 9)\n"
     ]
    }
   ],
   "source": [
    "a = [0,1,2,3,4,5,6,7,8,9]\n",
    "b = (0,1,2,3,4,5,6,7,8,9)\n",
    "c = \"0123456789\"\n",
    "d = slice(0,5) #irisan dari indeks 0 sampai 4\n",
    "\n",
    "print(a[d]) #irisan dari indeks 0 sampai 4 dari list a\n",
    "print(a[0:5]) #hasilnya akan sama dengan kode di atas\n",
    "\n",
    "print(a[4:]) #memprint elemen dari indeks 4 sampai akhir (ke atas)\n",
    "print(a[:6]) #memprint elemen dari indeks 5 sampai 0 (ke bawah)\n",
    "\n",
    "print(c[:]) #memprint semua elemen dalam string c\n",
    "\n",
    "#misal kita ingin memprint elemen dari tuple b secara berselang seling dengan jarak 1 (yang kelipatan 2 (berindeks 0,2,4,6,8))\n",
    "print(b[0:9:2]) #outputnya adalah 0, 2, 4, 6, 8\n",
    "#jika ingin jaraknya 2 (setiap kelipatan 3(yang berindeks 0,3,6,9)) maka \n",
    "print(b[0:9:3]) #outputnya 0,3,6\n",
    "print(b[::3]) #kita juga bisa melakukan hal diatas tanpa memasukkan range awal dan akhir (outputnya 0,3,6,9)\n",
    "\n"
   ]
  },
  {
   "cell_type": "markdown",
   "id": "0fb9ccb4",
   "metadata": {},
   "source": [
    "## Negative Indeks"
   ]
  },
  {
   "cell_type": "markdown",
   "id": "20e1d3e3",
   "metadata": {},
   "source": [
    "Pada umumnya kita menggunakan indeks positif sebagaimana yang sering kita gunakan selama ini. Akan tetapi kita juga \n",
    "bisa menggunakan indeks negatif. Saya akan mengilustrasikan cara apa itu indeks negatif\n",
    "\n",
    "['P', 'Y', 'T', 'H', 'O', 'N']\n",
    "  0    1    2    3    4    5       <- Indeks Positif\n",
    " -6   -5   -4   -3   -2   -1       <- Indeks Negatif\n",
    "\n",
    "misalnya kita ingin mengakses T pada strint di atas apabila kita menggunakan indeks positif maka kita masukkan 2 \n",
    "sebagai indeksnya, dan apabila kita menggunakan indeks negatif maka kita masukkan -4 sebagai indeksnya\n",
    "\n",
    "Indeks positif memudahkan kita mengakses suatu string atau sesuatu yang berindeks dari depan, sedangkan indeks \n",
    "negatif memudahkan kita mengakses suatu string atau sesuatu yang berindeks dari belakang"
   ]
  },
  {
   "cell_type": "code",
   "execution_count": 21,
   "id": "ecb3f27b",
   "metadata": {},
   "outputs": [
    {
     "name": "stdout",
     "output_type": "stream",
     "text": [
      "1\n",
      "5\n",
      "9876543210\n",
      "3210\n",
      "98\n",
      "76543210\n"
     ]
    }
   ],
   "source": [
    "bhs = \"0123456789\"\n",
    "print(bhs[1]) #memprint elemen dengan indeks 1 yaitu 1\n",
    "print(bhs[-5]) #memprint elemen dengan indeks -5 yaitu 5\n",
    "print(bhs[::-1]) #memprint semua elemen dalam string bhs dari belakang\n",
    "\n",
    "print(bhs[3::-1]) #memprint elemen dengan indeks 3 kebawah (kita juga bisa membuat kelipatan seperti pada materi sebelumnya)\n",
    "print(bhs[:-3:-1]) #memprint elemen dari indeks -1 sampai -2 \n",
    "print(bhs[-3::-1]) #memprint elemen dengan indeks -3 kebawah (tanpa seling karena kita memasukkan -1, jika ingin ada\n",
    "                    # seling maka masukkan -2 jika ingin kelipatan 2. dan seterusnya)"
   ]
  },
  {
   "cell_type": "markdown",
   "id": "ab2f8fe8",
   "metadata": {},
   "source": [
    "# 14. Perulangan While (While Loop)"
   ]
  },
  {
   "cell_type": "markdown",
   "id": "d77cc1d5",
   "metadata": {},
   "source": [
    "Perulangan (loop) memungkinkan kita untuk mengeksekusi blok program di dalam perulangan, secara berulang ulang \n",
    "sampai kondisi yang menjadi ketentuan atau syarat dilakukannya perulangan tidak lagi terpenuhi."
   ]
  },
  {
   "cell_type": "code",
   "execution_count": 26,
   "id": "8db3c168",
   "metadata": {},
   "outputs": [
    {
     "name": "stdout",
     "output_type": "stream",
     "text": [
      "nilai i adalah  0\n",
      "nilai i adalah  1\n",
      "nilai i adalah  2\n",
      "nilai i adalah  3\n",
      "nilai i adalah  4\n",
      "perulangan while untuk i telah selesai\n",
      "Masukkan sebuah angka, dan masukkan 0 jika ingin keluar\n",
      "Masukkan angka untuk ditambah: 12\n",
      "sum =  12.0\n",
      "Masukkan angka untuk ditambah: 34.5\n",
      "sum =  46.5\n",
      "Masukkan angka untuk ditambah: 43.6\n",
      "sum =  90.1\n",
      "Masukkan angka untuk ditambah: 0\n",
      "sum =  90.1\n",
      "sum telah selesai, hasil akhirnya adalah  90.1\n"
     ]
    }
   ],
   "source": [
    "i = 0\n",
    "\n",
    "while i < 5:\n",
    "    #karena kondisi terpenuhi maka blok di dalamnya akan dieksekusi. kalau kita terjemahkan ke dalam bahasa manusia\n",
    "    #eksekusi blok ini selama nilai i kurang dari 5, apabila nilai i sudah bernilai >= 5 maka hentikan perulangan\n",
    "    \n",
    "    print(\"nilai i adalah \",i)\n",
    "    i += 1 # i = i + 1  (i yang aslinya 0 sekarang ditambah 1 sehingga sekarang nilai i adalah 1 dst.)\n",
    "    \n",
    "print(\"perulangan while untuk i telah selesai\")\n",
    "\n",
    "num = 1\n",
    "plus = 0\n",
    "print(\"Masukkan sebuah angka, dan masukkan 0 jika ingin keluar\")\n",
    "while num != 0:\n",
    "    num = float(input(\"Masukkan angka untuk ditambah: \"))\n",
    "    plus = plus + num\n",
    "    print(\"sum = \",plus)\n",
    "else: #dalam python kita bisa menambahkan else apabila perulangan while telah selesai, ini hanya ada pada python\n",
    "    print(\"sum telah selesai, hasil akhirnya adalah \",plus)\n",
    "    \n",
    "#bila kita ingin membuat perulangan yang infinit kita bisa menggunakan while True: kemudian prigramnya"
   ]
  },
  {
   "cell_type": "markdown",
   "id": "9aff3cf3",
   "metadata": {},
   "source": [
    "# 15. Perulangan For (For Loop)"
   ]
  },
  {
   "cell_type": "markdown",
   "id": "5c2fb3ec",
   "metadata": {},
   "source": [
    "Perbedaan perulangan while dan for adalah, pada perulangan for kita bisa menentukan berapa kali perulangan akan \n",
    "dilakukan, sedangkan pada perulangan while kita hanya menentukan kondisi (kriteria kapan perulangan dilakukan)"
   ]
  },
  {
   "cell_type": "code",
   "execution_count": 27,
   "id": "5cfa3643",
   "metadata": {},
   "outputs": [
    {
     "name": "stdout",
     "output_type": "stream",
     "text": [
      "True\n",
      "False\n",
      "0\n",
      "1\n",
      "2\n",
      "3\n",
      "4\n",
      "5\n",
      "6\n",
      "7\n",
      "8\n",
      "9\n",
      "A\n",
      "B\n",
      "C\n",
      "D\n",
      "E\n",
      "F\n",
      "G\n",
      "H\n",
      "i\n",
      "J\n",
      "Penelusuran tuple b telah selesai\n",
      "b\n",
      "e\n",
      "g\n",
      "j\n",
      "f\n",
      "d\n",
      "h\n",
      "i\n",
      "c\n",
      "a\n",
      "0\n",
      "1\n",
      "2\n",
      "3\n",
      "4\n",
      "5\n",
      "6\n",
      "7\n",
      "8\n",
      "9\n",
      "nama\n",
      "usia\n",
      "asal\n",
      "Humaid\n",
      "21\n",
      "Bogor\n",
      "('nama', 'Humaid')\n",
      "('usia', 21)\n",
      "('asal', 'Bogor')\n",
      "ini perulangan dengan indeks  0\n",
      "ini perulangan dengan indeks  1\n",
      "ini perulangan dengan indeks  2\n",
      "ini perulangan dengan indeks  3\n",
      "ini perulangan dengan indeks  4\n",
      "ini perulangan dengan indeks  5\n",
      "ini perulangan dengan indeks  6\n",
      "times dengan indeks  2\n",
      "times dengan indeks  3\n",
      "times dengan indeks  4\n",
      "times dengan indeks  5\n",
      "times dengan indeks  6\n",
      "times dengan indeks  7\n",
      "times dengan indeks  8\n",
      "0\n",
      "5\n",
      "10\n",
      "15\n",
      "20\n",
      "25\n",
      "30\n"
     ]
    }
   ],
   "source": [
    "a = [0,1,2,3,4,5,6,7,8,9] #list\n",
    "b = ('A','B','C','D','E','F','G','H','i','J') #tuple\n",
    "c = {'a','b','c','d','e','f','g','h','i','j'} #set\n",
    "d = \"0123456789\" #string\n",
    "e = {\"nama\":\"Humaid\",\"usia\":21,\"asal\":\"Bogor\"} #dictionary\n",
    "\n",
    "print(0 in a) #mengecek apakah 0 ada di dalam a (karena benar maka outputnya True)\n",
    "print(10 in b) #outputnya False karena 10 tidak ada di dalam b\n",
    "\n",
    "for x in a: # x adalah variabel baru, di sini elemen pertama a akan dimasukkan ke x kemudian x dicek apakah\n",
    "            #di dalam a ada nilai yang sama dengan x. setelah itu dilanjutkan elemen kedua dimasukkan ke x dst.\n",
    "    print(x)\n",
    "#di dalam python perulangan for juga bisa diberi else yang akan dieksekusi setelah for selesai    \n",
    "for x in b:\n",
    "    print(x)\n",
    "else:\n",
    "    print(\"Penelusuran tuple b telah selesai\")\n",
    "    \n",
    "for x in c:\n",
    "    print(x)\n",
    "    \n",
    "for x in d:\n",
    "    print(x)\n",
    "    \n",
    "for key in e.keys():\n",
    "    print(key)\n",
    "    \n",
    "for value in e.values():\n",
    "    print(value)\n",
    "    \n",
    "for item in e.items():\n",
    "    print(item)\n",
    "    \n",
    "#jika kita ingin mengatur berapakali perulangan akan dilakukan\n",
    "for kali in range(7): #perulangan akan dilakukan 7x dari indeks 0 sampai 6 (for (int=0;i<7;i++) pada C++)\n",
    "    print(\"ini perulangan dengan indeks \",kali)\n",
    "    \n",
    "for times in range(2,9): #perulangan dimulai dari indeks 2 sampai 8 (for (int=2;i<9;i++) pada C++)\n",
    "    print(\"times dengan indeks \", times)\n",
    "#jika ingin menyeling indeknya sebagaimana pada materi slice function\n",
    "for times in range(0,31,5): #perulangan dimulai dari indeks 0 sampai 30 (for (int=0;i<31;i+=5) pada C++)\n",
    "    print(times)"
   ]
  },
  {
   "cell_type": "markdown",
   "id": "0e70cafe",
   "metadata": {},
   "source": [
    "# 16. Perintah break dan continue"
   ]
  },
  {
   "cell_type": "markdown",
   "id": "a4d4494a",
   "metadata": {},
   "source": [
    "perintah break pada perulangan berfungsi untuk memberhentikan perulangan secara paksa"
   ]
  },
  {
   "cell_type": "code",
   "execution_count": 1,
   "id": "1b77904a",
   "metadata": {},
   "outputs": [
    {
     "name": "stdout",
     "output_type": "stream",
     "text": [
      "1\n",
      "2\n",
      "3\n",
      "4\n",
      "5\n",
      "6\n",
      "----------------------------\n",
      "1\n",
      "2\n"
     ]
    }
   ],
   "source": [
    "#penggunaan perintah break\n",
    "num = [1,2,3,4,5,6,7,8,9]\n",
    "for x in num:\n",
    "    if x == 7: #dengan blok if ini pada saat elemen di dalam x adalah 7 perulangan for akan distop meskipun \n",
    "               #aslinya masih bisa lanjut sampai nilai x adalah 9\n",
    "        break \n",
    "    print(x)\n",
    "    \n",
    "print(\"----------------------------\")\n",
    "i =  0\n",
    "while i < 5:\n",
    "    i += 1\n",
    "    if i == 3: #dengan blok if ini pada saat nilai i adalah 3 perulangan while akan distop meskipun aslinya masih\n",
    "               #lanjut sampai nilai i adalah 5\n",
    "        break\n",
    "    print(i)"
   ]
  },
  {
   "cell_type": "markdown",
   "id": "1aac9914",
   "metadata": {},
   "source": [
    "perintah continue pada perulangan berfungsi untuk menskip eksekusi blok program dibawah continue sehingga blok \n",
    "program dibawah continue tidak dieksekusi, kemudian perulangan berlanjut ke indeks selanjutnya"
   ]
  },
  {
   "cell_type": "code",
   "execution_count": 2,
   "id": "b84b7f94",
   "metadata": {},
   "outputs": [
    {
     "name": "stdout",
     "output_type": "stream",
     "text": [
      "1\n",
      "2\n",
      "3\n",
      "4\n",
      "5\n",
      "6\n",
      "8\n",
      "9\n",
      "----------------------------\n",
      "1\n",
      "2\n",
      "4\n",
      "5\n"
     ]
    }
   ],
   "source": [
    "#penggunaan perintah continue\n",
    "num = [1,2,3,4,5,6,7,8,9]\n",
    "for x in num:\n",
    "    if x == 7: #dengan blok if ini pada saat elemen di dalam x adalah 7 print tidak dieksekusi \n",
    "        continue \n",
    "    print(x)\n",
    "    \n",
    "print(\"----------------------------\")\n",
    "i =  0\n",
    "while i < 5:\n",
    "    i += 1\n",
    "    if i == 3: #dengan blok if ini pada saat nilai i adalah 3 print tidak dieksekusi \n",
    "        continue\n",
    "    print(i)"
   ]
  },
  {
   "cell_type": "markdown",
   "id": "b276113c",
   "metadata": {},
   "source": [
    "# 17. Fungsi"
   ]
  },
  {
   "cell_type": "markdown",
   "id": "a0277753",
   "metadata": {},
   "source": [
    "Fungsi adalah suatu blok program yang berisi program untuk menyelesaikan masalah atau tugas tertentu, yang mana untuk mengeksekusi blok program di dalam suatu fungsi tersebut kita harus memanggil fungsi tersebut terlebih dahulu.\n",
    "ada 2 jenis fungsi yaitu built in function(fungsi bawaan yang sudah disediakan oleh python) dan fungi yang dibuat sendiri oleh programmer. pada materi sebelumnya kita sudah sering menggunakan built in function jadi di sini saya hanya akan membahas fungsi yang dibuat oleh programmer"
   ]
  },
  {
   "cell_type": "code",
   "execution_count": 5,
   "id": "5f520416",
   "metadata": {},
   "outputs": [
    {
     "name": "stdout",
     "output_type": "stream",
     "text": [
      "50\n",
      "Humaid Assa'idi\n",
      "110.9\n"
     ]
    }
   ],
   "source": [
    "#contoh pendefinisian fungsi\n",
    "'''\n",
    "#fungsi didefinisikan dengan kata kunci def\n",
    "def namaFungsi(parameter1, parameter2, parameter3): #fungsi tidak harus memiliki parameter\n",
    "     print(\"........\")\n",
    "'''\n",
    "\n",
    "def tambah(para1, para2): #fungsi ini akan menambah angka1 dan angka2 dimana angka1 & angka2 adalah parameternya\n",
    "    print(para1 + para2)\n",
    "    \n",
    "tambah(20, 30) #menambahkan 20 dan 30 dengan memanggil fungsi tambah (20 & 30 adalah parameter yang akan dimasukkan\n",
    "               #ke dalam fungsi). output dari pemanggilan fungsi ini adalah 50\n",
    "tambah(\"Humaid \",\"Assa'idi\")\n",
    "tambah(45.67, 65.23)\n",
    "#tambah(\"aku\",21) #ini akan menyebabkan error karena tipe data kedua parameter haruslah sama\n"
   ]
  },
  {
   "cell_type": "code",
   "execution_count": 6,
   "id": "5c62f74f",
   "metadata": {},
   "outputs": [
    {
     "name": "stdout",
     "output_type": "stream",
     "text": [
      "Masukkan parameter yang bertipe data sama !!\n",
      "30\n",
      "Humaid Assa'idi\n",
      "6.9\n",
      "300\n"
     ]
    }
   ],
   "source": [
    "#apabila kita memasukkan parameter yang tipe datanya berbeda maka akan terjadi error untuk mengatasi hal tersebut \n",
    "#kita harus memodifikasi fungsi di atas\n",
    "def tambah(para1, para2): #fungsi ini akan menambah angka1 dan angka2 dimana angka1 & angka2 adalah parameternya\n",
    "    if type(para1) != type(para2):\n",
    "        print(\"Masukkan parameter yang bertipe data sama !!\")\n",
    "        return \"parameter tidak valid\" #kata kunci return berfungsi untuk mengembalikan sesuatu nilai yang ada di \n",
    "        #sebelahnya apabila kata kunci ini digunakan maka blok program di bawahnya tidak akan dieksekusi.dalam \n",
    "        #penggunaan return kita tidak harus selalu menyertakan nilai disebelahnya\n",
    "    return (para1 + para2) #dengan menggunakan return disini fungsi akan menghasilkan para1 + para2 akan tetapi \n",
    "                           #hasilnya belum diprint, jadi hanya nilai saja\n",
    "\n",
    "tambah(21,\"Humaid\") #tipe data parameter berbeda\n",
    "tambah(\"Ali\",\"Akbar\") #jika tidak diberi print maka hasil dari pemanggilan fungsi tambah tidak akan terlihat \n",
    "\n",
    "a = tambah(10, 20) #menyimpan output dari pemanggilan fungsi tambah dengan parameter 10 & 20 pada variabel a\n",
    "print(a)\n",
    "print(tambah(\"Humaid \", \"Assa'idi\"))\n",
    "print(tambah(2.5, 4.4))\n",
    "print(tambah(100, 200))"
   ]
  },
  {
   "cell_type": "markdown",
   "id": "8ddb4325",
   "metadata": {},
   "source": [
    "# 17. Default Argument pada Fungsi, Argumen Fungsi Berbentuk Tuple, dan Argumen Fungsi Berbentuk Dictionary"
   ]
  },
  {
   "cell_type": "code",
   "execution_count": 8,
   "id": "6d7d1526",
   "metadata": {},
   "outputs": [
    {
     "name": "stdout",
     "output_type": "stream",
     "text": [
      "Nama murid: Aji\n",
      "Usia murid : 20\n",
      "Nama karyawan: Eko\n",
      "Usia karyawan: 23\n",
      "Nama karyawan: 40\n",
      "Usia karyawan: 0\n",
      "Nama karyawan: Enting\n",
      "Usia karyawan: 0\n"
     ]
    }
   ],
   "source": [
    "def murid(nama,usia): #ini adalah fungsi biasa tanpa argumen atau parameter default bila saat pemanggilan fungsi\n",
    "                      #parameter tidak disertakan maka akan terjadi error pada saat pemanggilan fungsi\n",
    "    print(\"Nama murid:\", nama)\n",
    "    print(\"Usia murid :\", usia)\n",
    "    \n",
    "def karyawan(nama=\"tidak diketahui\",usia=0): #dengan memberi parameter default, apabila kita tidak menyertakan \n",
    "    #parameter saat pemanggilan fungsi, maka secara otomatis parameter default dari fungsi akan menjadi parameter\n",
    "    #dari fungsi yang kita panggil\n",
    "    print(\"Nama karyawan:\", nama)\n",
    "    print(\"Usia karyawan:\", usia)\n",
    "\n",
    "murid(\"Aji\", 20)\n",
    "\n",
    "karyawan(\"Eko\", 23)\n",
    "karyawan(40)\n",
    "karyawan(\"Enting\")"
   ]
  },
  {
   "cell_type": "code",
   "execution_count": 20,
   "id": "0c1db588",
   "metadata": {},
   "outputs": [
    {
     "name": "stdout",
     "output_type": "stream",
     "text": [
      "Nama siswa :  Muhammad\n",
      "Kelas :  3A\n",
      "Nilai mapel 1 adalah 10\n",
      "Nilai mapel 2 adalah 9\n",
      "Nilai mapel 3 adalah 8\n",
      "Nilai mapel 4 adalah 7\n",
      "Nilai mapel 5 adalah 9\n",
      "Nama murid :  Humaid\n",
      "Kelas :  2A\n",
      "Nilai :  {'inggris': 90, 'mtk': 80, 'fisika': 75, 'biologi': 70}\n",
      "inggris   90\n",
      "mtk   80\n",
      "fisika   75\n",
      "biologi   70\n"
     ]
    }
   ],
   "source": [
    "#dalam python kita juga bisa membuat parameter yang bentuknya adalah tuple dengan menambah * di depan nama parameter\n",
    "def siswa(nama, kelas, *nilai): #kita bisa memasukkan banyak pada parameter *nilai karena ia berbentuk tuple\n",
    "    print(\"Nama siswa : \",nama)\n",
    "    print(\"Kelas : \",kelas)\n",
    "    y = 0\n",
    "    for x in nilai:\n",
    "        y += 1\n",
    "        print(\"Nilai mapel %d adalah %s\"%(y,x))\n",
    "        \n",
    "siswa(\"Muhammad\", \"3A\", 10, 9, 8, 7, 9)\n",
    "\n",
    "#dalam python kita juga bisa membuat fungsi yang parameternya adalah dictionary dengan menambah ** di depan parameter\n",
    "def murid(nama, kelas, **nilai): \n",
    "    print(\"Nama murid : \",nama)\n",
    "    print(\"Kelas : \",kelas)\n",
    "    print(\"Nilai : \", nilai)\n",
    "    for key, value in nilai.items():\n",
    "        print(key, ' ', value)\n",
    "    \n",
    "murid(\"Humaid\", \"2A\", inggris=90, mtk=80, fisika=75, biologi=70)"
   ]
  },
  {
   "cell_type": "markdown",
   "id": "5f4ccf2a",
   "metadata": {},
   "source": [
    "# 18. OOP (Object Oriented Programming)"
   ]
  },
  {
   "cell_type": "markdown",
   "id": "daaf4281",
   "metadata": {},
   "source": [
    "## Membuat Class"
   ]
  },
  {
   "cell_type": "code",
   "execution_count": 14,
   "id": "3d9a1612",
   "metadata": {},
   "outputs": [
    {
     "name": "stdout",
     "output_type": "stream",
     "text": [
      "200\n",
      "merah\n",
      "300\n",
      "silver\n"
     ]
    }
   ],
   "source": [
    "class mobil:\n",
    "    pass #penggunaan kata kunci pass menyebabkan class atau method hanya menjadi class atau method kosong\n",
    "         #method adalah fungsi yang berada di dalam suatu class\n",
    "    \n",
    "ford = mobil() #membuat object dalam class mobil(). ford adalah object dari kelas mobil()\n",
    "honda = mobil()\n",
    "toyota = mobil()\n",
    "\n",
    "ford.speed = 200 #membuat atribut speed pada object ford, speed adalah atribut dari object ford\n",
    "honda.speed = 220 \n",
    "toyota.speed = 250\n",
    "\n",
    "ford.warna = \"merah\"\n",
    "honda.warna = \"biru\"\n",
    "toyota.warna = \"hijau\"\n",
    "\n",
    "print(ford.speed)\n",
    "print(ford.warna)\n",
    "\n",
    "ford.speed = 300 #mengganti nilai dari atribut speed pada object ford\n",
    "ford.warna = \"silver\"\n",
    "\n",
    "print(ford.speed)\n",
    "print(ford.warna)"
   ]
  },
  {
   "cell_type": "markdown",
   "id": "36ed6536",
   "metadata": {},
   "source": [
    "## Menggunakan _init_ Method dan Kata Kunci self pada Class"
   ]
  },
  {
   "cell_type": "code",
   "execution_count": 13,
   "id": "5e8d44cc",
   "metadata": {},
   "outputs": [
    {
     "name": "stdout",
     "output_type": "stream",
     "text": [
      "method _init_ telah dipanggil\n",
      "method _init_ telah dipanggil\n",
      "method _init_ telah dipanggil\n",
      "200\n",
      "merah\n",
      "300\n",
      "silver\n"
     ]
    }
   ],
   "source": [
    "#contoh lain\n",
    "class mobil:\n",
    "    def __init__(self): #__init__(self) method digunakan sebagai konstruktor dari class, biasanya digunakan untuk \n",
    "                      #menginisialisasi suatu atribut atau fungsi\n",
    "        print(\"method _init_ telah dipanggil\")\n",
    "    \n",
    "ford = mobil() #setiap kita membuat object baru dari class mobil maka method _init_ akan dipanggil\n",
    "honda = mobil()\n",
    "toyota = mobil()\n",
    "\n",
    "ford.speed = 200 #speed adalah atribut dari object ford\n",
    "honda.speed = 220 \n",
    "toyota.speed = 250\n",
    "\n",
    "ford.warna = \"merah\"\n",
    "honda.warna = \"biru\"\n",
    "toyota.warna = \"hijau\"\n",
    "\n",
    "print(ford.speed)\n",
    "print(ford.warna)\n",
    "\n",
    "ford.speed = 300 #mengganti nilai dari atribut speed pada object ford\n",
    "ford.warna = \"silver\"\n",
    "\n",
    "print(ford.speed)\n",
    "print(ford.warna)"
   ]
  },
  {
   "cell_type": "code",
   "execution_count": 15,
   "id": "4d00ba46",
   "metadata": {},
   "outputs": [
    {
     "name": "stdout",
     "output_type": "stream",
     "text": [
      "200\n",
      "merah\n",
      "method _init_ telah dipanggil\n",
      "250\n",
      "hitam\n",
      "method _init_ telah dipanggil\n",
      "270\n",
      "biru\n",
      "method _init_ telah dipanggil\n",
      "speed dari ford adalah  200\n",
      "warna dari ford adalah  merah\n"
     ]
    }
   ],
   "source": [
    "class mobil:\n",
    "    def __init__(self, speed, warna): #memberi parameter tambahan pada saat membuat object\n",
    "        print(speed)\n",
    "        print(warna)\n",
    "        print(\"method _init_ telah dipanggil\")\n",
    "        self.speed = speed #membuat atribut dan memasukkan nilai di dalam parameter speed ke dalam atribut speed pada object\n",
    "        self.warna = warna\n",
    "        \n",
    "    \n",
    "ford = mobil(200,\"merah\") #bila parameter tidak disertakan pada saat pembuatan object, maka akan error\n",
    "honda = mobil(250,\"hitam\")\n",
    "toyota = mobil(270, \"biru\")\n",
    "\n",
    "print(\"speed dari ford adalah \", ford.speed)\n",
    "print(\"warna dari ford adalah \", ford.warna)"
   ]
  },
  {
   "cell_type": "markdown",
   "id": "dae962bb",
   "metadata": {},
   "source": [
    "kita tidak bisa membuat lebih dari 1 konstruktor di dalam class, apabila ada lebih dari 1 konstruktor di dalam class\n",
    "maka yang akan dianggap adalah konstruktor yang paling terakhir"
   ]
  },
  {
   "cell_type": "markdown",
   "id": "6f3ef385",
   "metadata": {},
   "source": [
    "## Enkapsulasi"
   ]
  },
  {
   "cell_type": "code",
   "execution_count": 17,
   "id": "8f222384",
   "metadata": {},
   "outputs": [
    {
     "name": "stdout",
     "output_type": "stream",
     "text": [
      "250\n",
      "speed dari honda adalah  hasighwioa\n",
      "warna dari honda adalah  hitam\n"
     ]
    }
   ],
   "source": [
    "class mobil:\n",
    "    def __init__(self, speed, warna): \n",
    "        self.speed = speed \n",
    "        self.warna = warna\n",
    "    \n",
    "    def set_speed(self, value): #fungsi set_speed untuk memasukkan atau merubah nilai dari atribut speed\n",
    "        self.speed = value\n",
    "        \n",
    "    def get_speed(self):\n",
    "        return self.speed\n",
    "        \n",
    "    \n",
    "ford = mobil(200,\"merah\") #bila parameter tidak disertakan pada saat pembuatan object, maka akan error\n",
    "honda = mobil(250,\"hitam\")\n",
    "toyota = mobil(270, \"biru\")\n",
    "\n",
    "honda.speed = 300 #merubah nilai dari atribut speed pada object honda\n",
    "honda.speed = \"hasighwioa\" #atributnya bisa dimasukkan tipe yang berbeda, dan kita tidak mau itu terjadi karena\n",
    "#tipe data yang sesuai untuk speed adalah integer, untuk mencegah hal ini terjadi maka diperlukanlah enkapsulasi\n",
    "\n",
    "ford.set_speed(250) #seharusnya ini tidak boleh terjadi pada kondisi tertentu karena atribut tidak boleh berubah\n",
    "print(ford.get_speed()) #kita buktikan disini bahwa atribut speednya bisa berubah dimana hal ini tidak boleh\n",
    "\n",
    "print(\"speed dari honda adalah \", honda.speed)\n",
    "print(\"warna dari honda adalah \", honda.warna)"
   ]
  },
  {
   "cell_type": "code",
   "execution_count": 22,
   "id": "4a7006b5",
   "metadata": {},
   "outputs": [
    {
     "name": "stdout",
     "output_type": "stream",
     "text": [
      "300\n",
      "merah\n",
      "hitam\n"
     ]
    }
   ],
   "source": [
    "#agar kita bisa melakukan enkapsulasi maka kita harus membuat atribut bersifat privat, akan tetapi python tidak \n",
    "#mengenal kata kunci public, protected, dan private seperti pada java dan C++, berikut adalah cara enkapsulasi \n",
    "#pada python\n",
    "\n",
    "class mobil:\n",
    "    def __init__(self, speed, warna): \n",
    "        self.__speed = speed #dengan memberi 2 underscore setelah titik dan sebelum nama atribut, maka atribut \n",
    "                             #tersebut akan bersifat private(terenkapsulasi)\n",
    "        self.__warna = warna\n",
    "    \n",
    "    def set_speed(self, value): #fungsi set_speed untuk memasukkan atau merubah nilai dari atribut speed\n",
    "        self.__speed = value\n",
    "        \n",
    "    def get_speed(self):\n",
    "        return self.__speed\n",
    "    \n",
    "    def set_warna(self, warna): #fungsi set_speed untuk memasukkan atau merubah nilai dari atribut speed\n",
    "        self.__warna = warna\n",
    "        \n",
    "    def get_warna(self):\n",
    "        return self.__warna\n",
    "    \n",
    "ford = mobil(200,\"merah\") \n",
    "honda = mobil(250,\"hitam\")\n",
    "toyota = mobil(270, \"biru\")\n",
    "\n",
    "ford.set_speed(300) #meski sudah terenkapsulasi kita bisa mengganti nilai atribut tapi harus menggunakan fungsi\n",
    "                    #set_speed()\n",
    "ford.__speed = 325 #bila kita mengganti nilai atribut speed secara langsung maka pergantian nilai tidak dianggap\n",
    "print(ford.get_speed())\n",
    "#print(ford.warna) #ini akan menyebabkan error karena atribut bersifat privat hanya bisa diakses di dalam class\n",
    "#jika ingin merubah atau mengakses di luar class maka harus menggunakan method set_warna() dan get_warna\n",
    "\n",
    "print(ford.get_warna())\n",
    "print(honda.get_warna())\n",
    "\n",
    "#kesimpulannya enkapsulasi adalah membatasi akses data menggunakan fungsi(method)"
   ]
  },
  {
   "cell_type": "markdown",
   "id": "b0f1cc68",
   "metadata": {},
   "source": [
    "Jika kita ingin membuat fungsi(method) yang bersifat privat kita juga menggunakan 2 underscore di depan nama fungsi"
   ]
  },
  {
   "cell_type": "code",
   "execution_count": 24,
   "id": "74ae45a5",
   "metadata": {},
   "outputs": [
    {
     "name": "stdout",
     "output_type": "stream",
     "text": [
      "cc mobil adalah  1500\n",
      "300\n"
     ]
    }
   ],
   "source": [
    "class mobil:\n",
    "    def __init__(self, speed, cc): \n",
    "        self.__speed = speed \n",
    "        self.__cc = cc\n",
    "    \n",
    "    def set_speed(self, value): #fungsi set_speed untuk memasukkan atau merubah nilai dari atribut speed\n",
    "        self.__speed = value\n",
    "        \n",
    "    def get_speed(self):\n",
    "        self.__ccMobil() #memanggil fungsi ccMobil() yang bersifat privat harus ditambah self. di depan nama fungsi\n",
    "        print(self.__speed)\n",
    "    \n",
    "    def __ccMobil(self): #membuat fungsi yang bersifat privat\n",
    "        print(\"cc mobil adalah \",self.__cc)\n",
    "\n",
    "bmw = mobil(300,1500)\n",
    "\n",
    "bmw.get_speed()"
   ]
  },
  {
   "cell_type": "markdown",
   "id": "715ae47d",
   "metadata": {},
   "source": [
    "## Inheritansi (Pewarisan)"
   ]
  },
  {
   "cell_type": "markdown",
   "id": "473a42f3",
   "metadata": {},
   "source": [
    "ketika kita ingin membuat class baru, dan class yang akan kita buat memiliki perilaku yang mirip dengan suatu class lain maka kita bisa bisa mewarisi perilaku class tersebut ke class yang akan kita buat untuk mempersingkat kode sehingga kode menjadi lebih efisien"
   ]
  },
  {
   "cell_type": "code",
   "execution_count": 29,
   "id": "a2eac016",
   "metadata": {},
   "outputs": [
    {
     "name": "stdout",
     "output_type": "stream",
     "text": [
      "2000\n",
      "300.0\n"
     ]
    }
   ],
   "source": [
    "class bidangDatar: #membuat superclass, superclass yang akan mewariskan kepada subclass\n",
    "    __lebar = None\n",
    "    __tinggi = None\n",
    "    \n",
    "    def set_nilai(self, lebar, tinggi):\n",
    "        self.__lebar = lebar\n",
    "        self.__tinggi = tinggi\n",
    "        \n",
    "    def get_lebar(self):\n",
    "        return self.__lebar\n",
    "    \n",
    "    def get_tinggi(self):\n",
    "        return self.__tinggi\n",
    "        \n",
    "class persegi(bidangDatar): #mewarisi dari dari superclass bidangDatar\n",
    "    def luas(self):\n",
    "        return self.get_lebar() * self.get_tinggi() #karena __lebar dan __tinggi bersifat privat kita tidak bisa \n",
    "        #mengaksesnya di class lain, untuk mengatasi hal tersebut maka kita buat method get lebar dan tinggi\n",
    "    \n",
    "class segitiga(bidangDatar):\n",
    "    def luas(self):\n",
    "        return self.get_lebar() * self.get_tinggi() / 2\n",
    "    \n",
    "segi4 = persegi()\n",
    "segi3 = segitiga()\n",
    "\n",
    "segi4.set_nilai(40, 50)\n",
    "segi3.set_nilai(20, 30)\n",
    "\n",
    "print(segi4.luas())\n",
    "print(segi3.luas())"
   ]
  },
  {
   "cell_type": "markdown",
   "id": "084ddf14",
   "metadata": {},
   "source": [
    "Untuk materi multiple inheritance nya ada di dalam pycharm dengan nama project OOP Python"
   ]
  },
  {
   "cell_type": "markdown",
   "id": "982ec986",
   "metadata": {},
   "source": [
    "## Menggunakan fungsi super() untuk mewarisi method yang ada di class lain"
   ]
  },
  {
   "cell_type": "code",
   "execution_count": 34,
   "id": "2f8119d5",
   "metadata": {},
   "outputs": [
    {
     "name": "stdout",
     "output_type": "stream",
     "text": [
      "Anak __init__\n"
     ]
    }
   ],
   "source": [
    "class Ortu:\n",
    "    def __init__(self):\n",
    "        print(\"Ortu __init__\")\n",
    "\n",
    "class Anak(Ortu): #class ini mewarisi dari class Ortu\n",
    "    def __init__(self):\n",
    "        print(\"Anak __init__\")\n",
    "        \n",
    "        \n",
    "anak = Anak() #bila dirun outputnya hanya Anak __init__ sehingga seolah olah tidak mewarisi dari class Ortu\n",
    "              #untuk mengatasinya maka kita menggunakan fungsi super()"
   ]
  },
  {
   "cell_type": "code",
   "execution_count": 33,
   "id": "ff6bdbcd",
   "metadata": {},
   "outputs": [
    {
     "name": "stdout",
     "output_type": "stream",
     "text": [
      "Anak __init__\n",
      "Ortu __init__ Aji\n",
      "(<class '__main__.Anak'>, <class '__main__.Ortu'>, <class 'object'>)\n"
     ]
    }
   ],
   "source": [
    "class Ortu:\n",
    "    def __init__(self, nama):\n",
    "        print(\"Ortu __init__\", nama)\n",
    "        \n",
    "class Anak(Ortu): #class ini mewarisi dari class Ortu\n",
    "    def __init__(self):\n",
    "        print(\"Anak __init__\")\n",
    "        super().__init__(\"Aji\")\n",
    "        \n",
    "anak = Anak() #bila dirun outputnya hanya Anak __init__ sehingga seolah olah tidak mewarisi dari class Ortu\n",
    "              #untuk mengatasinya maka kita menggunakan fungsi super()\n",
    "print(Anak.__mro__) #method resolution order(mro) untuk mengecek urutan method yang digunakan atau dipanggil"
   ]
  },
  {
   "cell_type": "code",
   "execution_count": 32,
   "id": "40cc84da",
   "metadata": {},
   "outputs": [
    {
     "name": "stdout",
     "output_type": "stream",
     "text": [
      "Anak __init__\n",
      "Ortu __init__ Aji\n",
      "Ortu2 __init__ Fatimah\n",
      "(<class '__main__.Anak'>, <class '__main__.Ortu'>, <class '__main__.Ortu2'>, <class 'object'>)\n"
     ]
    }
   ],
   "source": [
    "class Ortu:\n",
    "    def __init__(self, nama):\n",
    "        print(\"Ortu __init__\", nama)\n",
    "\n",
    "class Ortu2:\n",
    "    def __init__(self, nama):\n",
    "        print(\"Ortu2 __init__\", nama)\n",
    "\n",
    "class Anak(Ortu, Ortu2): #class ini mewarisi dari class Ortu\n",
    "    def __init__(self):\n",
    "        print(\"Anak __init__\")\n",
    "        Ortu.__init__(self,\"Aji\") #memanggil method init yang ada di class Ortu\n",
    "        Ortu2.__init__(self,\"Fatimah\") #memanggil method init yang ada di class Ortu2\n",
    "\n",
    "anak = Anak() \n",
    "\n",
    "print(Anak.__mro__) #method resolution order(mro) untuk mengecek urutan method yang digunakan atau dipanggil"
   ]
  },
  {
   "cell_type": "markdown",
   "id": "bb0be816",
   "metadata": {},
   "source": [
    "## class Komposisi pada Python"
   ]
  },
  {
   "cell_type": "markdown",
   "id": "0b00a1d3",
   "metadata": {},
   "source": [
    "apabila suatu class tidak bisa mewarisi class lain karena keduanya tidak berkaitan, akan tetapi class tersebut \n",
    "membutuhkan method yang ada di class lain (class yang mewariskan), maka kita bisa mengatasi hal ini dengan \n",
    "menggunakan komposisi"
   ]
  },
  {
   "cell_type": "code",
   "execution_count": 38,
   "id": "9d9f7cd6",
   "metadata": {},
   "outputs": [
    {
     "name": "stdout",
     "output_type": "stream",
     "text": [
      "190000\n"
     ]
    }
   ],
   "source": [
    "class Gaji:\n",
    "    def __init__(self, bayaran, bonus):\n",
    "        self.bayaran = bayaran\n",
    "        self.bonus = bonus\n",
    "\n",
    "    def gajiTahunan(self):\n",
    "        return (self.bayaran * 12) + self.bonus\n",
    "\n",
    "class Karyawan: #disini kita tidak bisa menerapkan pewarisan karena kedua class tidak memiliki kaitan.\n",
    "                #karena Gaji bukanlah Karyawan begitu juga Karyawan bukanlah Gaji. akan tetapi disini kita butuh\n",
    "                #menggunakan method yang ada di dalam class Gaji, berikut ini adalah caranya\n",
    "    def __init__(self, nama, usia, bayaran, bonus):\n",
    "        self.nama = nama\n",
    "        self.usia = usia\n",
    "        self.obj_gaji = Gaji(bayaran, bonus) #menggunakan method di class Gaji untuk menghitung gaji karyawan\n",
    "                           #sehingga seolah olah class Karyawan menjadi Kontainer dari class Gaji\n",
    "\n",
    "    def totalGaji(self):\n",
    "        return self.obj_gaji.gajiTahunan() \n",
    "\n",
    "karyawan = Karyawan(\"Wijaya\", 25, 15000, 10000)\n",
    "print(karyawan.totalGaji())\n",
    "\n",
    "#komposisi memiliki hubungan yang didefinisikan dengan kata kunci \"bagian dari\" dan pada kasus ini adalah \n",
    "#\"gaji bagian dari karyawan\""
   ]
  },
  {
   "cell_type": "markdown",
   "id": "a85fd8ee",
   "metadata": {},
   "source": [
    "## Agregasi class diantara banyak class"
   ]
  },
  {
   "cell_type": "markdown",
   "id": "c38daf81",
   "metadata": {},
   "source": [
    "agregasi memiliki kaitan yang mirip dengan komposisi"
   ]
  },
  {
   "cell_type": "code",
   "execution_count": 37,
   "id": "ef4cce2a",
   "metadata": {},
   "outputs": [
    {
     "name": "stdout",
     "output_type": "stream",
     "text": [
      "190000\n"
     ]
    }
   ],
   "source": [
    "class Gaji:\n",
    "    def __init__(self, bayaran, bonus):\n",
    "        self.bayaran = bayaran\n",
    "        self.bonus = bonus\n",
    "\n",
    "    def gajiTahunan(self):\n",
    "        return (self.bayaran * 12) + self.bonus\n",
    "\n",
    "class Karyawan: \n",
    "    def __init__(self, nama, usia, gaji):\n",
    "        self.nama = nama\n",
    "        self.usia = usia\n",
    "        self.obj_gaji = gaji \n",
    "\n",
    "    def totalGaji(self):\n",
    "        return self.obj_gaji.gajiTahunan() \n",
    "\n",
    "gaji = Gaji(15000,10000) #bila pada komposisi parameter gaji dan bonusnya dimasukkan melalui class karyawan, maka\n",
    "                        #pada agregasi parameter bonus dan gaji dimasukkan melalui class Gaji\n",
    "    \n",
    "karyawan = Karyawan(\"Wijaya\", 25, gaji) #tidak lagi memasukkan parameter bayaran dan bonus tetapi langsung \n",
    "                                        #parameter gaji \n",
    "print(karyawan.totalGaji())\n",
    "\n",
    "#agregsi memiliki hubungan yang didefinisikan dengan kata \"memiliki sebuah\", pada kasus ini adalah \"karyawan\n",
    "#memiliki sebuah gaji\""
   ]
  },
  {
   "cell_type": "markdown",
   "id": "cac009c7",
   "metadata": {},
   "source": [
    "## Membuat class class abstract"
   ]
  },
  {
   "cell_type": "code",
   "execution_count": 41,
   "id": "2b4cb3d7",
   "metadata": {},
   "outputs": [
    {
     "name": "stdout",
     "output_type": "stream",
     "text": [
      "25\n",
      "20\n"
     ]
    }
   ],
   "source": [
    "#pada contoh ini saya akan melakukan 2 hal:\n",
    "#1. tidak mengijinkan user untuk membuat instant(variabel yang diisi dengan menggunakan class) dari class Bentuk\n",
    "#2. memastikan method yang ada di dalam class Bentuk diimplementasikan di dalam class Persegi, jadi siapapun yang \n",
    "#   yang menggunakan class Bentuk ia harus mengimplementasikan semua method di dalam class Bentuk\n",
    "\n",
    "from abc import ABC, abstractmethod #library/modul untuk membuat class abstract. ini merupakan built in modul\n",
    "\n",
    "class Bentuk(ABC): #class Bentuk mewarisi dari class ABC(abstract base classes)\n",
    "    @abstractmethod #membuat dekorator abstract method. ini berguna agar method tepat dibawahnya menjadi abstract\n",
    "                    #abstract method adalah method yang harus diimplementasikan di dalam subclass \n",
    "    def luas(self): pass\n",
    "    @abstractmethod\n",
    "    def keliling(self): pass\n",
    "    \n",
    "class Persegi(Bentuk):\n",
    "    def __init__(self, sisi):\n",
    "        self.__sisi = sisi\n",
    "        \n",
    "    def luas(self):\n",
    "        return self.__sisi * self.__sisi\n",
    "    \n",
    "    def keliling(self):\n",
    "        return 4 * self.__sisi\n",
    "\n",
    "\n",
    "#bentuk = Bentuk() #membuat instant dengan class Bentuk, disini kita membuat agar hal ini tidak terjadi\n",
    "persegi = Persegi(5)\n",
    "print(persegi.luas())\n",
    "print(persegi.keliling())"
   ]
  },
  {
   "cell_type": "markdown",
   "id": "0546ac4b",
   "metadata": {},
   "source": [
    "# 19. Exception Handling dan Try Except"
   ]
  },
  {
   "cell_type": "markdown",
   "id": "65ea3856",
   "metadata": {},
   "source": [
    "Exception adalah sebuah kondisi yang terjadi pada saat pengeksekusian program , yang mengganggu alur normal program yang berarti ia juga adalah sebuah kondisi dimana program error"
   ]
  },
  {
   "cell_type": "code",
   "execution_count": 42,
   "id": "8c1775b5",
   "metadata": {},
   "outputs": [
    {
     "name": "stdout",
     "output_type": "stream",
     "text": [
      "Nomer 1: 10\n",
      "Nomer 2: 0\n",
      "bilangan float tidak bisa dibagi nol\n",
      "Hasil =  None\n"
     ]
    }
   ],
   "source": [
    "#print(10/0) #ini akan menyebabkan error\n",
    "#print(10 + '10') #ini juga\n",
    "\n",
    "hasil = None\n",
    "a = float(input('Nomer 1: '))\n",
    "b = float(input('Nomer 2: '))\n",
    "\n",
    "try:\n",
    "    hasil = a / b\n",
    "except: #kita juga bisa menambahkan except lebih dari 1 jika kita ingin menghandel banyak error\n",
    "    print(\"bilangan float tidak bisa dibagi nol\")\n",
    "\n",
    "#bila kita memasukkan Nomer 1:10 dan Nomer 2:0 ini akan menyebabkan error karena 10/0 adalah tak hingga\n",
    "#bila kita tidak menghandel kondisi tersebut program akan berhenti karena error, akan tetapi kita masih bisa\n",
    "#menghandelnya, maka kita membutuhkan try dan except\n",
    "\n",
    "#setiap kita menggunakan try dan except pertama kode di dalam blok try akan dicek, apabila menyebabkan error maka\n",
    "#kode di dalam except akan dieksekusi\n",
    "\n",
    "print(\"Hasil = \", hasil)"
   ]
  },
  {
   "cell_type": "code",
   "execution_count": 43,
   "id": "f55ebbf3",
   "metadata": {},
   "outputs": [
    {
     "name": "stdout",
     "output_type": "stream",
     "text": [
      "Nomer 1: 10\n",
      "Nomer 2: 0\n",
      "bilangan float tidak bisa dibagi nol\n",
      "Penyabab error adalah :  float division by zero\n",
      "Hasil =  None\n"
     ]
    }
   ],
   "source": [
    "hasil = None\n",
    "a = float(input('Nomer 1: '))\n",
    "b = float(input('Nomer 2: '))\n",
    "\n",
    "try:\n",
    "    hasil = a / b\n",
    "except Exception as e: #seperti ini jika ingin menyertakan penyebab error (exception), dari python langsung\n",
    "    print(\"bilangan float tidak bisa dibagi nol\")\n",
    "    print(\"Penyabab error adalah : \", e)\n",
    "    \n",
    "print(\"Hasil = \", hasil)"
   ]
  },
  {
   "cell_type": "markdown",
   "id": "652c86e0",
   "metadata": {},
   "source": [
    "# 20. Try Except Else Finally"
   ]
  },
  {
   "cell_type": "code",
   "execution_count": 2,
   "id": "129fa20a",
   "metadata": {},
   "outputs": [
    {
     "name": "stdout",
     "output_type": "stream",
     "text": [
      "Nomer 1: 10\n",
      "Nomer 2: 0\n",
      "ZeroDivisionError =  <class 'ZeroDivisionError'>\n",
      "finally\n",
      "Hasil =  None\n"
     ]
    }
   ],
   "source": [
    "hasil = None\n",
    "a = float(input('Nomer 1: '))\n",
    "b = float(input('Nomer 2: '))\n",
    "\n",
    "try:\n",
    "    hasil = a / b\n",
    "except ZeroDivisionError as e:#menangkap error secara spesifik (bilai ZeroDivisionError terjadi ini yang dieksekusi)\n",
    "    print(\"ZeroDivisionError = \", type(e))\n",
    "except TypeError as e: #menangkap error secara spesifik (bilai TypeError terjadi ini yang dieksekusi)\n",
    "    print(\"TypeError = \", type(e))\n",
    "else: #else akan dieksekusi bila exception tidak terjadi \n",
    "    print(\"else\")\n",
    "finally: #finally akan dieksekusi baik tidak terjadi exception maupun terjadi exception\n",
    "    print(\"finally\")\n",
    "    \n",
    "print(\"Hasil = \", hasil)"
   ]
  },
  {
   "cell_type": "markdown",
   "id": "4b883280",
   "metadata": {},
   "source": [
    "# 21. Raising Exception"
   ]
  },
  {
   "cell_type": "markdown",
   "id": "b926a0dd",
   "metadata": {},
   "source": [
    "Raising Exception adalah melempar segala error atau exception seperti bahasa pemrograman pada umumnya seperti Java \n",
    "dan C++, \n",
    "Dalam python kita bisa menggunakan kata kunci raise untuk memaksa suatu exception yang spesifik agar ia terjadi"
   ]
  },
  {
   "cell_type": "code",
   "execution_count": 7,
   "id": "b43d8c23",
   "metadata": {},
   "outputs": [
    {
     "ename": "ValueError",
     "evalue": "Kopi telalu dingin",
     "output_type": "error",
     "traceback": [
      "\u001b[0;31m---------------------------------------------------------------------------\u001b[0m",
      "\u001b[0;31mValueError\u001b[0m                                Traceback (most recent call last)",
      "Input \u001b[0;32mIn [7]\u001b[0m, in \u001b[0;36m<module>\u001b[0;34m\u001b[0m\n\u001b[1;32m     13\u001b[0m             \u001b[38;5;28mprint\u001b[39m(\u001b[38;5;124m\"\u001b[39m\u001b[38;5;124mKopi siap diminum\u001b[39m\u001b[38;5;124m\"\u001b[39m)\n\u001b[1;32m     15\u001b[0m cup \u001b[38;5;241m=\u001b[39m CoffeCup(\u001b[38;5;241m10\u001b[39m)\n\u001b[0;32m---> 16\u001b[0m \u001b[43mcup\u001b[49m\u001b[38;5;241;43m.\u001b[39;49m\u001b[43mdrink_coffe\u001b[49m\u001b[43m(\u001b[49m\u001b[43m)\u001b[49m\n",
      "Input \u001b[0;32mIn [7]\u001b[0m, in \u001b[0;36mCoffeCup.drink_coffe\u001b[0;34m(self)\u001b[0m\n\u001b[1;32m      8\u001b[0m     \u001b[38;5;28;01mraise\u001b[39;00m \u001b[38;5;167;01mException\u001b[39;00m(\u001b[38;5;124m\"\u001b[39m\u001b[38;5;124mKopi telalu panas\u001b[39m\u001b[38;5;124m\"\u001b[39m)\n\u001b[1;32m      9\u001b[0m \u001b[38;5;28;01melif\u001b[39;00m \u001b[38;5;28mself\u001b[39m\u001b[38;5;241m.\u001b[39m__temperature \u001b[38;5;241m<\u001b[39m \u001b[38;5;241m65\u001b[39m:\n\u001b[1;32m     10\u001b[0m     \u001b[38;5;66;03m#print(\"Kopi terlalu dingin\")\u001b[39;00m\n\u001b[0;32m---> 11\u001b[0m     \u001b[38;5;28;01mraise\u001b[39;00m \u001b[38;5;167;01mValueError\u001b[39;00m(\u001b[38;5;124m\"\u001b[39m\u001b[38;5;124mKopi telalu dingin\u001b[39m\u001b[38;5;124m\"\u001b[39m) \u001b[38;5;66;03m#Value error adalah salah satu class di dalam exception\u001b[39;00m\n\u001b[1;32m     12\u001b[0m \u001b[38;5;28;01melse\u001b[39;00m:\n\u001b[1;32m     13\u001b[0m     \u001b[38;5;28mprint\u001b[39m(\u001b[38;5;124m\"\u001b[39m\u001b[38;5;124mKopi siap diminum\u001b[39m\u001b[38;5;124m\"\u001b[39m)\n",
      "\u001b[0;31mValueError\u001b[0m: Kopi telalu dingin"
     ]
    }
   ],
   "source": [
    "class CoffeCup:\n",
    "    def __init__(self, temperature):\n",
    "        self.__temperature = temperature\n",
    "        \n",
    "    def drink_coffe(self):\n",
    "        if self.__temperature > 85:\n",
    "            #print(\"Kopi terlalu panas\")\n",
    "            raise Exception(\"Kopi telalu panas\") #Exception adalah class builtin\n",
    "        elif self.__temperature < 65:\n",
    "            #print(\"Kopi terlalu dingin\")\n",
    "            raise ValueError(\"Kopi telalu dingin\") #Value error adalah salah satu class di dalam exception\n",
    "        else:\n",
    "            print(\"Kopi siap diminum\")\n",
    "\n",
    "cup = CoffeCup(10)\n",
    "cup.drink_coffe()"
   ]
  },
  {
   "cell_type": "markdown",
   "id": "93716e0d",
   "metadata": {},
   "source": [
    "## 22. Menulis dan Menggunakan Custom Exception"
   ]
  },
  {
   "cell_type": "code",
   "execution_count": 12,
   "id": "22609c86",
   "metadata": {},
   "outputs": [
    {
     "ename": "CoffeTooHotException",
     "evalue": "Suhu kopi = 100",
     "output_type": "error",
     "traceback": [
      "\u001b[0;31m---------------------------------------------------------------------------\u001b[0m",
      "\u001b[0;31mCoffeTooHotException\u001b[0m                      Traceback (most recent call last)",
      "Input \u001b[0;32mIn [12]\u001b[0m, in \u001b[0;36m<module>\u001b[0;34m\u001b[0m\n\u001b[1;32m     21\u001b[0m             \u001b[38;5;28mprint\u001b[39m(\u001b[38;5;124m\"\u001b[39m\u001b[38;5;124mKopi siap diminum\u001b[39m\u001b[38;5;124m\"\u001b[39m)\n\u001b[1;32m     23\u001b[0m cup \u001b[38;5;241m=\u001b[39m CoffeCup(\u001b[38;5;241m100\u001b[39m)\n\u001b[0;32m---> 24\u001b[0m \u001b[43mcup\u001b[49m\u001b[38;5;241;43m.\u001b[39;49m\u001b[43mdrink_coffe\u001b[49m\u001b[43m(\u001b[49m\u001b[43m)\u001b[49m\n",
      "Input \u001b[0;32mIn [12]\u001b[0m, in \u001b[0;36mCoffeCup.drink_coffe\u001b[0;34m(self)\u001b[0m\n\u001b[1;32m     13\u001b[0m \u001b[38;5;28;01mdef\u001b[39;00m \u001b[38;5;21mdrink_coffe\u001b[39m(\u001b[38;5;28mself\u001b[39m):\n\u001b[1;32m     14\u001b[0m     \u001b[38;5;28;01mif\u001b[39;00m \u001b[38;5;28mself\u001b[39m\u001b[38;5;241m.\u001b[39m__temperature \u001b[38;5;241m>\u001b[39m \u001b[38;5;241m85\u001b[39m:\n\u001b[1;32m     15\u001b[0m         \u001b[38;5;66;03m#print(\"Kopi terlalu panas\")\u001b[39;00m\n\u001b[0;32m---> 16\u001b[0m         \u001b[38;5;28;01mraise\u001b[39;00m CoffeTooHotException(\u001b[38;5;124m\"\u001b[39m\u001b[38;5;124mSuhu kopi = \u001b[39m\u001b[38;5;124m\"\u001b[39m \u001b[38;5;241m+\u001b[39m \u001b[38;5;28mstr\u001b[39m(\u001b[38;5;28mself\u001b[39m\u001b[38;5;241m.\u001b[39m__temperature))\n\u001b[1;32m     17\u001b[0m     \u001b[38;5;28;01melif\u001b[39;00m \u001b[38;5;28mself\u001b[39m\u001b[38;5;241m.\u001b[39m__temperature \u001b[38;5;241m<\u001b[39m \u001b[38;5;241m65\u001b[39m:\n\u001b[1;32m     18\u001b[0m         \u001b[38;5;66;03m#print(\"Kopi terlalu dingin\")\u001b[39;00m\n\u001b[1;32m     19\u001b[0m         \u001b[38;5;28;01mraise\u001b[39;00m CoffeTooColdException(\u001b[38;5;124m\"\u001b[39m\u001b[38;5;124mSuhu kopi = \u001b[39m\u001b[38;5;124m\"\u001b[39m \u001b[38;5;241m+\u001b[39m \u001b[38;5;28mstr\u001b[39m(\u001b[38;5;28mself\u001b[39m\u001b[38;5;241m.\u001b[39m__temperature)) \n",
      "\u001b[0;31mCoffeTooHotException\u001b[0m: Suhu kopi = 100"
     ]
    }
   ],
   "source": [
    "class CoffeTooHotException(Exception): #Custom Exception yang mewarisi dari class Exception\n",
    "    def __init__(self, pesan):\n",
    "        super().__init__(pesan) #memanggil fungsi yang ada di dalam class Exception\n",
    "        \n",
    "class CoffeTooColdException(Exception): #Custom Exception yang mewarisi dari class Exception\n",
    "    def __init__(self, pesan):\n",
    "        super().__init__(pesan) #memanggil fungsi yang ada di dalam class Exception\n",
    "\n",
    "class CoffeCup:\n",
    "    def __init__(self, temperature):\n",
    "        self.__temperature = temperature\n",
    "        \n",
    "    def drink_coffe(self):\n",
    "        if self.__temperature > 85:\n",
    "            #print(\"Kopi terlalu panas\")\n",
    "            raise CoffeTooHotException(\"Suhu kopi = \" + str(self.__temperature))\n",
    "        elif self.__temperature < 65:\n",
    "            #print(\"Kopi terlalu dingin\")\n",
    "            raise CoffeTooColdException(\"Suhu kopi = \" + str(self.__temperature)) \n",
    "        else:\n",
    "            print(\"Kopi siap diminum\")\n",
    "\n",
    "cup = CoffeCup(100)\n",
    "cup.drink_coffe()"
   ]
  },
  {
   "cell_type": "markdown",
   "id": "0b722763",
   "metadata": {},
   "source": [
    "# 23. Iterator"
   ]
  },
  {
   "cell_type": "code",
   "execution_count": 14,
   "id": "51a48542",
   "metadata": {},
   "outputs": [
    {
     "name": "stdout",
     "output_type": "stream",
     "text": [
      "9 ini iterasi ke  1\n",
      "8 ini iterasi ke  2\n",
      "7 ini iterasi ke  3\n",
      "6 ini iterasi ke  4\n",
      "5 ini iterasi ke  5\n",
      "4 ini iterasi ke  6\n",
      "3 ini iterasi ke  7\n"
     ]
    }
   ],
   "source": [
    "a = [9, 8, 7, 6, 5, 4, 3]\n",
    "\n",
    "j = 0\n",
    "for i in a:\n",
    "    j += 1\n",
    "    print(i, \"ini iterasi ke \", j)\n",
    "    \n",
    "    "
   ]
  },
  {
   "cell_type": "markdown",
   "id": "8e707316",
   "metadata": {},
   "source": [
    "iterator adalah objek yang bisa digunakan untuk melakukan iterasi pada suatu koleksi (list, tuple, dll)"
   ]
  },
  {
   "cell_type": "code",
   "execution_count": 18,
   "id": "b3f6882d",
   "metadata": {},
   "outputs": [
    {
     "name": "stdout",
     "output_type": "stream",
     "text": [
      "9\n",
      "8\n",
      "7\n",
      "6\n",
      "5\n",
      "4\n",
      "3\n"
     ]
    },
    {
     "ename": "StopIteration",
     "evalue": "",
     "output_type": "error",
     "traceback": [
      "\u001b[0;31m---------------------------------------------------------------------------\u001b[0m",
      "\u001b[0;31mStopIteration\u001b[0m                             Traceback (most recent call last)",
      "Input \u001b[0;32mIn [18]\u001b[0m, in \u001b[0;36m<module>\u001b[0;34m\u001b[0m\n\u001b[1;32m     10\u001b[0m \u001b[38;5;28mprint\u001b[39m(\u001b[38;5;28mnext\u001b[39m(it)) \u001b[38;5;66;03m#pemanggian keenam outputnya elemen keenam\u001b[39;00m\n\u001b[1;32m     11\u001b[0m \u001b[38;5;28mprint\u001b[39m(\u001b[38;5;28mnext\u001b[39m(it)) \u001b[38;5;66;03m#pemanggian ketujuh outputnya elemen ketujuh\u001b[39;00m\n\u001b[0;32m---> 12\u001b[0m \u001b[38;5;28mprint\u001b[39m(\u001b[38;5;28;43mnext\u001b[39;49m\u001b[43m(\u001b[49m\u001b[43mit\u001b[49m\u001b[43m)\u001b[49m)\n",
      "\u001b[0;31mStopIteration\u001b[0m: "
     ]
    }
   ],
   "source": [
    "a = [9, 8, 7, 6, 5, 4, 3]\n",
    "\n",
    "it = iter(a) #method iter() digunakan untuk mendapatkan iterator\n",
    "\n",
    "print(next(it)) #pemanggian pertama outputnya elemen pertama\n",
    "print(next(it)) #pemanggian kedua outputnya elemen kedua\n",
    "print(next(it)) #pemanggian ketigaoutputnya elemen ketiga\n",
    "print(next(it)) #pemanggian keempat outputnya elemen keempat\n",
    "print(next(it)) #pemanggian kelima outputnya elemen kelima\n",
    "print(next(it)) #pemanggian keenam outputnya elemen keenam\n",
    "print(next(it)) #pemanggian ketujuh outputnya elemen ketujuh\n",
    "print(next(it)) #pemanggian ke delapan akan menyebabkan error,karena elemen di dalam a hanya ada 7\n",
    "\n",
    "#karena elemen di dalam list a ada 7 maka pemanggilan fungsi next() hanya bisa 7 kali, dan bila lebih maka akan error"
   ]
  },
  {
   "cell_type": "markdown",
   "id": "828c8a49",
   "metadata": {},
   "source": [
    "## Membuat custom iterator"
   ]
  },
  {
   "cell_type": "code",
   "execution_count": 28,
   "id": "c70bb6cd",
   "metadata": {},
   "outputs": [
    {
     "name": "stdout",
     "output_type": "stream",
     "text": [
      "1\n",
      "9\n",
      "2\n",
      "8\n",
      "3\n",
      "7\n"
     ]
    }
   ],
   "source": [
    "#__iter__() and __next()\n",
    "\n",
    "class listIterator:\n",
    "    def __init__(self, _list):\n",
    "        self.__list = _list\n",
    "        self.__index = -1\n",
    "        \n",
    "    def __iter__(self):\n",
    "        return self\n",
    "    \n",
    "    def __next__(self):\n",
    "        self.__index += 1\n",
    "        if self.__index >= len(self.__list):\n",
    "            raise StopIteration #menangkap exception dengan kita sendiri yang merincinya\n",
    "        return self.__list[self.__index]\n",
    "\n",
    "a = [1, 9, 2, 8, 3, 7]\n",
    "\n",
    "myList = listIterator(a)\n",
    "it = iter(myList)\n",
    "\n",
    "#print(next(it))\n",
    "#print(next(it))\n",
    "#print(next(it))\n",
    "#print(next(it))\n",
    "#print(next(it))\n",
    "#print(next(it))\n",
    "#print(next(it))\n",
    "for i in it:\n",
    "    print(i)"
   ]
  },
  {
   "cell_type": "markdown",
   "id": "08c142cf",
   "metadata": {},
   "source": [
    "# 24. Generator"
   ]
  },
  {
   "cell_type": "markdown",
   "id": "e97363e1",
   "metadata": {},
   "source": [
    "Generator adalah cara yang lebih simpel untuk membuat iterator, Generator adalah fungsi yang mengembalikan objek \n",
    "iterator dimana kita bisa melakukan iterasi padanya"
   ]
  },
  {
   "cell_type": "code",
   "execution_count": 30,
   "id": "c33d19b7",
   "metadata": {},
   "outputs": [
    {
     "name": "stdout",
     "output_type": "stream",
     "text": [
      "a\n",
      "b\n",
      "c\n"
     ]
    }
   ],
   "source": [
    "def fungsiku():\n",
    "    yield 'a' #kata kunci yield mirip dengan return bedanya, jika return digunakan maka fungsi akan berhenti dan\n",
    "              #program di bawah return tidak dieksekusi, sedangkan yield fungsi akan berhenti dan menyimpan statenya\n",
    "    yield 'b'\n",
    "    yield 'c'\n",
    "    \n",
    "x = fungsiku()\n",
    "print(next(x))\n",
    "print(next(x))\n",
    "print(next(x))\n",
    "#print(next(x)) #karena elemennya hanya ada 3 maka pemanggilan next() hanya bisa 3x"
   ]
  },
  {
   "cell_type": "code",
   "execution_count": 34,
   "id": "397fb06a",
   "metadata": {},
   "outputs": [
    {
     "name": "stdout",
     "output_type": "stream",
     "text": [
      "-------- 1\n",
      "1\n",
      "-------- 2\n",
      "2\n",
      "-------- 3\n",
      "3\n"
     ]
    }
   ],
   "source": [
    "def fungsiku():\n",
    "    n = 1\n",
    "    print('--------',n)\n",
    "    yield n \n",
    "    n += 1\n",
    "    print('--------',n)\n",
    "    yield n\n",
    "    n += 1\n",
    "    print('--------',n)\n",
    "    yield n\n",
    "    n += 1\n",
    "    print('--------',n)\n",
    "    \n",
    "x = fungsiku()\n",
    "print(next(x))\n",
    "print(next(x))\n",
    "print(next(x))"
   ]
  },
  {
   "cell_type": "code",
   "execution_count": 35,
   "id": "66b7b54c",
   "metadata": {},
   "outputs": [
    {
     "name": "stdout",
     "output_type": "stream",
     "text": [
      "-------- 0\n",
      "0\n",
      "-------- 1\n",
      "1\n",
      "-------- 2\n",
      "2\n",
      "-------- 3\n",
      "3\n"
     ]
    }
   ],
   "source": [
    "#menggunakan yield dengan for loop\n",
    "def fungsiku():\n",
    "    for i in range(5):\n",
    "        print(\"--------\", i)\n",
    "        yield i\n",
    "        \n",
    "x = fungsiku()\n",
    "print(next(x))\n",
    "print(next(x))\n",
    "print(next(x))\n",
    "print(next(x))"
   ]
  },
  {
   "cell_type": "code",
   "execution_count": 36,
   "id": "49fe96bd",
   "metadata": {},
   "outputs": [
    {
     "name": "stdout",
     "output_type": "stream",
     "text": [
      "1\n",
      "9\n",
      "2\n",
      "8\n",
      "3\n",
      "7\n"
     ]
    }
   ],
   "source": [
    "def listIterator(_list):\n",
    "    for i in _list:\n",
    "        yield i\n",
    "        \n",
    "a = [1, 9, 2, 8, 3, 7]\n",
    "\n",
    "myList = listIterator(a)\n",
    "\n",
    "for x in myList:\n",
    "    print(x)"
   ]
  },
  {
   "cell_type": "markdown",
   "id": "78f2dccd",
   "metadata": {},
   "source": [
    "# 25. Command Line Argument"
   ]
  },
  {
   "cell_type": "code",
   "execution_count": 37,
   "id": "7a7b5c15",
   "metadata": {},
   "outputs": [
    {
     "name": "stderr",
     "output_type": "stream",
     "text": [
      "usage: ipykernel_launcher.py [-h]\n",
      "ipykernel_launcher.py: error: unrecognized arguments: -f /home/humaid/.local/share/jupyter/runtime/kernel-b684f9d3-b003-4545-8e81-43494e08b432.json\n"
     ]
    },
    {
     "ename": "SystemExit",
     "evalue": "2",
     "output_type": "error",
     "traceback": [
      "An exception has occurred, use %tb to see the full traceback.\n",
      "\u001b[0;31mSystemExit\u001b[0m\u001b[0;31m:\u001b[0m 2\n"
     ]
    },
    {
     "name": "stderr",
     "output_type": "stream",
     "text": [
      "/home/humaid/.local/lib/python3.8/site-packages/IPython/core/interactiveshell.py:3259: UserWarning: To exit: use 'exit', 'quit', or Ctrl-D.\n",
      "  warn(\"To exit: use 'exit', 'quit', or Ctrl-D.\", stacklevel=1)\n"
     ]
    }
   ],
   "source": [
    "#waktu di video 7:22:14\n",
    "import argparse\n",
    "\n",
    "if __name__ == \"__main__\":\n",
    "    #menginisialisasi parser\n",
    "    parser = argparse.ArgumentParser(\n",
    "        description=\"my math script\"\n",
    "    )\n",
    "    \n",
    "    #memasukkan parameter posisional/opsional\n",
    "    parser.add_argument('num1', help=\"Number 1\", type=float)\n",
    "    parser.add_argument('num2', help=\"Number 2\", type=float)\n",
    "    parser.add_argument('operation', help=\"provide operator\")\n",
    "    #parse the argument\n",
    "    args = parser.parse_args()\n",
    "    print(args)\n",
    "    \n",
    "    result = None\n",
    "    if args.operation == \"+\":\n",
    "        result = args.num1 + args.num2\n",
    "    if args.operation == \"-\":\n",
    "        result = args.num1 - args.num2\n",
    "    if args.operation == \"*\":\n",
    "        result = args.num1 * args.num2\n",
    "    if args.operation == \"/\":\n",
    "        result = args.num1 / args.num2\n",
    "    if args.operation == \"pow\":\n",
    "        result = pow(args.num1, args.num2)\n",
    "        \n",
    "    print(\"Result : \", result)"
   ]
  },
  {
   "cell_type": "markdown",
   "id": "940f55f5",
   "metadata": {},
   "source": [
    "# 26. Menggunakan fungsi lambda(), filter(), reduce(), map()"
   ]
  },
  {
   "cell_type": "code",
   "execution_count": 41,
   "id": "feca141c",
   "metadata": {},
   "outputs": [
    {
     "name": "stdout",
     "output_type": "stream",
     "text": [
      "20\n",
      "11\n",
      "24\n",
      "[4, 10, 16, 20, 18, 6]\n",
      "[3, 9, 15, 18, 14, 4]\n",
      "[2, 8, 10]\n",
      "[7, 8]\n"
     ]
    }
   ],
   "source": [
    "#fungsi lambda adalah fungsi yang anonimus karena ia adalah fungsi yang tidak memiliki nama\n",
    "\n",
    "from functools import reduce #modul untuk menggunakan fungsi reduce()\n",
    "\n",
    "\"\"\"\n",
    "def double(x):\n",
    "    return x * 2\n",
    "def add(x, y):\n",
    "    return x + y\n",
    "def product(x, y, z):\n",
    "    return x * y * z\n",
    "\"\"\"\n",
    "\n",
    "double = lambda x : x * 2\n",
    "add = lambda x, y : x + y\n",
    "product = lambda x, y, z : x * y * z\n",
    "\n",
    "print(double(10))\n",
    "print(add(5, 6))\n",
    "print(product(2, 3, 4))\n",
    "\n",
    "#fungsi map()\n",
    "myList = [2, 5, 8, 10, 9, 3]\n",
    "myList2 = [1, 4, 7, 8, 5, 1]\n",
    "a = map(lambda x : x * 2, myList) #setiap elemen di dalam myList akan menjadi parameter dari fungsi lambda\n",
    "print(list(a)) #tipe data dari variabel a harus dikonversi menjadi list dahulu\n",
    "\n",
    "b = map(lambda x, y : x + y, myList, myList2) #elemen 1 pada myList ditambah elemen 1 pada myList2\n",
    "print(list(b))\n",
    "\n",
    "#fungsi filter()\n",
    "#fungsi ini butuh 2 argumen, argumen pertama yang merupakan fungsi harus mengembalikan nilai boolean.\n",
    "\n",
    "#memfilter bilangan genap pada list\n",
    "c = filter(lambda x : x % 2 == 0, myList)\n",
    "print(list(c))\n",
    "\n",
    "#memfilter bilangan yang nilainya lebih dari 5\n",
    "d = filter(lambda x : True if x > 5 else False, myList2)\n",
    "print(list(d))\n",
    "\n",
    "#fungsi reduce()\n",
    "e = reduce(lambda x, y : x + y, myList) #menambahkan semua elemen di dalam myList, cara kerja mirip fibonacci\n",
    "print(e)"
   ]
  },
  {
   "cell_type": "markdown",
   "id": "29b2a16b",
   "metadata": {},
   "source": [
    "# 27. Nested Function (Fungsi Bersarang) dan Clousures"
   ]
  },
  {
   "cell_type": "code",
   "execution_count": 42,
   "id": "02da9763",
   "metadata": {},
   "outputs": [
    {
     "name": "stdout",
     "output_type": "stream",
     "text": [
      "Assalamualaikum\n"
     ]
    }
   ],
   "source": [
    "#Fungsi Bersarang adalah fungsi yang berada di dalam fungsi\n",
    "def outerFunction(text):\n",
    "    def innerFunction():\n",
    "        print(text)\n",
    "    innerFunction()\n",
    "    \n",
    "outerFunction(\"Assalamualaikum\")"
   ]
  },
  {
   "cell_type": "code",
   "execution_count": 44,
   "id": "3a717212",
   "metadata": {},
   "outputs": [
    {
     "name": "stdout",
     "output_type": "stream",
     "text": [
      "[3, 4, 5, 2]\n",
      "[3, 4, 5]\n",
      "[3, 4]\n"
     ]
    }
   ],
   "source": [
    "def pop(list):\n",
    "    def getLastItem(myList):\n",
    "        return myList[len(list) - 1]\n",
    "    \n",
    "    list.remove(getLastItem(list)) #menghapus elemen terakhir dari list\n",
    "    return list\n",
    "\n",
    "a = [3, 4, 5, 2, 7]\n",
    "\n",
    "print(pop(a)) #menghapus 7\n",
    "print(pop(a)) #menghapus 2\n",
    "print(pop(a)) #menghapus 5"
   ]
  },
  {
   "cell_type": "code",
   "execution_count": 46,
   "id": "56260d65",
   "metadata": {},
   "outputs": [
    {
     "name": "stdout",
     "output_type": "stream",
     "text": [
      "Assalamualaikum\n",
      "Assalamualaikum\n"
     ]
    }
   ],
   "source": [
    "#Clousure\n",
    "#Clousure adalah fungsi yang mengembalikan nilai yang bergantung pada nilai 1 atau lebih variabel yang dideklarasikan \n",
    "#di luar fungsi. dan Clousure bisa menyimpan nilai dari hasil dari suatu fungsi meski fungsi sudah dihapus\n",
    "\n",
    "def outerFunction(text):\n",
    "    def innerFunction(): #nilai dari innerFunction(bergantung pada variabel lain yg dideklarasikan diluarnya)\n",
    "        print(text) #variabel text dideklarasikan di luar fungsi innerFunction()\n",
    "    return innerFunction #Pemanggilan Closure tidak perlu menggunakan kurung () seperti fungsi\n",
    "    \n",
    "a = outerFunction(\"Assalamualaikum\")\n",
    "a()\n",
    "del outerFunction #menghapus fungsi outerFunction\n",
    "a() #a menjadi mirip dengan fungsi. dan outputnya adalah \"Assalamualaikum\" meski fungsi outerFunction sudah dihapus\n"
   ]
  },
  {
   "cell_type": "code",
   "execution_count": 48,
   "id": "d665c667",
   "metadata": {},
   "outputs": [
    {
     "name": "stdout",
     "output_type": "stream",
     "text": [
      "16\n",
      "25\n",
      "27\n",
      "8\n"
     ]
    }
   ],
   "source": [
    "#Contoh lain Clousure\n",
    "def pangkat(exponen):\n",
    "    def pangkatDari(base):\n",
    "        return pow(base, exponen)\n",
    "    return pangkatDari\n",
    "\n",
    "kuadrat = pangkat(2)\n",
    "print(kuadrat(4)) #kuadrat menjadi seperti fungsi. (parameter dalam kuadrat() sekaligus menjadi parameter fungsi\n",
    "                  #pangkatDari()\n",
    "print(kuadrat(5))\n",
    "kubik = pangkat(3)\n",
    "print(kubik(3))\n",
    "print(kubik(2))"
   ]
  },
  {
   "cell_type": "code",
   "execution_count": 1,
   "id": "b2d33f87",
   "metadata": {},
   "outputs": [
    {
     "name": "stdout",
     "output_type": "stream",
     "text": [
      "hello world\n"
     ]
    }
   ],
   "source": [
    "print('hello world')"
   ]
  }
 ],
 "metadata": {
  "kernelspec": {
   "display_name": "Python 3.11.0 64-bit",
   "language": "python",
   "name": "python3"
  },
  "language_info": {
   "codemirror_mode": {
    "name": "ipython",
    "version": 3
   },
   "file_extension": ".py",
   "mimetype": "text/x-python",
   "name": "python",
   "nbconvert_exporter": "python",
   "pygments_lexer": "ipython3",
   "version": "3.11.0 (main, Oct 24 2022, 18:26:48) [MSC v.1933 64 bit (AMD64)]"
  },
  "vscode": {
   "interpreter": {
    "hash": "5238573367df39f7286bb46f9ff5f08f63a01a80960060ce41e3c79b190280fa"
   }
  }
 },
 "nbformat": 4,
 "nbformat_minor": 5
}
