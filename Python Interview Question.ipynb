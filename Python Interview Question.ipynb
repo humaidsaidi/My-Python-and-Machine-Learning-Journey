{
 "cells": [
  {
   "cell_type": "markdown",
   "id": "9cf692c3",
   "metadata": {},
   "source": [
    "### 4. Menggabungkan 2 Tuple"
   ]
  },
  {
   "cell_type": "code",
   "execution_count": 1,
   "id": "9d99c804",
   "metadata": {},
   "outputs": [
    {
     "data": {
      "text/plain": [
       "(1, 'a', True, 4, 5, 6)"
      ]
     },
     "execution_count": 1,
     "metadata": {},
     "output_type": "execute_result"
    }
   ],
   "source": [
    "tup1 = (1,'a',True)\n",
    "tup2 = (4,5,6)\n",
    "\n",
    "tup1 + tup2"
   ]
  },
  {
   "cell_type": "markdown",
   "id": "d30b9f2c",
   "metadata": {},
   "source": [
    "### 6. Menginisialisasi Numpy Array 5x5 yang Isinya 0 Semua"
   ]
  },
  {
   "cell_type": "code",
   "execution_count": 2,
   "id": "259c0edd",
   "metadata": {},
   "outputs": [
    {
     "data": {
      "text/plain": [
       "array([[0., 0., 0., 0., 0.],\n",
       "       [0., 0., 0., 0., 0.],\n",
       "       [0., 0., 0., 0., 0.],\n",
       "       [0., 0., 0., 0., 0.],\n",
       "       [0., 0., 0., 0., 0.]])"
      ]
     },
     "execution_count": 2,
     "metadata": {},
     "output_type": "execute_result"
    }
   ],
   "source": [
    "import numpy as np\n",
    "\n",
    "n1 = np.zeros((5,5))\n",
    "n1"
   ]
  },
  {
   "cell_type": "markdown",
   "id": "abbec968",
   "metadata": {},
   "source": [
    "### 22. Cari Central Tendency (Mean, Standar Deviasi , Median) dari Numpy Array : np.array([1,5,5,3,100,4,48])"
   ]
  },
  {
   "cell_type": "code",
   "execution_count": 3,
   "id": "979c2518",
   "metadata": {},
   "outputs": [
    {
     "name": "stdout",
     "output_type": "stream",
     "text": [
      "23.428571428571427\n",
      "5.0\n",
      "34.537173111455026\n"
     ]
    }
   ],
   "source": [
    "import numpy as np\n",
    "n1 = np.array([1,5,5,3,100,4,46])\n",
    "\n",
    "print(np.mean(n1))\n",
    "print(np.median(n1))\n",
    "print(np.std(n1))"
   ]
  },
  {
   "cell_type": "markdown",
   "id": "f9be2958",
   "metadata": {},
   "source": [
    "### 27. Memasukkan Suatu Nilai ke Dalam List pada Indeks Tertentu"
   ]
  },
  {
   "cell_type": "code",
   "execution_count": 4,
   "id": "447f2ccb",
   "metadata": {},
   "outputs": [
    {
     "data": {
      "text/plain": [
       "[1, 2, 3, 4, 5, 6, 10, 7]"
      ]
     },
     "execution_count": 4,
     "metadata": {},
     "output_type": "execute_result"
    }
   ],
   "source": [
    "list = [1,2,3,4,5,6,7]\n",
    "\n",
    "list.insert(6, 10) # Pada indeks 6 masukkan nilai 10\n",
    "list"
   ]
  },
  {
   "cell_type": "markdown",
   "id": "c09f78a1",
   "metadata": {},
   "source": [
    "### 28. Membuang Elemen yang Duplikat pada List"
   ]
  },
  {
   "cell_type": "code",
   "execution_count": 6,
   "id": "796382da",
   "metadata": {},
   "outputs": [
    {
     "name": "stdout",
     "output_type": "stream",
     "text": [
      "[1, 2, 3, 5]\n"
     ]
    }
   ],
   "source": [
    "del list\n",
    "\n",
    "_list = [1,2,3,3,5]\n",
    "_list = list(dict.fromkeys(_list))\n",
    "print(_list)"
   ]
  },
  {
   "cell_type": "markdown",
   "id": "bfc97893",
   "metadata": {},
   "source": [
    "### 30. Apa Itu List Comprehension\n",
    "\n",
    "List comprehension digunakan untuk merubah suatu list ke list lainnya"
   ]
  },
  {
   "cell_type": "code",
   "execution_count": 8,
   "id": "4ac0536d",
   "metadata": {},
   "outputs": [
    {
     "name": "stdout",
     "output_type": "stream",
     "text": [
      "[0, 1, 2, 3, 4, 5, 6, 7, 8, 9, 10, 11, 12, 13, 14, 15, 16, 17, 18, 19, 20, 21, 22, 23, 24, 25, 26, 27, 28, 29, 30, 31, 32, 33, 34, 35, 36, 37, 38, 39, 40, 41, 42, 43, 44, 45, 46, 47, 48, 49, 50, 51, 52, 53, 54, 55, 56, 57, 58, 59, 60, 61, 62, 63, 64, 65, 66, 67, 68, 69, 70, 71, 72, 73, 74, 75, 76, 77, 78, 79, 80, 81, 82, 83, 84, 85, 86, 87, 88, 89, 90, 91, 92, 93, 94, 95, 96, 97, 98, 99]\n"
     ]
    }
   ],
   "source": [
    "_list = [i for i in range(100)]\n",
    "print(_list)"
   ]
  },
  {
   "cell_type": "markdown",
   "id": "0642f312",
   "metadata": {},
   "source": [
    "### 34. Apa Itu Fungsi map() pada Python\n",
    "\n",
    "Fungsi map() digunakan untuk memanggil/menggunakan fungsi pada elemen yang bisa diiterasi (list, set, tuple)"
   ]
  },
  {
   "cell_type": "code",
   "execution_count": 9,
   "id": "55ca457c",
   "metadata": {},
   "outputs": [
    {
     "name": "stdout",
     "output_type": "stream",
     "text": [
      "[3, 6, 9, 12, 15, 18]\n"
     ]
    }
   ],
   "source": [
    "def multiply3(n):\n",
    "    return n*3\n",
    "\n",
    "num = (1,2,3,4,5,6)\n",
    "result = map(multiply3, num) # Memanggil fungsi multiply pada setiap elemen di dalam set\n",
    "\n",
    "print(list(result))"
   ]
  },
  {
   "cell_type": "markdown",
   "id": "edc5671a",
   "metadata": {},
   "source": [
    "### 48. Apa Kegunaan Fungsi Lambda\n",
    "\n",
    "Fungsi lambda adalah fungsi yang tak bernama dan hanya terdiri 1 baris, digunakan untuk menyelesaikan masalah simple"
   ]
  },
  {
   "cell_type": "code",
   "execution_count": 10,
   "id": "389c2c60",
   "metadata": {},
   "outputs": [
    {
     "name": "stdout",
     "output_type": "stream",
     "text": [
      "15\n"
     ]
    }
   ],
   "source": [
    "triple = lambda x: x*3\n",
    "\n",
    "print(triple(5))"
   ]
  },
  {
   "cell_type": "markdown",
   "id": "04a597c2",
   "metadata": {},
   "source": [
    "### 49. Mencari Faktorial dari Suatu Angka Menggunakan Rekursi"
   ]
  },
  {
   "cell_type": "code",
   "execution_count": 11,
   "id": "7988e409",
   "metadata": {},
   "outputs": [
    {
     "name": "stdout",
     "output_type": "stream",
     "text": [
      "Faktorial dari  6  adalah  720\n"
     ]
    }
   ],
   "source": [
    "def factorial(a):\n",
    "    if a == 1:\n",
    "        return 1\n",
    "    else:\n",
    "        return (a * factorial(a-1))\n",
    "    \n",
    "number = 6\n",
    "\n",
    "print('Faktorial dari ', number, ' adalah ', factorial(number))"
   ]
  },
  {
   "cell_type": "code",
   "execution_count": null,
   "id": "67df8987",
   "metadata": {},
   "outputs": [],
   "source": []
  }
 ],
 "metadata": {
  "kernelspec": {
   "display_name": "Python 3 (ipykernel)",
   "language": "python",
   "name": "python3"
  },
  "language_info": {
   "codemirror_mode": {
    "name": "ipython",
    "version": 3
   },
   "file_extension": ".py",
   "mimetype": "text/x-python",
   "name": "python",
   "nbconvert_exporter": "python",
   "pygments_lexer": "ipython3",
   "version": "3.8.10"
  }
 },
 "nbformat": 4,
 "nbformat_minor": 5
}
