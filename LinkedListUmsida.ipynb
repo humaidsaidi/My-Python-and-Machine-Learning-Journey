{
  "nbformat": 4,
  "nbformat_minor": 0,
  "metadata": {
    "colab": {
      "provenance": [],
      "collapsed_sections": [
        "jIbxovXwWWfw",
        "EXsSYngzdPXT"
      ]
    },
    "kernelspec": {
      "name": "python3",
      "display_name": "Python 3"
    },
    "language_info": {
      "name": "python"
    }
  },
  "cells": [
    {
      "cell_type": "markdown",
      "source": [
        "# **Linked List**\n",
        "\n",
        "**Linked list** adalah struktur data linear yang terdiri dari sejumlah simpul (node) yang terhubung satu sama lain secara sekuensial. \n",
        "\n",
        "**Setiap simpul** biasanya terdiri dari dua bagian: **data** dan **pointer** ke simpul berikutnya dalam urutan.\n",
        "\n",
        "Secara umum, ada dua jenis linked list: **singly linked list dan doubly linked list**. \n",
        "* Pada singly linked list, setiap simpul hanya memiliki satu pointer ke simpul berikutnya.\n",
        "* Pada doubly linked list, setiap simpul memiliki dua pointer, yaitu pointer ke simpul berikutnya dan pointer ke simpul sebelumnya.\n",
        "\n",
        "Kelebihan dari linked list adalah **kemampuannya untuk memperluas atau memperpendek ukuran list dengan efisien tanpa memerlukan alokasi memori yang besar **seperti array. \n",
        "\n",
        "Namun, penggunaan linked list juga memerlukan overhead tambahan untuk menavigasi dan mengubah struktur data, dan seringkali memerlukan alokasi memori dinamis untuk setiap simpul."
      ],
      "metadata": {
        "id": "7rJs-nJrQhp9"
      }
    },
    {
      "cell_type": "markdown",
      "source": [
        "# Contoh Program Singular Linked List"
      ],
      "metadata": {
        "id": "jIbxovXwWWfw"
      }
    },
    {
      "cell_type": "code",
      "execution_count": null,
      "metadata": {
        "id": "4PSNskTnBWn9",
        "colab": {
          "base_uri": "https://localhost:8080/"
        },
        "outputId": "4f9ab614-1b73-4c7e-81c7-f09c6d782acd"
      },
      "outputs": [
        {
          "output_type": "stream",
          "name": "stdout",
          "text": [
            "Data Awal : \n",
            "1\n",
            "2\n",
            "3\n",
            "4\n",
            "Data setelah dihapus yaitu node 3 : \n",
            "1\n",
            "2\n",
            "4\n",
            "Data setelah ada penyisipan data 10 : \n",
            "1\n",
            "10\n",
            "2\n",
            "4\n"
          ]
        }
      ],
      "source": [
        "class Node:\n",
        "    def __init__(self, data=None):\n",
        "        self.data = data\n",
        "        self.next = None\n",
        "\n",
        "class SinglyLinkedList:\n",
        "    def __init__(self):\n",
        "        self.head = None\n",
        "\n",
        "    #Fungsi pembuatan node\n",
        "    def add_node(self, data):\n",
        "        new_node = Node(data)\n",
        "        if self.head is None:\n",
        "            self.head = new_node\n",
        "            return\n",
        "        last_node = self.head\n",
        "        while last_node.next:\n",
        "            last_node = last_node.next\n",
        "        last_node.next = new_node\n",
        "\n",
        "    #Fungsi penghapusan data\n",
        "    def delete_node(self, data):\n",
        "        current_node = self.head\n",
        "        if current_node and current_node.data == data:\n",
        "            self.head = current_node.next\n",
        "            current_node = None\n",
        "            return\n",
        "        prev_node = None\n",
        "        while current_node and current_node.data != data:\n",
        "            prev_node = current_node\n",
        "            current_node = current_node.next\n",
        "        if current_node is None:\n",
        "            return\n",
        "        prev_node.next = current_node.next\n",
        "        current_node = None\n",
        "\n",
        "    #Fungsi penyisipan data\n",
        "    def insert_node(self, prev_node_data, new_data):\n",
        "        new_node = Node(new_data)\n",
        "        current_node = self.head\n",
        "        if current_node is None:\n",
        "            self.head = new_node\n",
        "            return\n",
        "        if current_node.data == prev_node_data:\n",
        "            new_node.next = current_node\n",
        "            self.head = new_node\n",
        "            return\n",
        "        while current_node and current_node.data != prev_node_data:\n",
        "            prev_node = current_node\n",
        "            current_node = current_node.next\n",
        "        if current_node is None:\n",
        "            print(\"Node with data value {} not found\".format(prev_node_data))\n",
        "            return\n",
        "        prev_node.next = new_node\n",
        "        new_node.next = current_node\n",
        "\n",
        "    #Fungsi untuk menampilkan data\n",
        "    def display(self):\n",
        "        current_node = self.head\n",
        "        while current_node:\n",
        "            print(current_node.data)\n",
        "            current_node = current_node.next\n",
        "\n",
        "# Contoh penggunaan program\n",
        "#Pemanggilan Fungsi\n",
        "sll = SinglyLinkedList()\n",
        "print(\"Data Awal : \")\n",
        "sll.add_node(1)\n",
        "sll.add_node(2)\n",
        "sll.add_node(3)\n",
        "sll.add_node(4)\n",
        "sll.display()\n",
        "\n",
        "print(\"Data setelah dihapus yaitu node 3 : \")\n",
        "sll.delete_node(3)\n",
        "sll.display()\n",
        "\n",
        "print(\"Data setelah ada penyisipan data 10 : \")\n",
        "sll.insert_node(2, 10) #Data 10 dicetak didepan data 2\n",
        "sll.display()"
      ]
    },
    {
      "cell_type": "markdown",
      "source": [
        "Keterangan program:\n",
        "\n",
        "* Node adalah kelas untuk merepresentasikan simpul pada linked list. Setiap simpul memiliki dua atribut: data untuk menyimpan data dan next untuk menunjukkan simpul berikutnya dalam urutan.\n",
        "* SinglyLinkedList adalah kelas untuk merepresentasikan linked list itu sendiri. Atribut head menunjukkan simpul pertama (head) pada linked list.\n",
        "* Method add_node digunakan untuk menambahkan simpul baru ke linked list. Pertama, buat simpul baru dengan data yang diinput. Jika linked list masih kosong (head = None), maka simpul baru menjadi simpul pertama (head). Jika tidak, cari simpul terakhir dengan melakukan iterasi pada setiap simpul hingga ditemukan simpul terakhir. Kemudian, tambahkan simpul baru di posisi simpul terakhir.\n",
        "* Method delete_node digunakan untuk menghapus simpul pada linked list dengan data yang sesuai dengan parameter data. Pertama, cek apakah simpul yang akan dihapus adalah simpul pertama (head). Jika iya, maka head diubah menjadi simpul berikutnya dan simpul pertama dihapus. Jika tidak, cari simpul dengan data yang sesuai dengan parameter data. Simpan simpul sebelum simpul yang akan dihapus dan simpul setelah simpul yang akan dihapus. Kemudian, hubungkan simpul sebelum simpul yang akan dihapus dengan simpul setelah simpul yang akan dihapus untuk menghapus simpul tersebut dari linked list.\n",
        "* Method display digunakan untuk menampilkan isi linked list dengan melakukan iterasi pada setiap simpul dan menampilkan data pada setiap simpul."
      ],
      "metadata": {
        "id": "QL4aENcnWiJF"
      }
    },
    {
      "cell_type": "markdown",
      "source": [
        "**TUGAS 1**\n",
        "\n",
        "* Buatlah aplikasi single Linked List, terdapat penampilan data awal, penyisipan data, dan penghapusan data.\n",
        "* Buat keterangan program."
      ],
      "metadata": {
        "id": "eE5NJep1M8Jd"
      }
    },
    {
      "cell_type": "markdown",
      "source": [
        "# Contoh Program Double Linked List"
      ],
      "metadata": {
        "id": "GrBkazwCYcV0"
      }
    },
    {
      "cell_type": "code",
      "source": [
        "#CONTOH 1 DOUBLE LINKED LIST\n",
        "class Node:\n",
        "    def __init__(self, data=None):\n",
        "        self.data = data\n",
        "        self.next = None\n",
        "        self.prev = None\n",
        "\n",
        "class DoubleSinglyLinkedList:\n",
        "    def __init__(self):\n",
        "        self.head = None\n",
        "\n",
        "    #Fungsi pembuatan node\n",
        "    def add_node(self, data):\n",
        "        new_node = Node(data)\n",
        "        if self.head is None:\n",
        "            self.head = new_node\n",
        "            return\n",
        "        current_node = self.head\n",
        "        while current_node.next:\n",
        "            current_node = current_node.next\n",
        "        current_node.next = new_node\n",
        "        new_node.prev = current_node\n",
        "\n",
        "    #Fungsi penambahan dan penyisipan data\n",
        "    #Double Linked List memiliki dua pointer yaitu next dan prev pointer\n",
        "    def insert_node(self, prev_node_data, new_data):\n",
        "        new_node = Node(new_data)\n",
        "        current_node = self.head\n",
        "        if current_node is None:\n",
        "            self.head = new_node\n",
        "            return\n",
        "        if current_node.data == prev_node_data:\n",
        "            new_node.next = current_node\n",
        "            current_node.prev = new_node\n",
        "            self.head = new_node\n",
        "            return\n",
        "        while current_node and current_node.data != prev_node_data:\n",
        "            current_node = current_node.next\n",
        "        if current_node is None:\n",
        "            print(\"Node with data value {} not found\".format(prev_node_data))\n",
        "            return\n",
        "        new_node.next = current_node\n",
        "        new_node.prev = current_node.prev\n",
        "        current_node.prev.next = new_node\n",
        "        current_node.prev = new_node\n",
        "\n",
        "    #Fungsi penghapusan data\n",
        "    def delete_node(self, data):\n",
        "        current_node = self.head\n",
        "        if current_node and current_node.data == data:\n",
        "            if current_node.next is None:\n",
        "                current_node = None\n",
        "                self.head = None\n",
        "                return\n",
        "            else:\n",
        "                next_node = current_node.next\n",
        "                current_node.next = None\n",
        "                next_node.prev = None\n",
        "                current_node = None\n",
        "                self.head = next_node\n",
        "                return\n",
        "        while current_node and current_node.data != data:\n",
        "            current_node = current_node.next\n",
        "        if current_node is None:\n",
        "            return\n",
        "        if current_node.next is None:\n",
        "            current_node.prev.next = None\n",
        "            current_node = None\n",
        "            return\n",
        "        next_node = current_node.next\n",
        "        prev_node = current_node.prev\n",
        "        prev_node.next = next_node\n",
        "        next_node.prev = prev_node\n",
        "        current_node = None\n",
        "\n",
        "    #Fungsi menampilkan data\n",
        "    def display(self):\n",
        "        current_node = self.head\n",
        "        while current_node:\n",
        "            print(current_node.data)\n",
        "            current_node = current_node.next\n",
        "\n",
        "# Contoh penggunaan program\n",
        "\n",
        "#Pemanggilan Fungsi\n",
        "doubly_sll = DoubleSinglyLinkedList()\n",
        "\n",
        "print(\"Data Awal : \")\n",
        "doubly_sll.add_node(\"Pepaya\")\n",
        "doubly_sll.add_node(\"Mangga\")\n",
        "doubly_sll.add_node(\"Apel\")\n",
        "doubly_sll.display()\n",
        "print(\"Penyisipan data anggur : \")\n",
        "doubly_sll.insert_node(\"Mangga\", \"Anggur\")#Data anggur diletakkan sebelum data mangga\n",
        "doubly_sll.insert_node(\"Apel\", \"Pisang\")\n",
        "doubly_sll.display()\n",
        "print(\"Data setelah data Apel dihapus : \")\n",
        "doubly_sll.delete_node(\"Apel\")\n",
        "doubly_sll.display()"
      ],
      "metadata": {
        "colab": {
          "base_uri": "https://localhost:8080/"
        },
        "id": "fzX_519mYX7x",
        "outputId": "4d95ce44-521f-417d-ffa1-54ca799e1b6a"
      },
      "execution_count": null,
      "outputs": [
        {
          "output_type": "stream",
          "name": "stdout",
          "text": [
            "Data Awal : \n",
            "Pepaya\n",
            "Mangga\n",
            "Apel\n",
            "Penyisipan data anggur : \n",
            "Pepaya\n",
            "Anggur\n",
            "Mangga\n",
            "Pisang\n",
            "Apel\n",
            "Data setelah data Apel dihapus : \n",
            "Pepaya\n",
            "Anggur\n",
            "Mangga\n",
            "Pisang\n"
          ]
        }
      ]
    },
    {
      "cell_type": "markdown",
      "source": [
        "  * Node adalah kelas untuk merepresentasikan simpul pada linked list. Setiap simpul memiliki tiga atribut: data untuk menyimpan data, next untuk menunjukkan simpul berikutnya dalam urutan, dan prev untuk menunjukkan simpul sebelumnya dalam urutan.\n",
        "  * DoubleSinglyLinkedList adalah kelas untuk merepresentasikan linked list itu sendiri. Atribut head menunjukkan simpul pertama (head) pada linked list.\n",
        "  * Method add_node digunakan untuk menambahkan simpul baru ke linked list. Pertama, buat simpul baru dengan data yang diinput\n",
        "\n",
        "\n",
        "  **Perbedaan antara Singular Linked List dan Double Linked List terletak pada jumlah referensi atau pointer yang dimiliki oleh setiap node pada linked list tersebut.**\n",
        "\n",
        "* Singular Linked List hanya memiliki satu pointer yaitu next pointer, yang mengarah ke simpul berikutnya dalam urutan. Dalam Singular Linked List, setiap simpul hanya dapat diakses dari simpul sebelumnya dan simpul berikutnya.\n",
        "\n",
        "* Sementara itu, Double Linked List memiliki dua pointer yaitu next dan prev pointer. next pointer tetap mengarah ke simpul berikutnya, sedangkan prev pointer mengarah ke simpul sebelumnya. Dalam Double Linked List, setiap simpul dapat diakses dari simpul sebelumnya dan simpul berikutnya.\n",
        "\n",
        "* Dengan kelebihan ini, Double Linked List memungkinkan untuk melakukan operasi seperti insert atau delete simpul dengan lebih mudah dan efisien. Namun, kelemahan dari Double Linked List adalah penggunaan memori yang lebih banyak karena setiap simpul menyimpan dua pointer yaitu next dan prev pointer."
      ],
      "metadata": {
        "id": "mcmw5LDkcLD5"
      }
    },
    {
      "cell_type": "code",
      "source": [
        "#CONTOH 2 LINKED LIST, PENAMBAHAN DATA BISA DILAKUKAN PADA SEBELUM ATAU SESUDAH CURRENT DATA\n",
        "\n",
        "class Node:\n",
        "    def __init__(self, value=None):\n",
        "        self.value = value\n",
        "        self.next = None\n",
        "        self.prev = None\n",
        "\n",
        "class DoublyLinkedList:\n",
        "    def __init__(self):\n",
        "        self.head = None\n",
        "        self.tail = None\n",
        "\n",
        "    def __iter__(self):\n",
        "        node = self.head\n",
        "        while node:\n",
        "            yield node\n",
        "            node = node.next\n",
        "    \n",
        "    #  Creation of Doubly Linked List\n",
        "    def createDLL(self, nodeValue):\n",
        "        node = Node(nodeValue)\n",
        "        node.prev = None\n",
        "        node.next = None\n",
        "        self.head = node\n",
        "        self.tail = node\n",
        "        return \"The DLL is created Successfully\"\n",
        "    \n",
        "    #  Insertion Method in Doubly Linked List\n",
        "    def insertNode(self, nodeValue, location):\n",
        "        if self.head is None:\n",
        "            print(\"The node cannot be inserted\")\n",
        "        else:\n",
        "            newNode = Node(nodeValue)\n",
        "            if location == 0:#penulisan data baru diletakkan pada sebelum head\n",
        "                newNode.prev = None\n",
        "                newNode.next = self.head\n",
        "                self.head.prev = newNode\n",
        "                self.head = newNode\n",
        "            elif location == 1:#penulisan data baru diletakkan pada setelah head\n",
        "                newNode.next = None\n",
        "                newNode.prev = self.tail\n",
        "                self.tail.next = newNode\n",
        "                self.tail = newNode\n",
        "            else:\n",
        "                tempNode = self.head\n",
        "                index = 0\n",
        "                while index < location - 1:\n",
        "                    tempNode = tempNode.next\n",
        "                    index += 1\n",
        "                newNode.next = tempNode.next\n",
        "                newNode.prev = tempNode\n",
        "                newNode.next.prev = newNode\n",
        "                tempNode.next = newNode\n",
        "    \n",
        "    #  Traversal Method in Doubly Linked List\n",
        "    #Traversal  adalah proses melintasi atau mengunjungi setiap simpul atau elemen dalam struktur data seperti tree, graph, atau array. \n",
        "    #Tujuan dari traversal adalah untuk memproses setiap elemen dalam struktur data sesuai dengan kebutuhan.\n",
        "    #Kunjungan dimulai dari head\n",
        "    def traverseDLL(self):\n",
        "        if self.head is None:\n",
        "            print(\"There is not any element to traverse\")\n",
        "        else:\n",
        "            tempNode = self.head\n",
        "            while tempNode:\n",
        "                print(tempNode.value)\n",
        "                tempNode = tempNode.next\n",
        "    \n",
        "    #  Reverse Traversal Method in Doubly Linked List\n",
        "    #Kunjungan dimulai dari tail\n",
        "    def reverseTraversalDLL(self):\n",
        "        if self.head is None:\n",
        "            print(\"There is not any element to traverse\")\n",
        "        else:\n",
        "            tempNode = self.tail\n",
        "            while tempNode:\n",
        "                print(tempNode.value)\n",
        "                tempNode = tempNode.prev\n",
        "\n",
        "    # Search Method in Doubly Linked List\n",
        "    def searchDLL(self, nodeValue):\n",
        "        if self.head is None:\n",
        "            return \"There is not any element in the list\"\n",
        "        else:\n",
        "            tempNode = self.head\n",
        "            while tempNode:\n",
        "                if tempNode.value == nodeValue:\n",
        "                    return tempNode.value\n",
        "                tempNode = tempNode.next\n",
        "            return \"The node does not exist in this list\"\n",
        "\n",
        "    # Delete a node from Doubly Linked List\n",
        "    def deleteNode(self,location):\n",
        "        if self.head is None:\n",
        "            print(\"There is not any element in DLL\")\n",
        "        else:\n",
        "            if location == 0:\n",
        "                if self.head == self.tail:\n",
        "                    self.head = None\n",
        "                    self.tail = None\n",
        "                else:\n",
        "                    self.head = self.head.next\n",
        "                    self.head.prev = None\n",
        "            elif location == 1:\n",
        "                if self.head == self.tail:\n",
        "                    self.head = None\n",
        "                    self.tail = None\n",
        "                else:\n",
        "                    self.tail = self.tail.prev\n",
        "                    self.tail.next = None\n",
        "            else:\n",
        "                curNode = self.head\n",
        "                index = 0\n",
        "                while index < location - 1:\n",
        "                    curNode = curNode.next\n",
        "                    index += 1\n",
        "                curNode.next = curNode.next.next\n",
        "                curNode.next.prev = curNode\n",
        "            print(\"The node has been successfully deleted\")\n",
        "\n",
        "    # Delete entire Doubly Linked List, menghapus seluruh data\n",
        "    def deleteDLL(self):\n",
        "        if self.head is None:\n",
        "            print(\"There is not any node in DLL\")\n",
        "        else:\n",
        "            tempNode = self.head\n",
        "            while tempNode:\n",
        "                tempNode.prev = None\n",
        "                tempNode = tempNode.next\n",
        "            self.head = None\n",
        "            self.tail = None\n",
        "            print(\"The DLL has been successfully deleted\")\n",
        "\n",
        "#Pembuatan head yaitu mawar\n",
        "#Pemanggilan Fungsi\n",
        "doubyLL = DoublyLinkedList()\n",
        "doubyLL.createDLL(\"Mawar\")\n",
        "\n",
        "print([node.value for node in doubyLL]) "
      ],
      "metadata": {
        "colab": {
          "base_uri": "https://localhost:8080/"
        },
        "id": "uzHEe4ftiZwt",
        "outputId": "d1c4355e-dfb1-461b-ab93-616a1c208a48"
      },
      "execution_count": null,
      "outputs": [
        {
          "output_type": "stream",
          "name": "stdout",
          "text": [
            "['Mawar']\n"
          ]
        }
      ]
    },
    {
      "cell_type": "code",
      "source": [
        "#Penyisipan data.\n",
        "\n",
        "doubyLL.insertNode(\"Melati\",0)#0 meletakkan data di sebelum head\n",
        "doubyLL.insertNode(\"Lavender\",1)#1 meletakkan data di setelah head\n",
        "doubyLL.insertNode(\"Dandelion\",0)\n",
        "doubyLL.insertNode(\"Lily\",1)\n",
        "\n",
        "print([node.value for node in doubyLL]) "
      ],
      "metadata": {
        "colab": {
          "base_uri": "https://localhost:8080/"
        },
        "id": "9qZOAXdKjFJF",
        "outputId": "c01893f5-6a07-4666-da9d-6a9405c2f95a"
      },
      "execution_count": null,
      "outputs": [
        {
          "output_type": "stream",
          "name": "stdout",
          "text": [
            "['Dandelion', 'Melati', 'Mawar', 'Lavender', 'Lily']\n"
          ]
        }
      ]
    },
    {
      "cell_type": "code",
      "source": [
        "doubyLL.deleteDLL()\n",
        "print([node.value for node in doubyLL]) "
      ],
      "metadata": {
        "colab": {
          "base_uri": "https://localhost:8080/"
        },
        "id": "mx_Lh6RFjKWe",
        "outputId": "03b53c3d-d37c-46a5-ebe1-231c17809c25"
      },
      "execution_count": null,
      "outputs": [
        {
          "output_type": "stream",
          "name": "stdout",
          "text": [
            "The DLL has been successfully deleted\n",
            "[]\n"
          ]
        }
      ]
    },
    {
      "cell_type": "markdown",
      "source": [
        "**TUGAS 2**\n",
        "\n",
        "* Buatlah aplikasi double Linked List, terdapat penampilan data awal, penyisipan data, dan penghapusan data.\n",
        "* Buat keterangan program."
      ],
      "metadata": {
        "id": "d0cp52j3j8qL"
      }
    },
    {
      "cell_type": "markdown",
      "source": [
        "# Contoh Program Circular Linked List"
      ],
      "metadata": {
        "id": "EXsSYngzdPXT"
      }
    },
    {
      "cell_type": "code",
      "source": [
        "class Node:\n",
        "    def __init__(self, data=None):\n",
        "        self.data = data\n",
        "        self.next = None\n",
        "\n",
        "class CircularLinkedList:\n",
        "    def __init__(self):\n",
        "        self.head = None\n",
        "\n",
        "    #Fungsi pembuatan head\n",
        "    def add_node(self, data):\n",
        "        new_node = Node(data)\n",
        "        if self.head is None:\n",
        "            self.head = new_node\n",
        "            new_node.next = self.head\n",
        "            return\n",
        "        current_node = self.head\n",
        "        while current_node.next != self.head #menunjukkan simpul terakhir menunjuk ke simpul head\n",
        "            current_node = current_node.next\n",
        "        current_node.next = new_node\n",
        "        new_node.next = self.head\n",
        "        self.head = new_node\n",
        "\n",
        "    #Fungsi penambahan node\n",
        "    def insert_node(self, prev_node_data, new_data):\n",
        "        new_node = Node(new_data)\n",
        "        if self.head is None:\n",
        "            self.head = new_node\n",
        "            new_node.next = self.head\n",
        "            return\n",
        "        if self.head.data == prev_node_data:\n",
        "            new_node.next = self.head\n",
        "            self.head.next = new_node\n",
        "            self.head = new_node\n",
        "            return\n",
        "        current_node = self.head\n",
        "        while current_node.next != self.head and current_node.data != prev_node_data:\n",
        "            current_node = current_node.next\n",
        "        if current_node.next == self.head and current_node.data != prev_node_data:\n",
        "            print(\"Node with data value {} not found\".format(prev_node_data))\n",
        "            return\n",
        "        new_node.next = current_node.next\n",
        "        current_node.next = new_node\n",
        "\n",
        "    #Fungsi penghapusan data\n",
        "    def delete_node(self, data):\n",
        "        current_node = self.head\n",
        "        if current_node is None:\n",
        "            print(\"List is empty\")\n",
        "            return\n",
        "        if current_node.data == data:\n",
        "            while current_node.next != self.head:\n",
        "                current_node = current_node.next\n",
        "            current_node.next = self.head.next\n",
        "            self.head = self.head.next\n",
        "            return\n",
        "        prev_node = None\n",
        "        while current_node.next != self.head and current_node.data != data:\n",
        "            prev_node = current_node\n",
        "            current_node = current_node.next\n",
        "        if current_node.data != data:\n",
        "            print(\"Node with data value {} not found\".format(data))\n",
        "            return\n",
        "        prev_node.next = current_node.next\n",
        "\n",
        "    #Fungsi menampilkan data\n",
        "    def display(self):\n",
        "        current_node = self.head\n",
        "        if self.head is None:\n",
        "            print(\"List is empty\")\n",
        "            return\n",
        "        while current_node.next != self.head:\n",
        "            print(current_node.data)\n",
        "            current_node = current_node.next\n",
        "        print(current_node.data)\n",
        "\n",
        "# Contoh penggunaan program\n",
        "\n",
        "#Pemanggilan Fungsi\n",
        "circular_ll = CircularLinkedList()\n",
        "\n",
        "print(\"Data awal : \")\n",
        "circular_ll.add_node(1)\n",
        "circular_ll.add_node(2)\n",
        "circular_ll.add_node(3)\n",
        "circular_ll.display()\n",
        "\n",
        "print(\"Penyisipan data : \")\n",
        "circular_ll.insert_node(2, 4)\n",
        "circular_ll.display()\n",
        "\n",
        "print(\"Data setelah data 2 dihapus\")\n",
        "circular_ll.delete_node(2)\n",
        "circular_ll.display()"
      ],
      "metadata": {
        "colab": {
          "base_uri": "https://localhost:8080/"
        },
        "id": "kL71spaBdQK0",
        "outputId": "338e2cdc-1fcd-4710-d8dd-e702d847cc70"
      },
      "execution_count": null,
      "outputs": [
        {
          "output_type": "stream",
          "name": "stdout",
          "text": [
            "Data awal : \n",
            "3\n",
            "2\n",
            "1\n",
            "Penyisipan data : \n",
            "3\n",
            "2\n",
            "4\n",
            "1\n",
            "Data setelah data 2 dihapus\n",
            "3\n",
            "4\n",
            "1\n"
          ]
        }
      ]
    },
    {
      "cell_type": "markdown",
      "source": [
        "Keterangan program:\n",
        "\n",
        "  * Node adalah kelas untuk merepresentasikan simpul pada linked list. Setiap simpul memiliki dua atribut: data untuk menyimpan data, dan next untuk menunjukkan simpul berikutnya dalam urutan.\n",
        "  * CircularLinkedList adalah kelas untuk merepresentasikan linked list itu sendiri. Atribut head menunjukkan simpul pertama (head) pada linked list.\n",
        "  * Method add_node digunakan untuk menambahkan simpul baru ke linked list. Jika linked list masih kosong, buat simpul baru dan jadikan simpul tersebut sebagai head. Jika tidak, cari simpul terakhir pada linked list dan tambahkan simpul baru setelah simpul.\n",
        "\n",
        "\n",
        "  **Perbedaan antara Circular Linked List dengan linked list biasa** (seperti Singular Linked List atau Double Linked List) adalah bahwa pada Circular Linked List, simpul terakhir tidak hanya menunjuk ke simpul berikutnya, tetapi juga kembali menunjuk ke simpul pertama atau head. Dengan kata lain, Circular Linked List membentuk sebuah lingkaran (circular) dari simpul-simpulnya.\n",
        "\n",
        "Hal ini memungkinkan untuk menjelajahi linked list dari mana saja, tidak hanya dari head ke tail. Selain itu, penghapusan atau penyisipan simpul pada Circular Linked List juga menjadi lebih mudah karena simpul terakhir pada Circular Linked List dapat dengan mudah diakses melalui pointer dari simpul pertama atau head."
      ],
      "metadata": {
        "id": "vW-7SGEylgTC"
      }
    },
    {
      "cell_type": "markdown",
      "source": [
        "**TUGAS 3**\n",
        "\n",
        "Buatlah aplikasi circular Linked List, terdapat penampilan data awal, penyisipan data, dan penghapusan data.\n",
        "Buat keterangan program."
      ],
      "metadata": {
        "id": "b_WKPiFPnSmW"
      }
    }
  ]
}